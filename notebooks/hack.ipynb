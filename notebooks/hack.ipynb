{
 "cells": [
  {
   "cell_type": "code",
   "execution_count": 1,
   "metadata": {},
   "outputs": [],
   "source": [
    "import os\n",
    "from pathlib import Path\n",
    "from ultralytics import YOLO\n",
    "from ultralytics import settings"
   ]
  },
  {
   "cell_type": "code",
   "execution_count": 2,
   "metadata": {},
   "outputs": [],
   "source": [
    "settings.update({\"mlflow\": True})"
   ]
  },
  {
   "cell_type": "code",
   "execution_count": 3,
   "metadata": {},
   "outputs": [],
   "source": [
    "\n",
    "\n",
    "# Get the current notebook directory\n",
    "notebook_dir = \"/home/vinay/cargo-safety-v2/hack_data\"\n",
    "\n",
    "# Load a model\n",
    "model = YOLO(\"yolo11n.pt\")  # load a pretrained model\n",
    "\n",
    "# Create an absolute path to your data.yaml file\n",
    "data_yaml_path = str(Path(os.path.join(notebook_dir, \"data.yaml\")).resolve())"
   ]
  },
  {
   "cell_type": "code",
   "execution_count": 4,
   "metadata": {},
   "outputs": [
    {
     "data": {
      "text/plain": [
       "'/home/vinay/cargo-safety-v2/hack_data/data.yaml'"
      ]
     },
     "execution_count": 4,
     "metadata": {},
     "output_type": "execute_result"
    }
   ],
   "source": [
    "data_yaml_path"
   ]
  },
  {
   "cell_type": "code",
   "execution_count": 5,
   "metadata": {},
   "outputs": [],
   "source": [
    "from datetime import datetime\n",
    "\n",
    "name = datetime.now().strftime(\"%Y%m%d_%H%M%S\")"
   ]
  },
  {
   "cell_type": "code",
   "execution_count": 9,
   "metadata": {},
   "outputs": [
    {
     "name": "stdout",
     "output_type": "stream",
     "text": [
      "New https://pypi.org/project/ultralytics/8.3.80 available 😃 Update with 'pip install -U ultralytics'\n",
      "Ultralytics 8.3.49 🚀 Python-3.12.0 torch-2.5.1+cu124 CUDA:0 (NVIDIA GeForce GTX TITAN X, 12197MiB)\n",
      "\u001b[34m\u001b[1mengine/trainer: \u001b[0mtask=detect, mode=train, model=yolo11n.pt, data=/home/vinay/cargo-safety-v2/hack_data/data.yaml, epochs=50, time=None, patience=5, batch=16, imgsz=640, save=True, save_period=-1, cache=False, device=None, workers=8, project=hackathon, name=20250227_1252334, exist_ok=False, pretrained=True, optimizer=auto, verbose=True, seed=0, deterministic=True, single_cls=False, rect=False, cos_lr=False, close_mosaic=10, resume=False, amp=True, fraction=1.0, profile=False, freeze=None, multi_scale=False, overlap_mask=True, mask_ratio=4, dropout=0.0, val=True, split=val, save_json=False, save_hybrid=False, conf=None, iou=0.7, max_det=300, half=False, dnn=False, plots=True, source=None, vid_stride=1, stream_buffer=False, visualize=False, augment=False, agnostic_nms=False, classes=None, retina_masks=False, embed=None, show=False, save_frames=False, save_txt=False, save_conf=False, save_crop=False, show_labels=True, show_conf=True, show_boxes=True, line_width=None, format=torchscript, keras=False, optimize=False, int8=False, dynamic=False, simplify=True, opset=None, workspace=None, nms=False, lr0=0.01, lrf=0.01, momentum=0.937, weight_decay=0.0005, warmup_epochs=3.0, warmup_momentum=0.8, warmup_bias_lr=0.1, box=7.5, cls=0.5, dfl=1.5, pose=12.0, kobj=1.0, nbs=64, hsv_h=0.015, hsv_s=0.7, hsv_v=0.4, degrees=0.0, translate=0.1, scale=0.5, shear=0.0, perspective=0.0, flipud=0.0, fliplr=0.5, bgr=0.0, mosaic=1.0, mixup=0.0, copy_paste=0.0, copy_paste_mode=flip, auto_augment=randaugment, erasing=0.4, crop_fraction=1.0, cfg=None, tracker=botsort.yaml, save_dir=hackathon/20250227_1252334\n",
      "\n",
      "                   from  n    params  module                                       arguments                     \n",
      "  0                  -1  1       464  ultralytics.nn.modules.conv.Conv             [3, 16, 3, 2]                 \n",
      "  1                  -1  1      4672  ultralytics.nn.modules.conv.Conv             [16, 32, 3, 2]                \n",
      "  2                  -1  1      6640  ultralytics.nn.modules.block.C3k2            [32, 64, 1, False, 0.25]      \n",
      "  3                  -1  1     36992  ultralytics.nn.modules.conv.Conv             [64, 64, 3, 2]                \n",
      "  4                  -1  1     26080  ultralytics.nn.modules.block.C3k2            [64, 128, 1, False, 0.25]     \n",
      "  5                  -1  1    147712  ultralytics.nn.modules.conv.Conv             [128, 128, 3, 2]              \n",
      "  6                  -1  1     87040  ultralytics.nn.modules.block.C3k2            [128, 128, 1, True]           \n",
      "  7                  -1  1    295424  ultralytics.nn.modules.conv.Conv             [128, 256, 3, 2]              \n",
      "  8                  -1  1    346112  ultralytics.nn.modules.block.C3k2            [256, 256, 1, True]           \n",
      "  9                  -1  1    164608  ultralytics.nn.modules.block.SPPF            [256, 256, 5]                 \n",
      " 10                  -1  1    249728  ultralytics.nn.modules.block.C2PSA           [256, 256, 1]                 \n",
      " 11                  -1  1         0  torch.nn.modules.upsampling.Upsample         [None, 2, 'nearest']          \n",
      " 12             [-1, 6]  1         0  ultralytics.nn.modules.conv.Concat           [1]                           \n",
      " 13                  -1  1    111296  ultralytics.nn.modules.block.C3k2            [384, 128, 1, False]          \n",
      " 14                  -1  1         0  torch.nn.modules.upsampling.Upsample         [None, 2, 'nearest']          \n",
      " 15             [-1, 4]  1         0  ultralytics.nn.modules.conv.Concat           [1]                           \n",
      " 16                  -1  1     32096  ultralytics.nn.modules.block.C3k2            [256, 64, 1, False]           \n",
      " 17                  -1  1     36992  ultralytics.nn.modules.conv.Conv             [64, 64, 3, 2]                \n",
      " 18            [-1, 13]  1         0  ultralytics.nn.modules.conv.Concat           [1]                           \n",
      " 19                  -1  1     86720  ultralytics.nn.modules.block.C3k2            [192, 128, 1, False]          \n",
      " 20                  -1  1    147712  ultralytics.nn.modules.conv.Conv             [128, 128, 3, 2]              \n",
      " 21            [-1, 10]  1         0  ultralytics.nn.modules.conv.Concat           [1]                           \n",
      " 22                  -1  1    378880  ultralytics.nn.modules.block.C3k2            [384, 256, 1, True]           \n",
      " 23        [16, 19, 22]  1    430867  ultralytics.nn.modules.head.Detect           [1, [64, 128, 256]]           \n",
      "YOLO11n summary: 319 layers, 2,590,035 parameters, 2,590,019 gradients, 6.4 GFLOPs\n",
      "\n",
      "Transferred 499/499 items from pretrained weights\n",
      "Freezing layer 'model.23.dfl.conv.weight'\n",
      "\u001b[34m\u001b[1mAMP: \u001b[0mrunning Automatic Mixed Precision (AMP) checks...\n",
      "\u001b[34m\u001b[1mAMP: \u001b[0mchecks passed ✅\n"
     ]
    },
    {
     "name": "stderr",
     "output_type": "stream",
     "text": [
      "\u001b[34m\u001b[1mtrain: \u001b[0mScanning /home/vinay/cargo-safety-v2/hack_data/train/labels.cache... 1446 images, 0 backgrounds, 0 corrupt: 100%|██████████| 1446/1446 [00:00<?, ?it/s]\n",
      "\u001b[34m\u001b[1mval: \u001b[0mScanning /home/vinay/cargo-safety-v2/hack_data/valid/labels.cache... 55 images, 0 backgrounds, 0 corrupt: 100%|██████████| 55/55 [00:00<?, ?it/s]\n"
     ]
    },
    {
     "name": "stdout",
     "output_type": "stream",
     "text": [
      "Plotting labels to hackathon/20250227_1252334/labels.jpg... \n",
      "\u001b[34m\u001b[1moptimizer:\u001b[0m 'optimizer=auto' found, ignoring 'lr0=0.01' and 'momentum=0.937' and determining best 'optimizer', 'lr0' and 'momentum' automatically... \n",
      "\u001b[34m\u001b[1moptimizer:\u001b[0m AdamW(lr=0.002, momentum=0.9) with parameter groups 81 weight(decay=0.0), 88 weight(decay=0.0005), 87 bias(decay=0.0)\n",
      "\u001b[34m\u001b[1mMLflow: \u001b[0mlogging run_id(ff84aab879a04dbe879e8e6855352585) to runs/mlflow\n",
      "\u001b[34m\u001b[1mMLflow: \u001b[0mview at http://127.0.0.1:5000 with 'mlflow server --backend-store-uri runs/mlflow'\n",
      "\u001b[34m\u001b[1mMLflow: \u001b[0mdisable with 'yolo settings mlflow=False'\n",
      "\u001b[34m\u001b[1mMLflow: \u001b[0mWARNING ⚠️ Failed to initialize: Changing param values is not allowed. Param with key='epochs' was already logged with value='100' for run ID='ff84aab879a04dbe879e8e6855352585'. Attempted logging new value '50'.\n",
      "\u001b[34m\u001b[1mMLflow: \u001b[0mWARNING ⚠️ Not tracking this run\n",
      "Image sizes 640 train, 640 val\n",
      "Using 8 dataloader workers\n",
      "Logging results to \u001b[1mhackathon/20250227_1252334\u001b[0m\n",
      "Starting training for 50 epochs...\n",
      "\n",
      "      Epoch    GPU_mem   box_loss   cls_loss   dfl_loss  Instances       Size\n"
     ]
    },
    {
     "name": "stderr",
     "output_type": "stream",
     "text": [
      "       1/50      4.98G     0.3048     0.2326     0.8415         62        640: 100%|██████████| 91/91 [00:25<00:00,  3.56it/s]\n",
      "                 Class     Images  Instances      Box(P          R      mAP50  mAP50-95): 100%|██████████| 2/2 [00:00<00:00,  5.62it/s]"
     ]
    },
    {
     "name": "stdout",
     "output_type": "stream",
     "text": [
      "                   all         55        387      0.967      0.921      0.981      0.928\n"
     ]
    },
    {
     "name": "stderr",
     "output_type": "stream",
     "text": [
      "\n"
     ]
    },
    {
     "name": "stdout",
     "output_type": "stream",
     "text": [
      "\n",
      "      Epoch    GPU_mem   box_loss   cls_loss   dfl_loss  Instances       Size\n"
     ]
    },
    {
     "name": "stderr",
     "output_type": "stream",
     "text": [
      "       2/50      2.78G     0.3225     0.2517     0.8459         67        640: 100%|██████████| 91/91 [00:25<00:00,  3.64it/s]\n",
      "                 Class     Images  Instances      Box(P          R      mAP50  mAP50-95): 100%|██████████| 2/2 [00:00<00:00,  5.57it/s]"
     ]
    },
    {
     "name": "stdout",
     "output_type": "stream",
     "text": [
      "                   all         55        387      0.957      0.922      0.978      0.932\n"
     ]
    },
    {
     "name": "stderr",
     "output_type": "stream",
     "text": [
      "\n"
     ]
    },
    {
     "name": "stdout",
     "output_type": "stream",
     "text": [
      "\n",
      "      Epoch    GPU_mem   box_loss   cls_loss   dfl_loss  Instances       Size\n"
     ]
    },
    {
     "name": "stderr",
     "output_type": "stream",
     "text": [
      "       3/50      2.77G     0.3497     0.2877     0.8564         95        640: 100%|██████████| 91/91 [00:24<00:00,  3.66it/s]\n",
      "                 Class     Images  Instances      Box(P          R      mAP50  mAP50-95): 100%|██████████| 2/2 [00:00<00:00,  5.61it/s]"
     ]
    },
    {
     "name": "stdout",
     "output_type": "stream",
     "text": [
      "                   all         55        387      0.919      0.915      0.955      0.893\n"
     ]
    },
    {
     "name": "stderr",
     "output_type": "stream",
     "text": [
      "\n"
     ]
    },
    {
     "name": "stdout",
     "output_type": "stream",
     "text": [
      "\n",
      "      Epoch    GPU_mem   box_loss   cls_loss   dfl_loss  Instances       Size\n"
     ]
    },
    {
     "name": "stderr",
     "output_type": "stream",
     "text": [
      "       4/50      2.88G      0.358     0.2946     0.8585         95        640: 100%|██████████| 91/91 [00:25<00:00,  3.62it/s]\n",
      "                 Class     Images  Instances      Box(P          R      mAP50  mAP50-95): 100%|██████████| 2/2 [00:00<00:00,  5.36it/s]"
     ]
    },
    {
     "name": "stdout",
     "output_type": "stream",
     "text": [
      "                   all         55        387      0.952      0.907      0.966      0.905\n"
     ]
    },
    {
     "name": "stderr",
     "output_type": "stream",
     "text": [
      "\n"
     ]
    },
    {
     "name": "stdout",
     "output_type": "stream",
     "text": [
      "\n",
      "      Epoch    GPU_mem   box_loss   cls_loss   dfl_loss  Instances       Size\n"
     ]
    },
    {
     "name": "stderr",
     "output_type": "stream",
     "text": [
      "       5/50      2.96G     0.3531     0.2905     0.8515         75        640: 100%|██████████| 91/91 [00:25<00:00,  3.60it/s]\n",
      "                 Class     Images  Instances      Box(P          R      mAP50  mAP50-95): 100%|██████████| 2/2 [00:00<00:00,  5.50it/s]"
     ]
    },
    {
     "name": "stdout",
     "output_type": "stream",
     "text": [
      "                   all         55        387      0.961      0.917      0.982      0.926\n"
     ]
    },
    {
     "name": "stderr",
     "output_type": "stream",
     "text": [
      "\n"
     ]
    },
    {
     "name": "stdout",
     "output_type": "stream",
     "text": [
      "\n",
      "      Epoch    GPU_mem   box_loss   cls_loss   dfl_loss  Instances       Size\n"
     ]
    },
    {
     "name": "stderr",
     "output_type": "stream",
     "text": [
      "       6/50      2.75G     0.3536     0.2864     0.8573         51        640: 100%|██████████| 91/91 [00:25<00:00,  3.64it/s]\n",
      "                 Class     Images  Instances      Box(P          R      mAP50  mAP50-95): 100%|██████████| 2/2 [00:00<00:00,  5.53it/s]"
     ]
    },
    {
     "name": "stdout",
     "output_type": "stream",
     "text": [
      "                   all         55        387      0.916      0.946      0.974      0.915\n"
     ]
    },
    {
     "name": "stderr",
     "output_type": "stream",
     "text": [
      "\n"
     ]
    },
    {
     "name": "stdout",
     "output_type": "stream",
     "text": [
      "\n",
      "      Epoch    GPU_mem   box_loss   cls_loss   dfl_loss  Instances       Size\n"
     ]
    },
    {
     "name": "stderr",
     "output_type": "stream",
     "text": [
      "       7/50      2.73G     0.3455     0.2806     0.8557         91        640: 100%|██████████| 91/91 [00:24<00:00,  3.64it/s]\n",
      "                 Class     Images  Instances      Box(P          R      mAP50  mAP50-95): 100%|██████████| 2/2 [00:00<00:00,  5.53it/s]"
     ]
    },
    {
     "name": "stdout",
     "output_type": "stream",
     "text": [
      "                   all         55        387      0.947      0.917      0.973      0.918\n",
      "\u001b[34m\u001b[1mEarlyStopping: \u001b[0mTraining stopped early as no improvement observed in last 5 epochs. Best results observed at epoch 2, best model saved as best.pt.\n",
      "To update EarlyStopping(patience=5) pass a new patience value, i.e. `patience=300` or use `patience=0` to disable EarlyStopping.\n"
     ]
    },
    {
     "name": "stderr",
     "output_type": "stream",
     "text": [
      "\n"
     ]
    },
    {
     "name": "stdout",
     "output_type": "stream",
     "text": [
      "\n",
      "7 epochs completed in 0.051 hours.\n",
      "Optimizer stripped from hackathon/20250227_1252334/weights/last.pt, 5.5MB\n",
      "Optimizer stripped from hackathon/20250227_1252334/weights/best.pt, 5.5MB\n",
      "\n",
      "Validating hackathon/20250227_1252334/weights/best.pt...\n",
      "Ultralytics 8.3.49 🚀 Python-3.12.0 torch-2.5.1+cu124 CUDA:0 (NVIDIA GeForce GTX TITAN X, 12197MiB)\n",
      "YOLO11n summary (fused): 238 layers, 2,582,347 parameters, 0 gradients, 6.3 GFLOPs\n"
     ]
    },
    {
     "name": "stderr",
     "output_type": "stream",
     "text": [
      "                 Class     Images  Instances      Box(P          R      mAP50  mAP50-95): 100%|██████████| 2/2 [00:00<00:00,  4.79it/s]\n"
     ]
    },
    {
     "name": "stdout",
     "output_type": "stream",
     "text": [
      "                   all         55        387      0.957      0.922      0.978      0.932\n",
      "Speed: 0.2ms preprocess, 4.1ms inference, 0.0ms loss, 0.5ms postprocess per image\n",
      "Results saved to \u001b[1mhackathon/20250227_1252334\u001b[0m\n",
      "\u001b[34m\u001b[1mMLflow: \u001b[0mresults logged to runs/mlflow\n",
      "\u001b[34m\u001b[1mMLflow: \u001b[0mdisable with 'yolo settings mlflow=False'\n"
     ]
    },
    {
     "data": {
      "text/plain": [
       "ultralytics.utils.metrics.DetMetrics object with attributes:\n",
       "\n",
       "ap_class_index: array([0])\n",
       "box: ultralytics.utils.metrics.Metric object\n",
       "confusion_matrix: <ultralytics.utils.metrics.ConfusionMatrix object at 0x75fb78848bc0>\n",
       "curves: ['Precision-Recall(B)', 'F1-Confidence(B)', 'Precision-Confidence(B)', 'Recall-Confidence(B)']\n",
       "curves_results: [[array([          0,    0.001001,    0.002002,    0.003003,    0.004004,    0.005005,    0.006006,    0.007007,    0.008008,    0.009009,     0.01001,    0.011011,    0.012012,    0.013013,    0.014014,    0.015015,    0.016016,    0.017017,    0.018018,    0.019019,     0.02002,    0.021021,    0.022022,    0.023023,\n",
       "          0.024024,    0.025025,    0.026026,    0.027027,    0.028028,    0.029029,     0.03003,    0.031031,    0.032032,    0.033033,    0.034034,    0.035035,    0.036036,    0.037037,    0.038038,    0.039039,     0.04004,    0.041041,    0.042042,    0.043043,    0.044044,    0.045045,    0.046046,    0.047047,\n",
       "          0.048048,    0.049049,     0.05005,    0.051051,    0.052052,    0.053053,    0.054054,    0.055055,    0.056056,    0.057057,    0.058058,    0.059059,     0.06006,    0.061061,    0.062062,    0.063063,    0.064064,    0.065065,    0.066066,    0.067067,    0.068068,    0.069069,     0.07007,    0.071071,\n",
       "          0.072072,    0.073073,    0.074074,    0.075075,    0.076076,    0.077077,    0.078078,    0.079079,     0.08008,    0.081081,    0.082082,    0.083083,    0.084084,    0.085085,    0.086086,    0.087087,    0.088088,    0.089089,     0.09009,    0.091091,    0.092092,    0.093093,    0.094094,    0.095095,\n",
       "          0.096096,    0.097097,    0.098098,    0.099099,      0.1001,      0.1011,      0.1021,      0.1031,      0.1041,     0.10511,     0.10611,     0.10711,     0.10811,     0.10911,     0.11011,     0.11111,     0.11211,     0.11311,     0.11411,     0.11512,     0.11612,     0.11712,     0.11812,     0.11912,\n",
       "           0.12012,     0.12112,     0.12212,     0.12312,     0.12412,     0.12513,     0.12613,     0.12713,     0.12813,     0.12913,     0.13013,     0.13113,     0.13213,     0.13313,     0.13413,     0.13514,     0.13614,     0.13714,     0.13814,     0.13914,     0.14014,     0.14114,     0.14214,     0.14314,\n",
       "           0.14414,     0.14515,     0.14615,     0.14715,     0.14815,     0.14915,     0.15015,     0.15115,     0.15215,     0.15315,     0.15415,     0.15516,     0.15616,     0.15716,     0.15816,     0.15916,     0.16016,     0.16116,     0.16216,     0.16316,     0.16416,     0.16517,     0.16617,     0.16717,\n",
       "           0.16817,     0.16917,     0.17017,     0.17117,     0.17217,     0.17317,     0.17417,     0.17518,     0.17618,     0.17718,     0.17818,     0.17918,     0.18018,     0.18118,     0.18218,     0.18318,     0.18418,     0.18519,     0.18619,     0.18719,     0.18819,     0.18919,     0.19019,     0.19119,\n",
       "           0.19219,     0.19319,     0.19419,      0.1952,      0.1962,      0.1972,      0.1982,      0.1992,      0.2002,      0.2012,      0.2022,      0.2032,      0.2042,     0.20521,     0.20621,     0.20721,     0.20821,     0.20921,     0.21021,     0.21121,     0.21221,     0.21321,     0.21421,     0.21522,\n",
       "           0.21622,     0.21722,     0.21822,     0.21922,     0.22022,     0.22122,     0.22222,     0.22322,     0.22422,     0.22523,     0.22623,     0.22723,     0.22823,     0.22923,     0.23023,     0.23123,     0.23223,     0.23323,     0.23423,     0.23524,     0.23624,     0.23724,     0.23824,     0.23924,\n",
       "           0.24024,     0.24124,     0.24224,     0.24324,     0.24424,     0.24525,     0.24625,     0.24725,     0.24825,     0.24925,     0.25025,     0.25125,     0.25225,     0.25325,     0.25425,     0.25526,     0.25626,     0.25726,     0.25826,     0.25926,     0.26026,     0.26126,     0.26226,     0.26326,\n",
       "           0.26426,     0.26527,     0.26627,     0.26727,     0.26827,     0.26927,     0.27027,     0.27127,     0.27227,     0.27327,     0.27427,     0.27528,     0.27628,     0.27728,     0.27828,     0.27928,     0.28028,     0.28128,     0.28228,     0.28328,     0.28428,     0.28529,     0.28629,     0.28729,\n",
       "           0.28829,     0.28929,     0.29029,     0.29129,     0.29229,     0.29329,     0.29429,      0.2953,      0.2963,      0.2973,      0.2983,      0.2993,      0.3003,      0.3013,      0.3023,      0.3033,      0.3043,     0.30531,     0.30631,     0.30731,     0.30831,     0.30931,     0.31031,     0.31131,\n",
       "           0.31231,     0.31331,     0.31431,     0.31532,     0.31632,     0.31732,     0.31832,     0.31932,     0.32032,     0.32132,     0.32232,     0.32332,     0.32432,     0.32533,     0.32633,     0.32733,     0.32833,     0.32933,     0.33033,     0.33133,     0.33233,     0.33333,     0.33433,     0.33534,\n",
       "           0.33634,     0.33734,     0.33834,     0.33934,     0.34034,     0.34134,     0.34234,     0.34334,     0.34434,     0.34535,     0.34635,     0.34735,     0.34835,     0.34935,     0.35035,     0.35135,     0.35235,     0.35335,     0.35435,     0.35536,     0.35636,     0.35736,     0.35836,     0.35936,\n",
       "           0.36036,     0.36136,     0.36236,     0.36336,     0.36436,     0.36537,     0.36637,     0.36737,     0.36837,     0.36937,     0.37037,     0.37137,     0.37237,     0.37337,     0.37437,     0.37538,     0.37638,     0.37738,     0.37838,     0.37938,     0.38038,     0.38138,     0.38238,     0.38338,\n",
       "           0.38438,     0.38539,     0.38639,     0.38739,     0.38839,     0.38939,     0.39039,     0.39139,     0.39239,     0.39339,     0.39439,      0.3954,      0.3964,      0.3974,      0.3984,      0.3994,      0.4004,      0.4014,      0.4024,      0.4034,      0.4044,     0.40541,     0.40641,     0.40741,\n",
       "           0.40841,     0.40941,     0.41041,     0.41141,     0.41241,     0.41341,     0.41441,     0.41542,     0.41642,     0.41742,     0.41842,     0.41942,     0.42042,     0.42142,     0.42242,     0.42342,     0.42442,     0.42543,     0.42643,     0.42743,     0.42843,     0.42943,     0.43043,     0.43143,\n",
       "           0.43243,     0.43343,     0.43443,     0.43544,     0.43644,     0.43744,     0.43844,     0.43944,     0.44044,     0.44144,     0.44244,     0.44344,     0.44444,     0.44545,     0.44645,     0.44745,     0.44845,     0.44945,     0.45045,     0.45145,     0.45245,     0.45345,     0.45445,     0.45546,\n",
       "           0.45646,     0.45746,     0.45846,     0.45946,     0.46046,     0.46146,     0.46246,     0.46346,     0.46446,     0.46547,     0.46647,     0.46747,     0.46847,     0.46947,     0.47047,     0.47147,     0.47247,     0.47347,     0.47447,     0.47548,     0.47648,     0.47748,     0.47848,     0.47948,\n",
       "           0.48048,     0.48148,     0.48248,     0.48348,     0.48448,     0.48549,     0.48649,     0.48749,     0.48849,     0.48949,     0.49049,     0.49149,     0.49249,     0.49349,     0.49449,      0.4955,      0.4965,      0.4975,      0.4985,      0.4995,      0.5005,      0.5015,      0.5025,      0.5035,\n",
       "            0.5045,     0.50551,     0.50651,     0.50751,     0.50851,     0.50951,     0.51051,     0.51151,     0.51251,     0.51351,     0.51451,     0.51552,     0.51652,     0.51752,     0.51852,     0.51952,     0.52052,     0.52152,     0.52252,     0.52352,     0.52452,     0.52553,     0.52653,     0.52753,\n",
       "           0.52853,     0.52953,     0.53053,     0.53153,     0.53253,     0.53353,     0.53453,     0.53554,     0.53654,     0.53754,     0.53854,     0.53954,     0.54054,     0.54154,     0.54254,     0.54354,     0.54454,     0.54555,     0.54655,     0.54755,     0.54855,     0.54955,     0.55055,     0.55155,\n",
       "           0.55255,     0.55355,     0.55455,     0.55556,     0.55656,     0.55756,     0.55856,     0.55956,     0.56056,     0.56156,     0.56256,     0.56356,     0.56456,     0.56557,     0.56657,     0.56757,     0.56857,     0.56957,     0.57057,     0.57157,     0.57257,     0.57357,     0.57457,     0.57558,\n",
       "           0.57658,     0.57758,     0.57858,     0.57958,     0.58058,     0.58158,     0.58258,     0.58358,     0.58458,     0.58559,     0.58659,     0.58759,     0.58859,     0.58959,     0.59059,     0.59159,     0.59259,     0.59359,     0.59459,      0.5956,      0.5966,      0.5976,      0.5986,      0.5996,\n",
       "            0.6006,      0.6016,      0.6026,      0.6036,      0.6046,     0.60561,     0.60661,     0.60761,     0.60861,     0.60961,     0.61061,     0.61161,     0.61261,     0.61361,     0.61461,     0.61562,     0.61662,     0.61762,     0.61862,     0.61962,     0.62062,     0.62162,     0.62262,     0.62362,\n",
       "           0.62462,     0.62563,     0.62663,     0.62763,     0.62863,     0.62963,     0.63063,     0.63163,     0.63263,     0.63363,     0.63463,     0.63564,     0.63664,     0.63764,     0.63864,     0.63964,     0.64064,     0.64164,     0.64264,     0.64364,     0.64464,     0.64565,     0.64665,     0.64765,\n",
       "           0.64865,     0.64965,     0.65065,     0.65165,     0.65265,     0.65365,     0.65465,     0.65566,     0.65666,     0.65766,     0.65866,     0.65966,     0.66066,     0.66166,     0.66266,     0.66366,     0.66466,     0.66567,     0.66667,     0.66767,     0.66867,     0.66967,     0.67067,     0.67167,\n",
       "           0.67267,     0.67367,     0.67467,     0.67568,     0.67668,     0.67768,     0.67868,     0.67968,     0.68068,     0.68168,     0.68268,     0.68368,     0.68468,     0.68569,     0.68669,     0.68769,     0.68869,     0.68969,     0.69069,     0.69169,     0.69269,     0.69369,     0.69469,      0.6957,\n",
       "            0.6967,      0.6977,      0.6987,      0.6997,      0.7007,      0.7017,      0.7027,      0.7037,      0.7047,     0.70571,     0.70671,     0.70771,     0.70871,     0.70971,     0.71071,     0.71171,     0.71271,     0.71371,     0.71471,     0.71572,     0.71672,     0.71772,     0.71872,     0.71972,\n",
       "           0.72072,     0.72172,     0.72272,     0.72372,     0.72472,     0.72573,     0.72673,     0.72773,     0.72873,     0.72973,     0.73073,     0.73173,     0.73273,     0.73373,     0.73473,     0.73574,     0.73674,     0.73774,     0.73874,     0.73974,     0.74074,     0.74174,     0.74274,     0.74374,\n",
       "           0.74474,     0.74575,     0.74675,     0.74775,     0.74875,     0.74975,     0.75075,     0.75175,     0.75275,     0.75375,     0.75475,     0.75576,     0.75676,     0.75776,     0.75876,     0.75976,     0.76076,     0.76176,     0.76276,     0.76376,     0.76476,     0.76577,     0.76677,     0.76777,\n",
       "           0.76877,     0.76977,     0.77077,     0.77177,     0.77277,     0.77377,     0.77477,     0.77578,     0.77678,     0.77778,     0.77878,     0.77978,     0.78078,     0.78178,     0.78278,     0.78378,     0.78478,     0.78579,     0.78679,     0.78779,     0.78879,     0.78979,     0.79079,     0.79179,\n",
       "           0.79279,     0.79379,     0.79479,      0.7958,      0.7968,      0.7978,      0.7988,      0.7998,      0.8008,      0.8018,      0.8028,      0.8038,      0.8048,     0.80581,     0.80681,     0.80781,     0.80881,     0.80981,     0.81081,     0.81181,     0.81281,     0.81381,     0.81481,     0.81582,\n",
       "           0.81682,     0.81782,     0.81882,     0.81982,     0.82082,     0.82182,     0.82282,     0.82382,     0.82482,     0.82583,     0.82683,     0.82783,     0.82883,     0.82983,     0.83083,     0.83183,     0.83283,     0.83383,     0.83483,     0.83584,     0.83684,     0.83784,     0.83884,     0.83984,\n",
       "           0.84084,     0.84184,     0.84284,     0.84384,     0.84484,     0.84585,     0.84685,     0.84785,     0.84885,     0.84985,     0.85085,     0.85185,     0.85285,     0.85385,     0.85485,     0.85586,     0.85686,     0.85786,     0.85886,     0.85986,     0.86086,     0.86186,     0.86286,     0.86386,\n",
       "           0.86486,     0.86587,     0.86687,     0.86787,     0.86887,     0.86987,     0.87087,     0.87187,     0.87287,     0.87387,     0.87487,     0.87588,     0.87688,     0.87788,     0.87888,     0.87988,     0.88088,     0.88188,     0.88288,     0.88388,     0.88488,     0.88589,     0.88689,     0.88789,\n",
       "           0.88889,     0.88989,     0.89089,     0.89189,     0.89289,     0.89389,     0.89489,      0.8959,      0.8969,      0.8979,      0.8989,      0.8999,      0.9009,      0.9019,      0.9029,      0.9039,      0.9049,     0.90591,     0.90691,     0.90791,     0.90891,     0.90991,     0.91091,     0.91191,\n",
       "           0.91291,     0.91391,     0.91491,     0.91592,     0.91692,     0.91792,     0.91892,     0.91992,     0.92092,     0.92192,     0.92292,     0.92392,     0.92492,     0.92593,     0.92693,     0.92793,     0.92893,     0.92993,     0.93093,     0.93193,     0.93293,     0.93393,     0.93493,     0.93594,\n",
       "           0.93694,     0.93794,     0.93894,     0.93994,     0.94094,     0.94194,     0.94294,     0.94394,     0.94494,     0.94595,     0.94695,     0.94795,     0.94895,     0.94995,     0.95095,     0.95195,     0.95295,     0.95395,     0.95495,     0.95596,     0.95696,     0.95796,     0.95896,     0.95996,\n",
       "           0.96096,     0.96196,     0.96296,     0.96396,     0.96496,     0.96597,     0.96697,     0.96797,     0.96897,     0.96997,     0.97097,     0.97197,     0.97297,     0.97397,     0.97497,     0.97598,     0.97698,     0.97798,     0.97898,     0.97998,     0.98098,     0.98198,     0.98298,     0.98398,\n",
       "           0.98498,     0.98599,     0.98699,     0.98799,     0.98899,     0.98999,     0.99099,     0.99199,     0.99299,     0.99399,     0.99499,       0.996,       0.997,       0.998,       0.999,           1]), array([[          1,           1,           1,           1,           1,           1,           1,           1,           1,           1,           1,           1,           1,           1,           1,           1,           1,           1,           1,           1,           1,           1,           1,\n",
       "                  1,           1,           1,           1,           1,           1,           1,           1,           1,           1,           1,           1,           1,           1,           1,           1,           1,           1,           1,           1,           1,           1,           1,\n",
       "                  1,           1,           1,           1,           1,           1,           1,           1,           1,           1,           1,           1,           1,           1,           1,           1,           1,           1,           1,           1,           1,           1,           1,\n",
       "                  1,           1,           1,           1,           1,           1,           1,           1,           1,           1,           1,           1,           1,           1,           1,           1,           1,           1,           1,           1,           1,           1,           1,\n",
       "                  1,           1,           1,           1,           1,           1,           1,           1,           1,           1,           1,           1,           1,           1,           1,           1,           1,           1,           1,           1,           1,           1,           1,\n",
       "                  1,           1,           1,           1,           1,           1,           1,           1,           1,           1,           1,           1,           1,           1,           1,           1,           1,           1,           1,           1,           1,           1,           1,\n",
       "                  1,           1,           1,           1,           1,           1,           1,           1,           1,           1,           1,           1,           1,           1,           1,           1,           1,           1,           1,           1,           1,           1,           1,\n",
       "                  1,           1,           1,           1,           1,           1,           1,           1,           1,           1,           1,           1,           1,           1,           1,           1,           1,           1,           1,           1,           1,           1,           1,\n",
       "                  1,           1,           1,           1,           1,           1,           1,           1,           1,           1,           1,           1,           1,           1,           1,           1,           1,           1,           1,           1,           1,           1,           1,\n",
       "                  1,           1,           1,           1,           1,           1,           1,           1,           1,           1,           1,           1,           1,           1,           1,           1,           1,           1,           1,           1,           1,           1,           1,\n",
       "                  1,           1,           1,           1,           1,           1,           1,           1,           1,           1,           1,           1,           1,           1,           1,           1,           1,           1,           1,           1,           1,           1,           1,\n",
       "                  1,           1,           1,           1,           1,           1,           1,           1,           1,           1,           1,           1,           1,           1,           1,           1,           1,           1,           1,           1,           1,           1,           1,\n",
       "                  1,           1,           1,           1,           1,           1,           1,           1,           1,           1,           1,           1,           1,           1,           1,           1,           1,           1,           1,           1,           1,           1,           1,\n",
       "                  1,           1,           1,           1,           1,           1,           1,           1,           1,           1,           1,           1,           1,           1,           1,           1,           1,           1,           1,           1,           1,           1,           1,\n",
       "                  1,           1,           1,           1,           1,           1,           1,           1,           1,           1,           1,           1,           1,           1,           1,           1,           1,           1,           1,           1,           1,           1,           1,\n",
       "                  1,           1,           1,           1,           1,           1,           1,           1,           1,           1,           1,           1,           1,           1,           1,           1,           1,           1,           1,           1,           1,           1,           1,\n",
       "                  1,           1,           1,           1,           1,           1,           1,           1,           1,           1,           1,           1,           1,           1,           1,           1,           1,           1,           1,           1,           1,           1,           1,\n",
       "                  1,           1,           1,           1,           1,           1,           1,           1,           1,           1,           1,           1,           1,           1,           1,           1,           1,           1,           1,           1,           1,           1,           1,\n",
       "                  1,           1,           1,           1,           1,           1,           1,           1,           1,           1,           1,           1,           1,           1,           1,           1,           1,           1,           1,           1,           1,           1,           1,\n",
       "                  1,           1,           1,           1,           1,           1,           1,           1,           1,           1,           1,           1,           1,           1,           1,           1,           1,           1,           1,           1,           1,           1,           1,\n",
       "                  1,           1,           1,           1,           1,           1,           1,           1,           1,           1,           1,           1,           1,           1,           1,           1,           1,           1,           1,           1,           1,           1,           1,\n",
       "                  1,           1,           1,           1,           1,           1,           1,           1,           1,           1,           1,           1,           1,           1,           1,           1,           1,           1,           1,           1,           1,           1,           1,\n",
       "                  1,           1,           1,           1,           1,           1,           1,           1,           1,           1,           1,           1,           1,           1,           1,           1,           1,           1,           1,           1,           1,           1,           1,\n",
       "                  1,           1,           1,           1,           1,           1,           1,           1,           1,           1,           1,           1,           1,           1,           1,           1,           1,           1,           1,           1,           1,           1,           1,\n",
       "                  1,           1,           1,           1,           1,           1,           1,           1,           1,           1,           1,           1,           1,           1,           1,           1,           1,           1,           1,           1,           1,           1,           1,\n",
       "                  1,           1,           1,           1,           1,           1,           1,           1,           1,           1,           1,           1,           1,           1,           1,           1,           1,           1,           1,           1,           1,           1,           1,\n",
       "                  1,           1,           1,           1,           1,           1,           1,           1,           1,           1,           1,           1,           1,           1,           1,           1,           1,           1,           1,           1,           1,           1,           1,\n",
       "                  1,           1,           1,           1,           1,           1,           1,           1,           1,           1,           1,           1,           1,           1,           1,           1,           1,      0.9966,      0.9966,      0.9966,      0.9966,      0.9966,      0.9966,\n",
       "             0.9966,      0.9966,      0.9966,      0.9966,      0.9966,      0.9966,      0.9966,      0.9966,      0.9966,      0.9966,      0.9966,      0.9966,      0.9966,      0.9966,      0.9966,      0.9966,      0.9966,      0.9966,      0.9966,      0.9966,      0.9966,      0.9966,      0.9966,\n",
       "             0.9966,      0.9966,      0.9966,      0.9966,      0.9966,      0.9966,      0.9966,      0.9966,      0.9966,      0.9966,      0.9966,      0.9966,      0.9966,      0.9966,      0.9966,      0.9966,      0.9966,      0.9966,      0.9966,      0.9966,      0.9966,      0.9966,      0.9966,\n",
       "             0.9966,      0.9966,      0.9966,      0.9966,      0.9966,      0.9966,      0.9966,      0.9966,      0.9966,      0.9966,      0.9966,      0.9966,      0.9966,      0.9966,      0.9966,      0.9966,      0.9966,      0.9966,      0.9966,      0.9966,      0.9966,      0.9966,      0.9966,\n",
       "             0.9966,      0.9966,      0.9966,      0.9966,      0.9966,      0.9966,      0.9966,      0.9966,      0.9966,      0.9966,      0.9966,      0.9966,      0.9966,      0.9966,      0.9966,      0.9966,      0.9966,      0.9966,      0.9966,      0.9966,      0.9966,      0.9966,      0.9966,\n",
       "             0.9966,      0.9966,      0.9966,      0.9966,      0.9966,      0.9966,      0.9966,      0.9966,      0.9966,      0.9966,      0.9966,      0.9966,      0.9966,      0.9966,      0.9966,      0.9966,      0.9966,      0.9966,      0.9966,      0.9966,      0.9966,     0.99367,     0.99367,\n",
       "            0.99367,     0.99367,     0.99367,     0.99367,     0.99367,     0.99367,     0.99367,     0.99367,     0.99367,     0.99367,     0.99367,     0.99367,     0.99367,     0.99367,     0.99367,     0.99367,     0.99367,     0.99367,     0.99367,     0.99367,     0.99367,     0.99367,     0.99367,\n",
       "            0.99367,     0.99367,     0.99367,     0.99367,     0.99367,     0.99367,     0.99367,     0.99367,     0.99367,     0.99367,     0.99367,     0.99367,     0.99367,     0.99367,     0.99367,     0.99367,     0.99367,     0.99367,     0.99367,     0.99367,     0.99367,     0.99367,     0.99367,\n",
       "            0.99367,     0.99367,     0.99367,     0.99367,     0.99367,     0.99367,     0.99112,     0.99112,     0.99112,     0.99112,     0.99112,     0.99112,     0.99112,     0.99112,     0.99112,     0.99112,     0.99112,     0.99112,     0.99112,     0.99112,     0.99112,     0.99112,     0.99112,\n",
       "            0.99112,     0.99112,     0.99112,     0.99112,     0.99112,     0.99112,     0.99112,     0.99112,     0.99112,     0.99112,     0.99112,     0.99112,     0.99112,     0.99112,     0.99112,     0.99112,     0.99112,     0.99112,     0.99112,     0.99112,     0.99112,     0.99112,     0.99112,\n",
       "            0.99112,     0.99112,     0.99112,     0.99112,     0.99112,     0.99112,     0.99112,     0.99112,     0.99112,     0.99112,     0.99112,     0.99112,     0.99112,     0.99112,     0.98538,     0.98538,     0.98538,     0.98538,     0.98538,     0.97695,     0.97695,     0.97695,     0.97695,\n",
       "            0.97695,     0.97695,     0.97436,     0.97436,     0.97436,     0.97436,     0.97436,     0.97436,     0.97436,     0.97175,     0.97175,     0.97175,     0.97175,     0.97175,     0.96703,     0.96703,     0.96703,     0.96703,     0.96703,     0.96703,     0.96703,     0.96703,     0.96703,\n",
       "            0.96703,     0.96703,     0.96703,     0.96703,     0.96703,     0.96703,     0.96703,     0.96703,     0.96703,     0.96703,     0.96703,     0.96703,     0.96448,     0.96448,     0.96448,     0.95968,     0.95968,     0.95968,     0.95968,     0.95968,     0.95968,     0.95968,     0.95968,\n",
       "            0.95968,     0.95968,     0.95722,     0.95722,     0.95722,     0.95225,     0.95225,      0.9401,      0.9401,      0.9401,      0.9401,      0.9401,     0.93814,     0.93814,     0.93814,     0.93814,     0.93814,     0.93814,     0.93814,     0.93814,      0.9264,      0.9264,      0.9264,\n",
       "            0.92211,     0.92211,     0.92211,     0.92211,     0.92211,      0.9064,      0.9064,     0.89806,     0.89806,     0.89806,     0.89806,     0.89806,     0.89806,     0.89614,     0.89614,     0.86946,     0.86946,     0.86946,     0.86946,     0.86946,     0.86574,     0.86574,     0.86574,\n",
       "            0.85421,     0.85421,     0.85421,     0.81034,     0.81034,     0.78054,     0.78054,     0.78054,     0.77778,     0.77778,     0.77505,     0.77505,     0.77505,     0.77079,     0.77079,     0.70295,     0.70295,     0.70295,     0.62829,     0.62829,     0.62829,     0.50528,     0.50528,\n",
       "            0.41537,     0.37383,     0.33229,     0.29076,     0.24922,     0.20768,     0.16615,     0.12461,    0.083074,    0.041537,           0]]), 'Recall', 'Precision'], [array([          0,    0.001001,    0.002002,    0.003003,    0.004004,    0.005005,    0.006006,    0.007007,    0.008008,    0.009009,     0.01001,    0.011011,    0.012012,    0.013013,    0.014014,    0.015015,    0.016016,    0.017017,    0.018018,    0.019019,     0.02002,    0.021021,    0.022022,    0.023023,\n",
       "          0.024024,    0.025025,    0.026026,    0.027027,    0.028028,    0.029029,     0.03003,    0.031031,    0.032032,    0.033033,    0.034034,    0.035035,    0.036036,    0.037037,    0.038038,    0.039039,     0.04004,    0.041041,    0.042042,    0.043043,    0.044044,    0.045045,    0.046046,    0.047047,\n",
       "          0.048048,    0.049049,     0.05005,    0.051051,    0.052052,    0.053053,    0.054054,    0.055055,    0.056056,    0.057057,    0.058058,    0.059059,     0.06006,    0.061061,    0.062062,    0.063063,    0.064064,    0.065065,    0.066066,    0.067067,    0.068068,    0.069069,     0.07007,    0.071071,\n",
       "          0.072072,    0.073073,    0.074074,    0.075075,    0.076076,    0.077077,    0.078078,    0.079079,     0.08008,    0.081081,    0.082082,    0.083083,    0.084084,    0.085085,    0.086086,    0.087087,    0.088088,    0.089089,     0.09009,    0.091091,    0.092092,    0.093093,    0.094094,    0.095095,\n",
       "          0.096096,    0.097097,    0.098098,    0.099099,      0.1001,      0.1011,      0.1021,      0.1031,      0.1041,     0.10511,     0.10611,     0.10711,     0.10811,     0.10911,     0.11011,     0.11111,     0.11211,     0.11311,     0.11411,     0.11512,     0.11612,     0.11712,     0.11812,     0.11912,\n",
       "           0.12012,     0.12112,     0.12212,     0.12312,     0.12412,     0.12513,     0.12613,     0.12713,     0.12813,     0.12913,     0.13013,     0.13113,     0.13213,     0.13313,     0.13413,     0.13514,     0.13614,     0.13714,     0.13814,     0.13914,     0.14014,     0.14114,     0.14214,     0.14314,\n",
       "           0.14414,     0.14515,     0.14615,     0.14715,     0.14815,     0.14915,     0.15015,     0.15115,     0.15215,     0.15315,     0.15415,     0.15516,     0.15616,     0.15716,     0.15816,     0.15916,     0.16016,     0.16116,     0.16216,     0.16316,     0.16416,     0.16517,     0.16617,     0.16717,\n",
       "           0.16817,     0.16917,     0.17017,     0.17117,     0.17217,     0.17317,     0.17417,     0.17518,     0.17618,     0.17718,     0.17818,     0.17918,     0.18018,     0.18118,     0.18218,     0.18318,     0.18418,     0.18519,     0.18619,     0.18719,     0.18819,     0.18919,     0.19019,     0.19119,\n",
       "           0.19219,     0.19319,     0.19419,      0.1952,      0.1962,      0.1972,      0.1982,      0.1992,      0.2002,      0.2012,      0.2022,      0.2032,      0.2042,     0.20521,     0.20621,     0.20721,     0.20821,     0.20921,     0.21021,     0.21121,     0.21221,     0.21321,     0.21421,     0.21522,\n",
       "           0.21622,     0.21722,     0.21822,     0.21922,     0.22022,     0.22122,     0.22222,     0.22322,     0.22422,     0.22523,     0.22623,     0.22723,     0.22823,     0.22923,     0.23023,     0.23123,     0.23223,     0.23323,     0.23423,     0.23524,     0.23624,     0.23724,     0.23824,     0.23924,\n",
       "           0.24024,     0.24124,     0.24224,     0.24324,     0.24424,     0.24525,     0.24625,     0.24725,     0.24825,     0.24925,     0.25025,     0.25125,     0.25225,     0.25325,     0.25425,     0.25526,     0.25626,     0.25726,     0.25826,     0.25926,     0.26026,     0.26126,     0.26226,     0.26326,\n",
       "           0.26426,     0.26527,     0.26627,     0.26727,     0.26827,     0.26927,     0.27027,     0.27127,     0.27227,     0.27327,     0.27427,     0.27528,     0.27628,     0.27728,     0.27828,     0.27928,     0.28028,     0.28128,     0.28228,     0.28328,     0.28428,     0.28529,     0.28629,     0.28729,\n",
       "           0.28829,     0.28929,     0.29029,     0.29129,     0.29229,     0.29329,     0.29429,      0.2953,      0.2963,      0.2973,      0.2983,      0.2993,      0.3003,      0.3013,      0.3023,      0.3033,      0.3043,     0.30531,     0.30631,     0.30731,     0.30831,     0.30931,     0.31031,     0.31131,\n",
       "           0.31231,     0.31331,     0.31431,     0.31532,     0.31632,     0.31732,     0.31832,     0.31932,     0.32032,     0.32132,     0.32232,     0.32332,     0.32432,     0.32533,     0.32633,     0.32733,     0.32833,     0.32933,     0.33033,     0.33133,     0.33233,     0.33333,     0.33433,     0.33534,\n",
       "           0.33634,     0.33734,     0.33834,     0.33934,     0.34034,     0.34134,     0.34234,     0.34334,     0.34434,     0.34535,     0.34635,     0.34735,     0.34835,     0.34935,     0.35035,     0.35135,     0.35235,     0.35335,     0.35435,     0.35536,     0.35636,     0.35736,     0.35836,     0.35936,\n",
       "           0.36036,     0.36136,     0.36236,     0.36336,     0.36436,     0.36537,     0.36637,     0.36737,     0.36837,     0.36937,     0.37037,     0.37137,     0.37237,     0.37337,     0.37437,     0.37538,     0.37638,     0.37738,     0.37838,     0.37938,     0.38038,     0.38138,     0.38238,     0.38338,\n",
       "           0.38438,     0.38539,     0.38639,     0.38739,     0.38839,     0.38939,     0.39039,     0.39139,     0.39239,     0.39339,     0.39439,      0.3954,      0.3964,      0.3974,      0.3984,      0.3994,      0.4004,      0.4014,      0.4024,      0.4034,      0.4044,     0.40541,     0.40641,     0.40741,\n",
       "           0.40841,     0.40941,     0.41041,     0.41141,     0.41241,     0.41341,     0.41441,     0.41542,     0.41642,     0.41742,     0.41842,     0.41942,     0.42042,     0.42142,     0.42242,     0.42342,     0.42442,     0.42543,     0.42643,     0.42743,     0.42843,     0.42943,     0.43043,     0.43143,\n",
       "           0.43243,     0.43343,     0.43443,     0.43544,     0.43644,     0.43744,     0.43844,     0.43944,     0.44044,     0.44144,     0.44244,     0.44344,     0.44444,     0.44545,     0.44645,     0.44745,     0.44845,     0.44945,     0.45045,     0.45145,     0.45245,     0.45345,     0.45445,     0.45546,\n",
       "           0.45646,     0.45746,     0.45846,     0.45946,     0.46046,     0.46146,     0.46246,     0.46346,     0.46446,     0.46547,     0.46647,     0.46747,     0.46847,     0.46947,     0.47047,     0.47147,     0.47247,     0.47347,     0.47447,     0.47548,     0.47648,     0.47748,     0.47848,     0.47948,\n",
       "           0.48048,     0.48148,     0.48248,     0.48348,     0.48448,     0.48549,     0.48649,     0.48749,     0.48849,     0.48949,     0.49049,     0.49149,     0.49249,     0.49349,     0.49449,      0.4955,      0.4965,      0.4975,      0.4985,      0.4995,      0.5005,      0.5015,      0.5025,      0.5035,\n",
       "            0.5045,     0.50551,     0.50651,     0.50751,     0.50851,     0.50951,     0.51051,     0.51151,     0.51251,     0.51351,     0.51451,     0.51552,     0.51652,     0.51752,     0.51852,     0.51952,     0.52052,     0.52152,     0.52252,     0.52352,     0.52452,     0.52553,     0.52653,     0.52753,\n",
       "           0.52853,     0.52953,     0.53053,     0.53153,     0.53253,     0.53353,     0.53453,     0.53554,     0.53654,     0.53754,     0.53854,     0.53954,     0.54054,     0.54154,     0.54254,     0.54354,     0.54454,     0.54555,     0.54655,     0.54755,     0.54855,     0.54955,     0.55055,     0.55155,\n",
       "           0.55255,     0.55355,     0.55455,     0.55556,     0.55656,     0.55756,     0.55856,     0.55956,     0.56056,     0.56156,     0.56256,     0.56356,     0.56456,     0.56557,     0.56657,     0.56757,     0.56857,     0.56957,     0.57057,     0.57157,     0.57257,     0.57357,     0.57457,     0.57558,\n",
       "           0.57658,     0.57758,     0.57858,     0.57958,     0.58058,     0.58158,     0.58258,     0.58358,     0.58458,     0.58559,     0.58659,     0.58759,     0.58859,     0.58959,     0.59059,     0.59159,     0.59259,     0.59359,     0.59459,      0.5956,      0.5966,      0.5976,      0.5986,      0.5996,\n",
       "            0.6006,      0.6016,      0.6026,      0.6036,      0.6046,     0.60561,     0.60661,     0.60761,     0.60861,     0.60961,     0.61061,     0.61161,     0.61261,     0.61361,     0.61461,     0.61562,     0.61662,     0.61762,     0.61862,     0.61962,     0.62062,     0.62162,     0.62262,     0.62362,\n",
       "           0.62462,     0.62563,     0.62663,     0.62763,     0.62863,     0.62963,     0.63063,     0.63163,     0.63263,     0.63363,     0.63463,     0.63564,     0.63664,     0.63764,     0.63864,     0.63964,     0.64064,     0.64164,     0.64264,     0.64364,     0.64464,     0.64565,     0.64665,     0.64765,\n",
       "           0.64865,     0.64965,     0.65065,     0.65165,     0.65265,     0.65365,     0.65465,     0.65566,     0.65666,     0.65766,     0.65866,     0.65966,     0.66066,     0.66166,     0.66266,     0.66366,     0.66466,     0.66567,     0.66667,     0.66767,     0.66867,     0.66967,     0.67067,     0.67167,\n",
       "           0.67267,     0.67367,     0.67467,     0.67568,     0.67668,     0.67768,     0.67868,     0.67968,     0.68068,     0.68168,     0.68268,     0.68368,     0.68468,     0.68569,     0.68669,     0.68769,     0.68869,     0.68969,     0.69069,     0.69169,     0.69269,     0.69369,     0.69469,      0.6957,\n",
       "            0.6967,      0.6977,      0.6987,      0.6997,      0.7007,      0.7017,      0.7027,      0.7037,      0.7047,     0.70571,     0.70671,     0.70771,     0.70871,     0.70971,     0.71071,     0.71171,     0.71271,     0.71371,     0.71471,     0.71572,     0.71672,     0.71772,     0.71872,     0.71972,\n",
       "           0.72072,     0.72172,     0.72272,     0.72372,     0.72472,     0.72573,     0.72673,     0.72773,     0.72873,     0.72973,     0.73073,     0.73173,     0.73273,     0.73373,     0.73473,     0.73574,     0.73674,     0.73774,     0.73874,     0.73974,     0.74074,     0.74174,     0.74274,     0.74374,\n",
       "           0.74474,     0.74575,     0.74675,     0.74775,     0.74875,     0.74975,     0.75075,     0.75175,     0.75275,     0.75375,     0.75475,     0.75576,     0.75676,     0.75776,     0.75876,     0.75976,     0.76076,     0.76176,     0.76276,     0.76376,     0.76476,     0.76577,     0.76677,     0.76777,\n",
       "           0.76877,     0.76977,     0.77077,     0.77177,     0.77277,     0.77377,     0.77477,     0.77578,     0.77678,     0.77778,     0.77878,     0.77978,     0.78078,     0.78178,     0.78278,     0.78378,     0.78478,     0.78579,     0.78679,     0.78779,     0.78879,     0.78979,     0.79079,     0.79179,\n",
       "           0.79279,     0.79379,     0.79479,      0.7958,      0.7968,      0.7978,      0.7988,      0.7998,      0.8008,      0.8018,      0.8028,      0.8038,      0.8048,     0.80581,     0.80681,     0.80781,     0.80881,     0.80981,     0.81081,     0.81181,     0.81281,     0.81381,     0.81481,     0.81582,\n",
       "           0.81682,     0.81782,     0.81882,     0.81982,     0.82082,     0.82182,     0.82282,     0.82382,     0.82482,     0.82583,     0.82683,     0.82783,     0.82883,     0.82983,     0.83083,     0.83183,     0.83283,     0.83383,     0.83483,     0.83584,     0.83684,     0.83784,     0.83884,     0.83984,\n",
       "           0.84084,     0.84184,     0.84284,     0.84384,     0.84484,     0.84585,     0.84685,     0.84785,     0.84885,     0.84985,     0.85085,     0.85185,     0.85285,     0.85385,     0.85485,     0.85586,     0.85686,     0.85786,     0.85886,     0.85986,     0.86086,     0.86186,     0.86286,     0.86386,\n",
       "           0.86486,     0.86587,     0.86687,     0.86787,     0.86887,     0.86987,     0.87087,     0.87187,     0.87287,     0.87387,     0.87487,     0.87588,     0.87688,     0.87788,     0.87888,     0.87988,     0.88088,     0.88188,     0.88288,     0.88388,     0.88488,     0.88589,     0.88689,     0.88789,\n",
       "           0.88889,     0.88989,     0.89089,     0.89189,     0.89289,     0.89389,     0.89489,      0.8959,      0.8969,      0.8979,      0.8989,      0.8999,      0.9009,      0.9019,      0.9029,      0.9039,      0.9049,     0.90591,     0.90691,     0.90791,     0.90891,     0.90991,     0.91091,     0.91191,\n",
       "           0.91291,     0.91391,     0.91491,     0.91592,     0.91692,     0.91792,     0.91892,     0.91992,     0.92092,     0.92192,     0.92292,     0.92392,     0.92492,     0.92593,     0.92693,     0.92793,     0.92893,     0.92993,     0.93093,     0.93193,     0.93293,     0.93393,     0.93493,     0.93594,\n",
       "           0.93694,     0.93794,     0.93894,     0.93994,     0.94094,     0.94194,     0.94294,     0.94394,     0.94494,     0.94595,     0.94695,     0.94795,     0.94895,     0.94995,     0.95095,     0.95195,     0.95295,     0.95395,     0.95495,     0.95596,     0.95696,     0.95796,     0.95896,     0.95996,\n",
       "           0.96096,     0.96196,     0.96296,     0.96396,     0.96496,     0.96597,     0.96697,     0.96797,     0.96897,     0.96997,     0.97097,     0.97197,     0.97297,     0.97397,     0.97497,     0.97598,     0.97698,     0.97798,     0.97898,     0.97998,     0.98098,     0.98198,     0.98298,     0.98398,\n",
       "           0.98498,     0.98599,     0.98699,     0.98799,     0.98899,     0.98999,     0.99099,     0.99199,     0.99299,     0.99399,     0.99499,       0.996,       0.997,       0.998,       0.999,           1]), array([[    0.59844,     0.59844,     0.69957,     0.75379,     0.79202,     0.81883,     0.84026,     0.85295,     0.86054,     0.86364,     0.86568,     0.86568,     0.87275,     0.87562,     0.87818,     0.88108,     0.88465,      0.8853,     0.88671,     0.88778,     0.88968,     0.89299,     0.89343,\n",
       "            0.89387,     0.89563,     0.89894,      0.9009,     0.90223,     0.90341,     0.90399,     0.90446,     0.90583,     0.90623,     0.90664,     0.90715,     0.90783,     0.90748,     0.90682,     0.90738,      0.9085,     0.91015,     0.91134,     0.91185,      0.9124,     0.91306,     0.91257,\n",
       "            0.91283,     0.91343,     0.91382,     0.91421,     0.91392,     0.91363,     0.91333,     0.91304,     0.91237,       0.912,     0.91291,      0.9133,     0.91368,     0.91484,     0.91538,     0.91587,     0.91649,     0.91718,      0.9174,     0.91762,     0.91783,     0.91805,     0.91827,\n",
       "            0.91904,      0.9206,     0.92074,     0.92089,     0.92104,     0.92119,     0.92133,     0.92148,     0.92163,     0.92182,     0.92215,     0.92247,      0.9228,     0.92309,     0.92338,     0.92366,     0.92395,     0.92443,     0.92501,      0.9253,     0.92546,     0.92561,     0.92577,\n",
       "            0.92593,     0.92609,     0.92625,     0.92613,     0.92564,     0.92515,     0.92577,     0.92486,     0.92462,     0.92443,     0.92424,     0.92405,     0.92385,     0.92366,     0.92347,     0.92372,     0.92399,     0.92426,     0.92453,     0.92465,     0.92468,     0.92471,     0.92475,\n",
       "            0.92478,     0.92482,     0.92485,     0.92489,     0.92492,     0.92496,     0.92499,     0.92503,     0.92506,     0.92509,     0.92513,     0.92516,      0.9252,     0.92523,     0.92527,      0.9253,     0.92534,     0.92537,     0.92541,     0.92544,     0.92547,     0.92551,     0.92554,\n",
       "            0.92558,     0.92561,     0.92565,     0.92568,     0.92572,     0.92575,     0.92579,     0.92602,     0.92626,      0.9265,     0.92674,       0.927,     0.92748,     0.92796,     0.92809,     0.92804,       0.928,     0.92795,      0.9279,     0.92786,     0.92781,     0.92776,     0.92772,\n",
       "            0.92767,     0.92762,     0.92758,     0.92753,     0.92748,     0.92743,     0.92739,     0.92734,     0.92729,     0.92725,      0.9272,     0.92715,     0.92711,     0.92706,     0.92701,     0.92697,     0.92692,     0.92687,     0.92683,     0.92678,      0.9269,     0.92708,     0.92725,\n",
       "            0.92742,      0.9276,     0.92777,     0.92795,     0.92817,     0.92839,     0.92861,     0.92883,     0.92905,     0.92978,     0.93035,     0.93047,     0.93058,      0.9307,     0.93082,     0.93094,     0.93106,     0.93117,     0.93129,     0.93141,     0.93267,     0.93269,     0.93272,\n",
       "            0.93274,     0.93276,     0.93279,     0.93281,     0.93284,     0.93286,     0.93289,     0.93291,     0.93294,     0.93296,     0.93298,     0.93301,     0.93303,     0.93306,     0.93308,     0.93311,     0.93313,     0.93316,     0.93318,      0.9332,     0.93323,     0.93325,     0.93328,\n",
       "             0.9333,     0.93333,     0.93335,     0.93337,      0.9334,     0.93342,     0.93345,     0.93347,      0.9335,     0.93352,     0.93355,     0.93357,     0.93359,     0.93362,     0.93364,     0.93367,     0.93369,     0.93372,     0.93374,     0.93376,     0.93379,     0.93381,     0.93384,\n",
       "            0.93387,     0.93391,     0.93394,     0.93398,     0.93402,     0.93405,     0.93409,     0.93412,     0.93416,      0.9342,     0.93423,     0.93427,     0.93431,     0.93434,     0.93438,     0.93441,     0.93445,     0.93449,     0.93452,     0.93456,     0.93459,     0.93463,     0.93467,\n",
       "             0.9347,     0.93474,     0.93478,     0.93481,     0.93485,     0.93488,     0.93492,     0.93496,     0.93499,     0.93503,     0.93499,     0.93494,     0.93489,     0.93484,     0.93478,     0.93473,     0.93468,     0.93463,     0.93458,     0.93453,     0.93448,     0.93443,     0.93438,\n",
       "            0.93433,     0.93428,     0.93423,     0.93418,     0.93413,     0.93408,     0.93403,     0.93397,     0.93392,     0.93387,     0.93382,     0.93377,     0.93372,     0.93367,     0.93363,      0.9336,     0.93356,     0.93352,     0.93348,     0.93345,     0.93341,     0.93337,     0.93333,\n",
       "             0.9333,     0.93326,     0.93322,     0.93318,     0.93315,     0.93311,     0.93307,     0.93303,       0.933,     0.93296,     0.93292,     0.93288,     0.93285,     0.93281,     0.93277,     0.93273,      0.9327,     0.93266,     0.93262,     0.93258,     0.93255,     0.93251,     0.93247,\n",
       "            0.93243,      0.9324,     0.93236,     0.93232,     0.93237,     0.93245,     0.93253,      0.9326,     0.93268,     0.93276,     0.93284,     0.93292,       0.933,     0.93308,     0.93316,     0.93324,     0.93331,     0.93339,     0.93347,     0.93357,     0.93368,     0.93379,      0.9339,\n",
       "              0.934,     0.93411,     0.93422,     0.93433,     0.93444,     0.93455,     0.93466,     0.93383,     0.93354,     0.93387,      0.9342,     0.93453,     0.93574,     0.93644,     0.93696,     0.93702,     0.93709,     0.93715,     0.93722,     0.93728,     0.93735,     0.93741,     0.93748,\n",
       "            0.93754,     0.93761,     0.93767,     0.93774,      0.9378,     0.93787,     0.93793,       0.938,     0.93806,     0.93813,     0.93816,     0.93818,      0.9382,     0.93822,     0.93825,     0.93827,     0.93829,     0.93831,     0.93833,     0.93835,     0.93837,     0.93839,     0.93841,\n",
       "            0.93844,     0.93846,     0.93848,      0.9385,     0.93852,     0.93854,     0.93856,     0.93858,      0.9386,     0.93863,     0.93865,     0.93867,     0.93869,     0.93871,     0.93873,     0.93875,     0.93877,     0.93879,     0.93882,     0.93884,     0.93886,     0.93888,      0.9389,\n",
       "            0.93892,     0.93894,     0.93896,     0.93898,     0.93901,     0.93903,     0.93905,     0.93907,     0.93909,     0.93911,     0.93913,     0.93915,     0.93917,      0.9392,     0.93922,     0.93924,     0.93926,     0.93928,      0.9393,     0.93932,     0.93934,     0.93904,     0.93834,\n",
       "            0.93797,     0.93794,     0.93792,     0.93789,     0.93786,     0.93784,     0.93781,     0.93778,     0.93775,     0.93773,      0.9377,     0.93767,     0.93765,     0.93762,     0.93759,     0.93757,     0.93754,     0.93751,     0.93748,     0.93746,     0.93743,      0.9374,     0.93738,\n",
       "            0.93735,     0.93732,     0.93729,     0.93727,     0.93724,     0.93721,     0.93719,     0.93716,     0.93713,      0.9371,     0.93708,     0.93705,     0.93702,       0.937,     0.93697,     0.93694,     0.93692,     0.93689,     0.93686,     0.93683,     0.93681,     0.93678,     0.93675,\n",
       "            0.93673,      0.9367,     0.93667,     0.93664,     0.93662,     0.93656,     0.93649,     0.93642,     0.93634,     0.93627,      0.9362,     0.93613,     0.93606,     0.93599,     0.93592,     0.93585,     0.93578,     0.93571,     0.93564,     0.93557,      0.9355,     0.93543,     0.93536,\n",
       "            0.93529,     0.93524,     0.93526,     0.93528,      0.9353,     0.93532,     0.93534,     0.93536,     0.93538,      0.9354,     0.93542,     0.93544,     0.93546,     0.93548,      0.9355,     0.93551,     0.93553,     0.93555,     0.93557,     0.93559,     0.93561,     0.93563,     0.93565,\n",
       "            0.93567,     0.93569,     0.93571,     0.93573,     0.93575,     0.93577,     0.93579,     0.93581,     0.93583,     0.93585,     0.93587,     0.93589,     0.93591,     0.93593,     0.93595,     0.93597,     0.93599,     0.93601,     0.93603,     0.93605,     0.93607,     0.93609,     0.93611,\n",
       "            0.93613,     0.93615,     0.93617,     0.93619,     0.93621,     0.93623,     0.93624,     0.93626,     0.93628,      0.9363,     0.93632,     0.93634,     0.93636,     0.93638,      0.9364,     0.93642,     0.93644,     0.93641,     0.93636,     0.93631,     0.93626,     0.93622,     0.93617,\n",
       "            0.93612,     0.93607,     0.93602,     0.93598,     0.93593,     0.93588,     0.93583,     0.93578,     0.93574,     0.93569,     0.93564,     0.93559,     0.93554,      0.9355,     0.93545,      0.9354,     0.93535,      0.9353,     0.93526,     0.93521,     0.93516,     0.93511,     0.93506,\n",
       "            0.93495,     0.93485,     0.93474,     0.93463,     0.93452,     0.93441,      0.9343,     0.93419,     0.93408,     0.93397,     0.93386,     0.93375,     0.93409,     0.93493,     0.93503,     0.93512,     0.93522,     0.93531,     0.93541,     0.93551,      0.9356,      0.9357,      0.9358,\n",
       "            0.93589,     0.93599,     0.93608,     0.93624,     0.93641,     0.93659,     0.93677,     0.93695,     0.93713,     0.93731,     0.93787,      0.9385,     0.93869,     0.93883,     0.93897,     0.93911,     0.93925,     0.93939,     0.93953,     0.93967,     0.93978,     0.93967,     0.93956,\n",
       "            0.93945,     0.93934,     0.93923,     0.93912,     0.93901,      0.9389,     0.93879,     0.93868,     0.93857,     0.93846,     0.93848,     0.93866,     0.93884,     0.93902,      0.9392,     0.93938,     0.93956,     0.93976,     0.93997,     0.94018,     0.94039,      0.9406,     0.94081,\n",
       "            0.94069,     0.94045,     0.94021,     0.93998,     0.93974,      0.9395,     0.93951,     0.93956,      0.9396,     0.93964,     0.93969,     0.93973,     0.93978,     0.93982,     0.93986,     0.93991,     0.93995,     0.93999,     0.94004,     0.94008,     0.94013,     0.94017,     0.94021,\n",
       "            0.94026,      0.9403,     0.94034,     0.94039,     0.94043,     0.94048,     0.94052,     0.94056,     0.94061,     0.94065,     0.94069,     0.93985,     0.93927,     0.93919,     0.93912,     0.93905,     0.93897,      0.9389,     0.93883,     0.93875,     0.93868,     0.93861,     0.93853,\n",
       "            0.93846,     0.93838,     0.93831,     0.93824,     0.93816,     0.93809,     0.93802,     0.93794,     0.93733,      0.9365,     0.93641,     0.93632,     0.93622,     0.93613,     0.93604,     0.93595,     0.93586,     0.93577,     0.93568,     0.93559,      0.9355,     0.93541,     0.93532,\n",
       "            0.93523,     0.93514,     0.93516,     0.93527,     0.93538,     0.93549,      0.9356,     0.93571,     0.93582,     0.93593,     0.93604,     0.93615,     0.93626,     0.93645,     0.93682,     0.93718,     0.93755,      0.9375,     0.93741,     0.93731,     0.93722,     0.93713,     0.93703,\n",
       "            0.93694,     0.93685,     0.93675,     0.93666,     0.93657,     0.93647,     0.93638,     0.93628,     0.93619,     0.93683,     0.93737,     0.93724,      0.9371,     0.93696,     0.93682,     0.93668,     0.93654,     0.93641,     0.93627,     0.93613,     0.93598,     0.93572,     0.93545,\n",
       "            0.93519,     0.93492,     0.93466,     0.93355,     0.93301,     0.93282,     0.93262,     0.93243,     0.93223,     0.93204,     0.93184,     0.93163,     0.93138,     0.93114,     0.93089,     0.93065,      0.9304,     0.93024,     0.93013,     0.93003,     0.92992,     0.92982,     0.92971,\n",
       "            0.92961,      0.9295,      0.9294,     0.92929,     0.92919,     0.92908,     0.92897,     0.92887,      0.9287,     0.92853,     0.92836,     0.92818,     0.92801,     0.92784,     0.92766,     0.92749,     0.92724,     0.92694,     0.92665,     0.92635,     0.92606,     0.92613,     0.92634,\n",
       "            0.92656,     0.92677,     0.92698,      0.9272,     0.92754,     0.92791,     0.92828,     0.92836,     0.92811,     0.92787,     0.92762,     0.92737,     0.92712,     0.92643,     0.92565,     0.92616,     0.92668,     0.92613,     0.92501,     0.92375,     0.92315,     0.92255,     0.92351,\n",
       "            0.92351,     0.92328,     0.92305,     0.92281,     0.92258,     0.92235,     0.92208,     0.92178,     0.92148,     0.92118,     0.92088,     0.92117,     0.92182,     0.92379,     0.92384,     0.92271,     0.92164,      0.9218,     0.92196,     0.92213,     0.92229,     0.92245,     0.92262,\n",
       "            0.92278,     0.92379,     0.92303,     0.92213,      0.9196,     0.91811,     0.91735,     0.91659,     0.91598,     0.91536,     0.91411,     0.90994,     0.90642,     0.90056,     0.89862,     0.89766,     0.89687,     0.89538,     0.89306,     0.88949,     0.88555,     0.87581,     0.87001,\n",
       "             0.8625,     0.85866,     0.85364,     0.84833,     0.84137,     0.83256,     0.82718,     0.82389,     0.81446,      0.8121,     0.81023,     0.80689,     0.79756,     0.79185,     0.77387,     0.76398,     0.75393,     0.74167,     0.73333,     0.72278,     0.69025,     0.66529,     0.63697,\n",
       "            0.58708,     0.54169,     0.50204,     0.42572,     0.36916,     0.33388,     0.28572,     0.22661,     0.19749,     0.17958,     0.15847,     0.14501,     0.12683,     0.08488,    0.065494,    0.045711,    0.030539,     0.02543,    0.021981,   0.0095247,           0,           0,           0,\n",
       "                  0,           0,           0,           0,           0,           0,           0,           0,           0,           0,           0,           0,           0,           0,           0,           0,           0,           0,           0,           0,           0,           0,           0,\n",
       "                  0,           0,           0,           0,           0,           0,           0,           0,           0,           0,           0]]), 'Confidence', 'F1'], [array([          0,    0.001001,    0.002002,    0.003003,    0.004004,    0.005005,    0.006006,    0.007007,    0.008008,    0.009009,     0.01001,    0.011011,    0.012012,    0.013013,    0.014014,    0.015015,    0.016016,    0.017017,    0.018018,    0.019019,     0.02002,    0.021021,    0.022022,    0.023023,\n",
       "          0.024024,    0.025025,    0.026026,    0.027027,    0.028028,    0.029029,     0.03003,    0.031031,    0.032032,    0.033033,    0.034034,    0.035035,    0.036036,    0.037037,    0.038038,    0.039039,     0.04004,    0.041041,    0.042042,    0.043043,    0.044044,    0.045045,    0.046046,    0.047047,\n",
       "          0.048048,    0.049049,     0.05005,    0.051051,    0.052052,    0.053053,    0.054054,    0.055055,    0.056056,    0.057057,    0.058058,    0.059059,     0.06006,    0.061061,    0.062062,    0.063063,    0.064064,    0.065065,    0.066066,    0.067067,    0.068068,    0.069069,     0.07007,    0.071071,\n",
       "          0.072072,    0.073073,    0.074074,    0.075075,    0.076076,    0.077077,    0.078078,    0.079079,     0.08008,    0.081081,    0.082082,    0.083083,    0.084084,    0.085085,    0.086086,    0.087087,    0.088088,    0.089089,     0.09009,    0.091091,    0.092092,    0.093093,    0.094094,    0.095095,\n",
       "          0.096096,    0.097097,    0.098098,    0.099099,      0.1001,      0.1011,      0.1021,      0.1031,      0.1041,     0.10511,     0.10611,     0.10711,     0.10811,     0.10911,     0.11011,     0.11111,     0.11211,     0.11311,     0.11411,     0.11512,     0.11612,     0.11712,     0.11812,     0.11912,\n",
       "           0.12012,     0.12112,     0.12212,     0.12312,     0.12412,     0.12513,     0.12613,     0.12713,     0.12813,     0.12913,     0.13013,     0.13113,     0.13213,     0.13313,     0.13413,     0.13514,     0.13614,     0.13714,     0.13814,     0.13914,     0.14014,     0.14114,     0.14214,     0.14314,\n",
       "           0.14414,     0.14515,     0.14615,     0.14715,     0.14815,     0.14915,     0.15015,     0.15115,     0.15215,     0.15315,     0.15415,     0.15516,     0.15616,     0.15716,     0.15816,     0.15916,     0.16016,     0.16116,     0.16216,     0.16316,     0.16416,     0.16517,     0.16617,     0.16717,\n",
       "           0.16817,     0.16917,     0.17017,     0.17117,     0.17217,     0.17317,     0.17417,     0.17518,     0.17618,     0.17718,     0.17818,     0.17918,     0.18018,     0.18118,     0.18218,     0.18318,     0.18418,     0.18519,     0.18619,     0.18719,     0.18819,     0.18919,     0.19019,     0.19119,\n",
       "           0.19219,     0.19319,     0.19419,      0.1952,      0.1962,      0.1972,      0.1982,      0.1992,      0.2002,      0.2012,      0.2022,      0.2032,      0.2042,     0.20521,     0.20621,     0.20721,     0.20821,     0.20921,     0.21021,     0.21121,     0.21221,     0.21321,     0.21421,     0.21522,\n",
       "           0.21622,     0.21722,     0.21822,     0.21922,     0.22022,     0.22122,     0.22222,     0.22322,     0.22422,     0.22523,     0.22623,     0.22723,     0.22823,     0.22923,     0.23023,     0.23123,     0.23223,     0.23323,     0.23423,     0.23524,     0.23624,     0.23724,     0.23824,     0.23924,\n",
       "           0.24024,     0.24124,     0.24224,     0.24324,     0.24424,     0.24525,     0.24625,     0.24725,     0.24825,     0.24925,     0.25025,     0.25125,     0.25225,     0.25325,     0.25425,     0.25526,     0.25626,     0.25726,     0.25826,     0.25926,     0.26026,     0.26126,     0.26226,     0.26326,\n",
       "           0.26426,     0.26527,     0.26627,     0.26727,     0.26827,     0.26927,     0.27027,     0.27127,     0.27227,     0.27327,     0.27427,     0.27528,     0.27628,     0.27728,     0.27828,     0.27928,     0.28028,     0.28128,     0.28228,     0.28328,     0.28428,     0.28529,     0.28629,     0.28729,\n",
       "           0.28829,     0.28929,     0.29029,     0.29129,     0.29229,     0.29329,     0.29429,      0.2953,      0.2963,      0.2973,      0.2983,      0.2993,      0.3003,      0.3013,      0.3023,      0.3033,      0.3043,     0.30531,     0.30631,     0.30731,     0.30831,     0.30931,     0.31031,     0.31131,\n",
       "           0.31231,     0.31331,     0.31431,     0.31532,     0.31632,     0.31732,     0.31832,     0.31932,     0.32032,     0.32132,     0.32232,     0.32332,     0.32432,     0.32533,     0.32633,     0.32733,     0.32833,     0.32933,     0.33033,     0.33133,     0.33233,     0.33333,     0.33433,     0.33534,\n",
       "           0.33634,     0.33734,     0.33834,     0.33934,     0.34034,     0.34134,     0.34234,     0.34334,     0.34434,     0.34535,     0.34635,     0.34735,     0.34835,     0.34935,     0.35035,     0.35135,     0.35235,     0.35335,     0.35435,     0.35536,     0.35636,     0.35736,     0.35836,     0.35936,\n",
       "           0.36036,     0.36136,     0.36236,     0.36336,     0.36436,     0.36537,     0.36637,     0.36737,     0.36837,     0.36937,     0.37037,     0.37137,     0.37237,     0.37337,     0.37437,     0.37538,     0.37638,     0.37738,     0.37838,     0.37938,     0.38038,     0.38138,     0.38238,     0.38338,\n",
       "           0.38438,     0.38539,     0.38639,     0.38739,     0.38839,     0.38939,     0.39039,     0.39139,     0.39239,     0.39339,     0.39439,      0.3954,      0.3964,      0.3974,      0.3984,      0.3994,      0.4004,      0.4014,      0.4024,      0.4034,      0.4044,     0.40541,     0.40641,     0.40741,\n",
       "           0.40841,     0.40941,     0.41041,     0.41141,     0.41241,     0.41341,     0.41441,     0.41542,     0.41642,     0.41742,     0.41842,     0.41942,     0.42042,     0.42142,     0.42242,     0.42342,     0.42442,     0.42543,     0.42643,     0.42743,     0.42843,     0.42943,     0.43043,     0.43143,\n",
       "           0.43243,     0.43343,     0.43443,     0.43544,     0.43644,     0.43744,     0.43844,     0.43944,     0.44044,     0.44144,     0.44244,     0.44344,     0.44444,     0.44545,     0.44645,     0.44745,     0.44845,     0.44945,     0.45045,     0.45145,     0.45245,     0.45345,     0.45445,     0.45546,\n",
       "           0.45646,     0.45746,     0.45846,     0.45946,     0.46046,     0.46146,     0.46246,     0.46346,     0.46446,     0.46547,     0.46647,     0.46747,     0.46847,     0.46947,     0.47047,     0.47147,     0.47247,     0.47347,     0.47447,     0.47548,     0.47648,     0.47748,     0.47848,     0.47948,\n",
       "           0.48048,     0.48148,     0.48248,     0.48348,     0.48448,     0.48549,     0.48649,     0.48749,     0.48849,     0.48949,     0.49049,     0.49149,     0.49249,     0.49349,     0.49449,      0.4955,      0.4965,      0.4975,      0.4985,      0.4995,      0.5005,      0.5015,      0.5025,      0.5035,\n",
       "            0.5045,     0.50551,     0.50651,     0.50751,     0.50851,     0.50951,     0.51051,     0.51151,     0.51251,     0.51351,     0.51451,     0.51552,     0.51652,     0.51752,     0.51852,     0.51952,     0.52052,     0.52152,     0.52252,     0.52352,     0.52452,     0.52553,     0.52653,     0.52753,\n",
       "           0.52853,     0.52953,     0.53053,     0.53153,     0.53253,     0.53353,     0.53453,     0.53554,     0.53654,     0.53754,     0.53854,     0.53954,     0.54054,     0.54154,     0.54254,     0.54354,     0.54454,     0.54555,     0.54655,     0.54755,     0.54855,     0.54955,     0.55055,     0.55155,\n",
       "           0.55255,     0.55355,     0.55455,     0.55556,     0.55656,     0.55756,     0.55856,     0.55956,     0.56056,     0.56156,     0.56256,     0.56356,     0.56456,     0.56557,     0.56657,     0.56757,     0.56857,     0.56957,     0.57057,     0.57157,     0.57257,     0.57357,     0.57457,     0.57558,\n",
       "           0.57658,     0.57758,     0.57858,     0.57958,     0.58058,     0.58158,     0.58258,     0.58358,     0.58458,     0.58559,     0.58659,     0.58759,     0.58859,     0.58959,     0.59059,     0.59159,     0.59259,     0.59359,     0.59459,      0.5956,      0.5966,      0.5976,      0.5986,      0.5996,\n",
       "            0.6006,      0.6016,      0.6026,      0.6036,      0.6046,     0.60561,     0.60661,     0.60761,     0.60861,     0.60961,     0.61061,     0.61161,     0.61261,     0.61361,     0.61461,     0.61562,     0.61662,     0.61762,     0.61862,     0.61962,     0.62062,     0.62162,     0.62262,     0.62362,\n",
       "           0.62462,     0.62563,     0.62663,     0.62763,     0.62863,     0.62963,     0.63063,     0.63163,     0.63263,     0.63363,     0.63463,     0.63564,     0.63664,     0.63764,     0.63864,     0.63964,     0.64064,     0.64164,     0.64264,     0.64364,     0.64464,     0.64565,     0.64665,     0.64765,\n",
       "           0.64865,     0.64965,     0.65065,     0.65165,     0.65265,     0.65365,     0.65465,     0.65566,     0.65666,     0.65766,     0.65866,     0.65966,     0.66066,     0.66166,     0.66266,     0.66366,     0.66466,     0.66567,     0.66667,     0.66767,     0.66867,     0.66967,     0.67067,     0.67167,\n",
       "           0.67267,     0.67367,     0.67467,     0.67568,     0.67668,     0.67768,     0.67868,     0.67968,     0.68068,     0.68168,     0.68268,     0.68368,     0.68468,     0.68569,     0.68669,     0.68769,     0.68869,     0.68969,     0.69069,     0.69169,     0.69269,     0.69369,     0.69469,      0.6957,\n",
       "            0.6967,      0.6977,      0.6987,      0.6997,      0.7007,      0.7017,      0.7027,      0.7037,      0.7047,     0.70571,     0.70671,     0.70771,     0.70871,     0.70971,     0.71071,     0.71171,     0.71271,     0.71371,     0.71471,     0.71572,     0.71672,     0.71772,     0.71872,     0.71972,\n",
       "           0.72072,     0.72172,     0.72272,     0.72372,     0.72472,     0.72573,     0.72673,     0.72773,     0.72873,     0.72973,     0.73073,     0.73173,     0.73273,     0.73373,     0.73473,     0.73574,     0.73674,     0.73774,     0.73874,     0.73974,     0.74074,     0.74174,     0.74274,     0.74374,\n",
       "           0.74474,     0.74575,     0.74675,     0.74775,     0.74875,     0.74975,     0.75075,     0.75175,     0.75275,     0.75375,     0.75475,     0.75576,     0.75676,     0.75776,     0.75876,     0.75976,     0.76076,     0.76176,     0.76276,     0.76376,     0.76476,     0.76577,     0.76677,     0.76777,\n",
       "           0.76877,     0.76977,     0.77077,     0.77177,     0.77277,     0.77377,     0.77477,     0.77578,     0.77678,     0.77778,     0.77878,     0.77978,     0.78078,     0.78178,     0.78278,     0.78378,     0.78478,     0.78579,     0.78679,     0.78779,     0.78879,     0.78979,     0.79079,     0.79179,\n",
       "           0.79279,     0.79379,     0.79479,      0.7958,      0.7968,      0.7978,      0.7988,      0.7998,      0.8008,      0.8018,      0.8028,      0.8038,      0.8048,     0.80581,     0.80681,     0.80781,     0.80881,     0.80981,     0.81081,     0.81181,     0.81281,     0.81381,     0.81481,     0.81582,\n",
       "           0.81682,     0.81782,     0.81882,     0.81982,     0.82082,     0.82182,     0.82282,     0.82382,     0.82482,     0.82583,     0.82683,     0.82783,     0.82883,     0.82983,     0.83083,     0.83183,     0.83283,     0.83383,     0.83483,     0.83584,     0.83684,     0.83784,     0.83884,     0.83984,\n",
       "           0.84084,     0.84184,     0.84284,     0.84384,     0.84484,     0.84585,     0.84685,     0.84785,     0.84885,     0.84985,     0.85085,     0.85185,     0.85285,     0.85385,     0.85485,     0.85586,     0.85686,     0.85786,     0.85886,     0.85986,     0.86086,     0.86186,     0.86286,     0.86386,\n",
       "           0.86486,     0.86587,     0.86687,     0.86787,     0.86887,     0.86987,     0.87087,     0.87187,     0.87287,     0.87387,     0.87487,     0.87588,     0.87688,     0.87788,     0.87888,     0.87988,     0.88088,     0.88188,     0.88288,     0.88388,     0.88488,     0.88589,     0.88689,     0.88789,\n",
       "           0.88889,     0.88989,     0.89089,     0.89189,     0.89289,     0.89389,     0.89489,      0.8959,      0.8969,      0.8979,      0.8989,      0.8999,      0.9009,      0.9019,      0.9029,      0.9039,      0.9049,     0.90591,     0.90691,     0.90791,     0.90891,     0.90991,     0.91091,     0.91191,\n",
       "           0.91291,     0.91391,     0.91491,     0.91592,     0.91692,     0.91792,     0.91892,     0.91992,     0.92092,     0.92192,     0.92292,     0.92392,     0.92492,     0.92593,     0.92693,     0.92793,     0.92893,     0.92993,     0.93093,     0.93193,     0.93293,     0.93393,     0.93493,     0.93594,\n",
       "           0.93694,     0.93794,     0.93894,     0.93994,     0.94094,     0.94194,     0.94294,     0.94394,     0.94494,     0.94595,     0.94695,     0.94795,     0.94895,     0.94995,     0.95095,     0.95195,     0.95295,     0.95395,     0.95495,     0.95596,     0.95696,     0.95796,     0.95896,     0.95996,\n",
       "           0.96096,     0.96196,     0.96296,     0.96396,     0.96496,     0.96597,     0.96697,     0.96797,     0.96897,     0.96997,     0.97097,     0.97197,     0.97297,     0.97397,     0.97497,     0.97598,     0.97698,     0.97798,     0.97898,     0.97998,     0.98098,     0.98198,     0.98298,     0.98398,\n",
       "           0.98498,     0.98599,     0.98699,     0.98799,     0.98899,     0.98999,     0.99099,     0.99199,     0.99299,     0.99399,     0.99499,       0.996,       0.997,       0.998,       0.999,           1]), array([[    0.42889,     0.42889,     0.54177,     0.60969,      0.6625,     0.70089,     0.73433,     0.75393,     0.76587,     0.77239,     0.77729,      0.7806,     0.79218,     0.79691,     0.80117,     0.80601,     0.81382,     0.81491,     0.81731,     0.81913,     0.82237,     0.82804,      0.8288,\n",
       "            0.82955,     0.83259,     0.83833,     0.84174,     0.84408,     0.84614,     0.84717,     0.84798,     0.85039,     0.85111,     0.85182,     0.85272,     0.85392,     0.85409,     0.85392,     0.85516,     0.85714,     0.86009,     0.86222,     0.86312,     0.86411,     0.86528,     0.86557,\n",
       "            0.86697,     0.86804,     0.86876,     0.86946,      0.8694,     0.86933,     0.86926,     0.86919,     0.86904,     0.86967,     0.87134,     0.87204,     0.87274,     0.87486,     0.87585,     0.87674,     0.87788,     0.87915,     0.87955,     0.87995,     0.88035,     0.88075,     0.88114,\n",
       "            0.88256,     0.88544,     0.88572,     0.88599,     0.88626,     0.88654,     0.88681,     0.88708,     0.88736,     0.88772,     0.88832,     0.88892,     0.88952,     0.89007,      0.8906,     0.89113,     0.89167,     0.89257,     0.89364,     0.89418,     0.89448,     0.89477,     0.89507,\n",
       "            0.89537,     0.89567,     0.89597,      0.8961,       0.896,     0.89591,     0.89732,     0.89782,     0.89778,     0.89774,      0.8977,     0.89767,     0.89763,      0.8976,     0.89756,     0.89805,     0.89856,     0.89906,     0.89957,      0.8998,     0.89986,     0.89993,     0.89999,\n",
       "            0.90006,     0.90012,     0.90019,     0.90026,     0.90032,     0.90039,     0.90045,     0.90052,     0.90058,     0.90065,     0.90071,     0.90078,     0.90085,     0.90091,     0.90098,     0.90104,     0.90111,     0.90117,     0.90124,      0.9013,     0.90137,     0.90144,      0.9015,\n",
       "            0.90157,     0.90163,      0.9017,     0.90176,     0.90183,     0.90189,     0.90196,     0.90241,     0.90286,     0.90331,     0.90377,     0.90427,     0.90518,      0.9061,      0.9064,     0.90639,     0.90638,     0.90637,     0.90637,     0.90636,     0.90635,     0.90634,     0.90633,\n",
       "            0.90633,     0.90632,     0.90631,      0.9063,     0.90629,     0.90629,     0.90628,     0.90627,     0.90626,     0.90625,     0.90625,     0.90624,     0.90623,     0.90622,     0.90621,     0.90621,      0.9062,     0.90619,     0.90618,     0.90617,     0.90643,     0.90676,      0.9071,\n",
       "            0.90743,     0.90776,      0.9081,     0.90844,     0.90886,     0.90928,      0.9097,     0.91012,     0.91054,     0.91195,     0.91304,     0.91327,      0.9135,     0.91372,     0.91395,     0.91418,     0.91441,     0.91464,     0.91486,     0.91509,     0.91752,     0.91757,     0.91762,\n",
       "            0.91766,     0.91771,     0.91776,     0.91781,     0.91785,      0.9179,     0.91795,     0.91799,     0.91804,     0.91809,     0.91814,     0.91818,     0.91823,     0.91828,     0.91833,     0.91837,     0.91842,     0.91847,     0.91851,     0.91856,     0.91861,     0.91866,      0.9187,\n",
       "            0.91875,      0.9188,     0.91885,     0.91889,     0.91894,     0.91899,     0.91903,     0.91908,     0.91913,     0.91918,     0.91922,     0.91927,     0.91932,     0.91937,     0.91941,     0.91946,     0.91951,     0.91955,      0.9196,     0.91965,      0.9197,     0.91974,     0.91979,\n",
       "            0.91986,     0.91993,        0.92,     0.92007,     0.92014,     0.92021,     0.92028,     0.92035,     0.92042,     0.92049,     0.92056,     0.92063,      0.9207,     0.92077,     0.92084,     0.92091,     0.92098,     0.92105,     0.92112,     0.92119,     0.92126,     0.92133,      0.9214,\n",
       "            0.92147,     0.92154,     0.92161,     0.92168,     0.92175,     0.92182,     0.92189,     0.92196,     0.92203,      0.9221,      0.9221,      0.9221,     0.92209,     0.92208,     0.92207,     0.92207,     0.92206,     0.92205,     0.92205,     0.92204,     0.92203,     0.92202,     0.92202,\n",
       "            0.92201,       0.922,     0.92199,     0.92199,     0.92198,     0.92197,     0.92197,     0.92196,     0.92195,     0.92194,     0.92194,     0.92193,     0.92192,     0.92191,     0.92191,      0.9219,      0.9219,     0.92189,     0.92189,     0.92188,     0.92188,     0.92187,     0.92187,\n",
       "            0.92186,     0.92185,     0.92185,     0.92184,     0.92184,     0.92183,     0.92183,     0.92182,     0.92182,     0.92181,     0.92181,      0.9218,     0.92179,     0.92179,     0.92178,     0.92178,     0.92177,     0.92177,     0.92176,     0.92176,     0.92175,     0.92175,     0.92174,\n",
       "            0.92173,     0.92173,     0.92172,     0.92172,     0.92183,     0.92198,     0.92214,     0.92229,     0.92244,      0.9226,     0.92275,     0.92291,     0.92306,     0.92322,     0.92337,     0.92353,     0.92368,     0.92383,     0.92399,     0.92418,     0.92439,      0.9246,     0.92482,\n",
       "            0.92503,     0.92525,     0.92546,     0.92567,     0.92589,      0.9261,     0.92631,     0.92628,     0.92662,     0.92727,     0.92792,     0.92856,     0.93096,     0.93236,     0.93337,      0.9335,     0.93363,     0.93376,     0.93389,     0.93402,     0.93415,     0.93428,     0.93441,\n",
       "            0.93454,     0.93467,      0.9348,     0.93493,     0.93506,     0.93518,     0.93531,     0.93544,     0.93557,      0.9357,     0.93576,     0.93581,     0.93585,     0.93589,     0.93593,     0.93598,     0.93602,     0.93606,      0.9361,     0.93614,     0.93619,     0.93623,     0.93627,\n",
       "            0.93631,     0.93635,      0.9364,     0.93644,     0.93648,     0.93652,     0.93656,     0.93661,     0.93665,     0.93669,     0.93673,     0.93677,     0.93682,     0.93686,      0.9369,     0.93694,     0.93699,     0.93703,     0.93707,     0.93711,     0.93715,      0.9372,     0.93724,\n",
       "            0.93728,     0.93732,     0.93736,     0.93741,     0.93745,     0.93749,     0.93753,     0.93757,     0.93762,     0.93766,      0.9377,     0.93774,     0.93778,     0.93783,     0.93787,     0.93791,     0.93795,     0.93799,     0.93804,     0.93808,     0.93812,     0.93811,     0.93803,\n",
       "            0.93798,     0.93798,     0.93798,     0.93797,     0.93797,     0.93797,     0.93796,     0.93796,     0.93796,     0.93795,     0.93795,     0.93795,     0.93794,     0.93794,     0.93794,     0.93794,     0.93793,     0.93793,     0.93793,     0.93792,     0.93792,     0.93792,     0.93791,\n",
       "            0.93791,     0.93791,      0.9379,      0.9379,      0.9379,     0.93789,     0.93789,     0.93789,     0.93788,     0.93788,     0.93788,     0.93788,     0.93787,     0.93787,     0.93787,     0.93786,     0.93786,     0.93786,     0.93785,     0.93785,     0.93785,     0.93784,     0.93784,\n",
       "            0.93784,     0.93783,     0.93783,     0.93783,     0.93782,     0.93782,     0.93781,      0.9378,     0.93779,     0.93778,     0.93778,     0.93777,     0.93776,     0.93775,     0.93774,     0.93773,     0.93773,     0.93772,     0.93771,      0.9377,     0.93769,     0.93769,     0.93768,\n",
       "            0.93767,     0.93767,     0.93771,     0.93775,     0.93779,     0.93783,     0.93787,     0.93791,     0.93795,     0.93799,     0.93803,     0.93807,     0.93811,     0.93815,     0.93819,     0.93823,     0.93827,     0.93831,     0.93835,     0.93839,     0.93843,     0.93847,     0.93851,\n",
       "            0.93855,     0.93859,     0.93863,     0.93867,     0.93871,     0.93875,     0.93878,     0.93882,     0.93886,      0.9389,     0.93894,     0.93898,     0.93902,     0.93906,      0.9391,     0.93914,     0.93918,     0.93922,     0.93926,      0.9393,     0.93934,     0.93938,     0.93942,\n",
       "            0.93946,      0.9395,     0.93954,     0.93958,     0.93962,     0.93966,      0.9397,     0.93974,     0.93978,     0.93982,     0.93986,      0.9399,     0.93994,     0.93998,     0.94002,     0.94006,      0.9401,      0.9401,     0.94009,     0.94009,     0.94008,     0.94008,     0.94007,\n",
       "            0.94007,     0.94006,     0.94006,     0.94005,     0.94005,     0.94004,     0.94003,     0.94003,     0.94002,     0.94002,     0.94001,     0.94001,        0.94,        0.94,     0.93999,     0.93999,     0.93998,     0.93997,     0.93997,     0.93996,     0.93996,     0.93995,     0.93995,\n",
       "            0.93994,     0.93992,     0.93991,      0.9399,     0.93989,     0.93987,     0.93986,     0.93985,     0.93984,     0.93982,     0.93981,      0.9398,     0.94063,     0.94233,     0.94252,     0.94272,     0.94291,     0.94311,      0.9433,      0.9435,      0.9437,     0.94389,     0.94409,\n",
       "            0.94428,     0.94448,     0.94467,     0.94498,     0.94535,     0.94571,     0.94608,     0.94644,     0.94681,     0.94717,     0.94832,      0.9496,     0.94999,     0.95028,     0.95057,     0.95085,     0.95114,     0.95143,     0.95171,       0.952,     0.95225,     0.95224,     0.95223,\n",
       "            0.95222,     0.95221,      0.9522,     0.95219,     0.95218,     0.95217,     0.95216,     0.95215,     0.95214,     0.95213,     0.95229,     0.95266,     0.95303,      0.9534,     0.95378,     0.95415,     0.95452,     0.95493,     0.95537,      0.9558,     0.95624,     0.95667,     0.95711,\n",
       "             0.9572,     0.95718,     0.95717,     0.95715,     0.95713,     0.95711,     0.95719,     0.95728,     0.95737,     0.95746,     0.95755,     0.95764,     0.95773,     0.95782,     0.95791,       0.958,      0.9581,     0.95819,     0.95828,     0.95837,     0.95846,     0.95855,     0.95864,\n",
       "            0.95873,     0.95882,     0.95891,       0.959,      0.9591,     0.95919,     0.95928,     0.95937,     0.95946,     0.95955,     0.95964,     0.95961,     0.95957,     0.95956,     0.95955,     0.95955,     0.95954,     0.95954,     0.95953,     0.95952,     0.95952,     0.95951,     0.95951,\n",
       "             0.9595,      0.9595,     0.95949,     0.95948,     0.95948,     0.95947,     0.95947,     0.95946,     0.95941,     0.95935,     0.95934,     0.95933,     0.95933,     0.95932,     0.95931,     0.95931,      0.9593,     0.95929,     0.95928,     0.95928,     0.95927,     0.95926,     0.95926,\n",
       "            0.95925,     0.95924,     0.95936,      0.9596,     0.95983,     0.96006,     0.96029,     0.96053,     0.96076,     0.96099,     0.96123,     0.96146,     0.96169,     0.96209,     0.96286,     0.96363,      0.9644,     0.96448,     0.96447,     0.96446,     0.96446,     0.96445,     0.96444,\n",
       "            0.96444,     0.96443,     0.96442,     0.96442,     0.96441,      0.9644,      0.9644,     0.96439,     0.96439,     0.96579,     0.96703,     0.96702,     0.96701,       0.967,     0.96699,     0.96699,     0.96698,     0.96697,     0.96696,     0.96695,     0.96694,     0.96692,     0.96691,\n",
       "            0.96689,     0.96687,     0.96686,     0.96678,     0.96675,     0.96674,     0.96672,     0.96671,      0.9667,     0.96669,     0.96667,     0.96666,     0.96664,     0.96663,     0.96661,      0.9666,     0.96658,     0.96657,     0.96656,     0.96656,     0.96655,     0.96654,     0.96654,\n",
       "            0.96653,     0.96652,     0.96652,     0.96651,      0.9665,     0.96649,     0.96649,     0.96648,     0.96647,     0.96646,     0.96645,     0.96644,     0.96642,     0.96641,      0.9664,     0.96639,     0.96637,     0.96636,     0.96634,     0.96632,      0.9663,     0.96663,      0.9671,\n",
       "            0.96756,     0.96803,     0.96849,     0.96896,     0.96972,     0.97052,     0.97132,     0.97175,     0.97173,     0.97172,      0.9717,     0.97169,     0.97168,     0.97164,     0.97175,     0.97289,     0.97402,     0.97432,     0.97427,      0.9742,     0.97417,     0.97414,     0.97652,\n",
       "            0.97694,     0.97693,     0.97692,      0.9769,     0.97689,     0.97688,     0.97687,     0.97686,     0.97684,     0.97683,     0.97682,     0.97773,     0.97919,     0.98364,     0.98536,     0.98533,     0.98539,     0.98577,     0.98614,     0.98651,     0.98688,     0.98726,     0.98763,\n",
       "              0.988,     0.99112,      0.9911,     0.99109,     0.99104,     0.99102,       0.991,     0.99099,     0.99098,     0.99097,     0.99094,     0.99087,      0.9908,      0.9907,     0.99066,     0.99064,     0.99063,      0.9906,     0.99303,     0.99362,     0.99357,     0.99344,     0.99337,\n",
       "            0.99326,     0.99659,     0.99655,     0.99651,     0.99646,      0.9964,     0.99636,     0.99633,     0.99626,     0.99624,     0.99623,      0.9962,     0.99613,     0.99608,           1,           1,           1,           1,           1,           1,           1,           1,           1,\n",
       "                  1,           1,           1,           1,           1,           1,           1,           1,           1,           1,           1,           1,           1,           1,           1,           1,           1,           1,           1,           1,           1,           1,           1,\n",
       "                  1,           1,           1,           1,           1,           1,           1,           1,           1,           1,           1,           1,           1,           1,           1,           1,           1,           1,           1,           1,           1,           1,           1,\n",
       "                  1,           1,           1,           1,           1,           1,           1,           1,           1,           1,           1]]), 'Confidence', 'Precision'], [array([          0,    0.001001,    0.002002,    0.003003,    0.004004,    0.005005,    0.006006,    0.007007,    0.008008,    0.009009,     0.01001,    0.011011,    0.012012,    0.013013,    0.014014,    0.015015,    0.016016,    0.017017,    0.018018,    0.019019,     0.02002,    0.021021,    0.022022,    0.023023,\n",
       "          0.024024,    0.025025,    0.026026,    0.027027,    0.028028,    0.029029,     0.03003,    0.031031,    0.032032,    0.033033,    0.034034,    0.035035,    0.036036,    0.037037,    0.038038,    0.039039,     0.04004,    0.041041,    0.042042,    0.043043,    0.044044,    0.045045,    0.046046,    0.047047,\n",
       "          0.048048,    0.049049,     0.05005,    0.051051,    0.052052,    0.053053,    0.054054,    0.055055,    0.056056,    0.057057,    0.058058,    0.059059,     0.06006,    0.061061,    0.062062,    0.063063,    0.064064,    0.065065,    0.066066,    0.067067,    0.068068,    0.069069,     0.07007,    0.071071,\n",
       "          0.072072,    0.073073,    0.074074,    0.075075,    0.076076,    0.077077,    0.078078,    0.079079,     0.08008,    0.081081,    0.082082,    0.083083,    0.084084,    0.085085,    0.086086,    0.087087,    0.088088,    0.089089,     0.09009,    0.091091,    0.092092,    0.093093,    0.094094,    0.095095,\n",
       "          0.096096,    0.097097,    0.098098,    0.099099,      0.1001,      0.1011,      0.1021,      0.1031,      0.1041,     0.10511,     0.10611,     0.10711,     0.10811,     0.10911,     0.11011,     0.11111,     0.11211,     0.11311,     0.11411,     0.11512,     0.11612,     0.11712,     0.11812,     0.11912,\n",
       "           0.12012,     0.12112,     0.12212,     0.12312,     0.12412,     0.12513,     0.12613,     0.12713,     0.12813,     0.12913,     0.13013,     0.13113,     0.13213,     0.13313,     0.13413,     0.13514,     0.13614,     0.13714,     0.13814,     0.13914,     0.14014,     0.14114,     0.14214,     0.14314,\n",
       "           0.14414,     0.14515,     0.14615,     0.14715,     0.14815,     0.14915,     0.15015,     0.15115,     0.15215,     0.15315,     0.15415,     0.15516,     0.15616,     0.15716,     0.15816,     0.15916,     0.16016,     0.16116,     0.16216,     0.16316,     0.16416,     0.16517,     0.16617,     0.16717,\n",
       "           0.16817,     0.16917,     0.17017,     0.17117,     0.17217,     0.17317,     0.17417,     0.17518,     0.17618,     0.17718,     0.17818,     0.17918,     0.18018,     0.18118,     0.18218,     0.18318,     0.18418,     0.18519,     0.18619,     0.18719,     0.18819,     0.18919,     0.19019,     0.19119,\n",
       "           0.19219,     0.19319,     0.19419,      0.1952,      0.1962,      0.1972,      0.1982,      0.1992,      0.2002,      0.2012,      0.2022,      0.2032,      0.2042,     0.20521,     0.20621,     0.20721,     0.20821,     0.20921,     0.21021,     0.21121,     0.21221,     0.21321,     0.21421,     0.21522,\n",
       "           0.21622,     0.21722,     0.21822,     0.21922,     0.22022,     0.22122,     0.22222,     0.22322,     0.22422,     0.22523,     0.22623,     0.22723,     0.22823,     0.22923,     0.23023,     0.23123,     0.23223,     0.23323,     0.23423,     0.23524,     0.23624,     0.23724,     0.23824,     0.23924,\n",
       "           0.24024,     0.24124,     0.24224,     0.24324,     0.24424,     0.24525,     0.24625,     0.24725,     0.24825,     0.24925,     0.25025,     0.25125,     0.25225,     0.25325,     0.25425,     0.25526,     0.25626,     0.25726,     0.25826,     0.25926,     0.26026,     0.26126,     0.26226,     0.26326,\n",
       "           0.26426,     0.26527,     0.26627,     0.26727,     0.26827,     0.26927,     0.27027,     0.27127,     0.27227,     0.27327,     0.27427,     0.27528,     0.27628,     0.27728,     0.27828,     0.27928,     0.28028,     0.28128,     0.28228,     0.28328,     0.28428,     0.28529,     0.28629,     0.28729,\n",
       "           0.28829,     0.28929,     0.29029,     0.29129,     0.29229,     0.29329,     0.29429,      0.2953,      0.2963,      0.2973,      0.2983,      0.2993,      0.3003,      0.3013,      0.3023,      0.3033,      0.3043,     0.30531,     0.30631,     0.30731,     0.30831,     0.30931,     0.31031,     0.31131,\n",
       "           0.31231,     0.31331,     0.31431,     0.31532,     0.31632,     0.31732,     0.31832,     0.31932,     0.32032,     0.32132,     0.32232,     0.32332,     0.32432,     0.32533,     0.32633,     0.32733,     0.32833,     0.32933,     0.33033,     0.33133,     0.33233,     0.33333,     0.33433,     0.33534,\n",
       "           0.33634,     0.33734,     0.33834,     0.33934,     0.34034,     0.34134,     0.34234,     0.34334,     0.34434,     0.34535,     0.34635,     0.34735,     0.34835,     0.34935,     0.35035,     0.35135,     0.35235,     0.35335,     0.35435,     0.35536,     0.35636,     0.35736,     0.35836,     0.35936,\n",
       "           0.36036,     0.36136,     0.36236,     0.36336,     0.36436,     0.36537,     0.36637,     0.36737,     0.36837,     0.36937,     0.37037,     0.37137,     0.37237,     0.37337,     0.37437,     0.37538,     0.37638,     0.37738,     0.37838,     0.37938,     0.38038,     0.38138,     0.38238,     0.38338,\n",
       "           0.38438,     0.38539,     0.38639,     0.38739,     0.38839,     0.38939,     0.39039,     0.39139,     0.39239,     0.39339,     0.39439,      0.3954,      0.3964,      0.3974,      0.3984,      0.3994,      0.4004,      0.4014,      0.4024,      0.4034,      0.4044,     0.40541,     0.40641,     0.40741,\n",
       "           0.40841,     0.40941,     0.41041,     0.41141,     0.41241,     0.41341,     0.41441,     0.41542,     0.41642,     0.41742,     0.41842,     0.41942,     0.42042,     0.42142,     0.42242,     0.42342,     0.42442,     0.42543,     0.42643,     0.42743,     0.42843,     0.42943,     0.43043,     0.43143,\n",
       "           0.43243,     0.43343,     0.43443,     0.43544,     0.43644,     0.43744,     0.43844,     0.43944,     0.44044,     0.44144,     0.44244,     0.44344,     0.44444,     0.44545,     0.44645,     0.44745,     0.44845,     0.44945,     0.45045,     0.45145,     0.45245,     0.45345,     0.45445,     0.45546,\n",
       "           0.45646,     0.45746,     0.45846,     0.45946,     0.46046,     0.46146,     0.46246,     0.46346,     0.46446,     0.46547,     0.46647,     0.46747,     0.46847,     0.46947,     0.47047,     0.47147,     0.47247,     0.47347,     0.47447,     0.47548,     0.47648,     0.47748,     0.47848,     0.47948,\n",
       "           0.48048,     0.48148,     0.48248,     0.48348,     0.48448,     0.48549,     0.48649,     0.48749,     0.48849,     0.48949,     0.49049,     0.49149,     0.49249,     0.49349,     0.49449,      0.4955,      0.4965,      0.4975,      0.4985,      0.4995,      0.5005,      0.5015,      0.5025,      0.5035,\n",
       "            0.5045,     0.50551,     0.50651,     0.50751,     0.50851,     0.50951,     0.51051,     0.51151,     0.51251,     0.51351,     0.51451,     0.51552,     0.51652,     0.51752,     0.51852,     0.51952,     0.52052,     0.52152,     0.52252,     0.52352,     0.52452,     0.52553,     0.52653,     0.52753,\n",
       "           0.52853,     0.52953,     0.53053,     0.53153,     0.53253,     0.53353,     0.53453,     0.53554,     0.53654,     0.53754,     0.53854,     0.53954,     0.54054,     0.54154,     0.54254,     0.54354,     0.54454,     0.54555,     0.54655,     0.54755,     0.54855,     0.54955,     0.55055,     0.55155,\n",
       "           0.55255,     0.55355,     0.55455,     0.55556,     0.55656,     0.55756,     0.55856,     0.55956,     0.56056,     0.56156,     0.56256,     0.56356,     0.56456,     0.56557,     0.56657,     0.56757,     0.56857,     0.56957,     0.57057,     0.57157,     0.57257,     0.57357,     0.57457,     0.57558,\n",
       "           0.57658,     0.57758,     0.57858,     0.57958,     0.58058,     0.58158,     0.58258,     0.58358,     0.58458,     0.58559,     0.58659,     0.58759,     0.58859,     0.58959,     0.59059,     0.59159,     0.59259,     0.59359,     0.59459,      0.5956,      0.5966,      0.5976,      0.5986,      0.5996,\n",
       "            0.6006,      0.6016,      0.6026,      0.6036,      0.6046,     0.60561,     0.60661,     0.60761,     0.60861,     0.60961,     0.61061,     0.61161,     0.61261,     0.61361,     0.61461,     0.61562,     0.61662,     0.61762,     0.61862,     0.61962,     0.62062,     0.62162,     0.62262,     0.62362,\n",
       "           0.62462,     0.62563,     0.62663,     0.62763,     0.62863,     0.62963,     0.63063,     0.63163,     0.63263,     0.63363,     0.63463,     0.63564,     0.63664,     0.63764,     0.63864,     0.63964,     0.64064,     0.64164,     0.64264,     0.64364,     0.64464,     0.64565,     0.64665,     0.64765,\n",
       "           0.64865,     0.64965,     0.65065,     0.65165,     0.65265,     0.65365,     0.65465,     0.65566,     0.65666,     0.65766,     0.65866,     0.65966,     0.66066,     0.66166,     0.66266,     0.66366,     0.66466,     0.66567,     0.66667,     0.66767,     0.66867,     0.66967,     0.67067,     0.67167,\n",
       "           0.67267,     0.67367,     0.67467,     0.67568,     0.67668,     0.67768,     0.67868,     0.67968,     0.68068,     0.68168,     0.68268,     0.68368,     0.68468,     0.68569,     0.68669,     0.68769,     0.68869,     0.68969,     0.69069,     0.69169,     0.69269,     0.69369,     0.69469,      0.6957,\n",
       "            0.6967,      0.6977,      0.6987,      0.6997,      0.7007,      0.7017,      0.7027,      0.7037,      0.7047,     0.70571,     0.70671,     0.70771,     0.70871,     0.70971,     0.71071,     0.71171,     0.71271,     0.71371,     0.71471,     0.71572,     0.71672,     0.71772,     0.71872,     0.71972,\n",
       "           0.72072,     0.72172,     0.72272,     0.72372,     0.72472,     0.72573,     0.72673,     0.72773,     0.72873,     0.72973,     0.73073,     0.73173,     0.73273,     0.73373,     0.73473,     0.73574,     0.73674,     0.73774,     0.73874,     0.73974,     0.74074,     0.74174,     0.74274,     0.74374,\n",
       "           0.74474,     0.74575,     0.74675,     0.74775,     0.74875,     0.74975,     0.75075,     0.75175,     0.75275,     0.75375,     0.75475,     0.75576,     0.75676,     0.75776,     0.75876,     0.75976,     0.76076,     0.76176,     0.76276,     0.76376,     0.76476,     0.76577,     0.76677,     0.76777,\n",
       "           0.76877,     0.76977,     0.77077,     0.77177,     0.77277,     0.77377,     0.77477,     0.77578,     0.77678,     0.77778,     0.77878,     0.77978,     0.78078,     0.78178,     0.78278,     0.78378,     0.78478,     0.78579,     0.78679,     0.78779,     0.78879,     0.78979,     0.79079,     0.79179,\n",
       "           0.79279,     0.79379,     0.79479,      0.7958,      0.7968,      0.7978,      0.7988,      0.7998,      0.8008,      0.8018,      0.8028,      0.8038,      0.8048,     0.80581,     0.80681,     0.80781,     0.80881,     0.80981,     0.81081,     0.81181,     0.81281,     0.81381,     0.81481,     0.81582,\n",
       "           0.81682,     0.81782,     0.81882,     0.81982,     0.82082,     0.82182,     0.82282,     0.82382,     0.82482,     0.82583,     0.82683,     0.82783,     0.82883,     0.82983,     0.83083,     0.83183,     0.83283,     0.83383,     0.83483,     0.83584,     0.83684,     0.83784,     0.83884,     0.83984,\n",
       "           0.84084,     0.84184,     0.84284,     0.84384,     0.84484,     0.84585,     0.84685,     0.84785,     0.84885,     0.84985,     0.85085,     0.85185,     0.85285,     0.85385,     0.85485,     0.85586,     0.85686,     0.85786,     0.85886,     0.85986,     0.86086,     0.86186,     0.86286,     0.86386,\n",
       "           0.86486,     0.86587,     0.86687,     0.86787,     0.86887,     0.86987,     0.87087,     0.87187,     0.87287,     0.87387,     0.87487,     0.87588,     0.87688,     0.87788,     0.87888,     0.87988,     0.88088,     0.88188,     0.88288,     0.88388,     0.88488,     0.88589,     0.88689,     0.88789,\n",
       "           0.88889,     0.88989,     0.89089,     0.89189,     0.89289,     0.89389,     0.89489,      0.8959,      0.8969,      0.8979,      0.8989,      0.8999,      0.9009,      0.9019,      0.9029,      0.9039,      0.9049,     0.90591,     0.90691,     0.90791,     0.90891,     0.90991,     0.91091,     0.91191,\n",
       "           0.91291,     0.91391,     0.91491,     0.91592,     0.91692,     0.91792,     0.91892,     0.91992,     0.92092,     0.92192,     0.92292,     0.92392,     0.92492,     0.92593,     0.92693,     0.92793,     0.92893,     0.92993,     0.93093,     0.93193,     0.93293,     0.93393,     0.93493,     0.93594,\n",
       "           0.93694,     0.93794,     0.93894,     0.93994,     0.94094,     0.94194,     0.94294,     0.94394,     0.94494,     0.94595,     0.94695,     0.94795,     0.94895,     0.94995,     0.95095,     0.95195,     0.95295,     0.95395,     0.95495,     0.95596,     0.95696,     0.95796,     0.95896,     0.95996,\n",
       "           0.96096,     0.96196,     0.96296,     0.96396,     0.96496,     0.96597,     0.96697,     0.96797,     0.96897,     0.96997,     0.97097,     0.97197,     0.97297,     0.97397,     0.97497,     0.97598,     0.97698,     0.97798,     0.97898,     0.97998,     0.98098,     0.98198,     0.98298,     0.98398,\n",
       "           0.98498,     0.98599,     0.98699,     0.98799,     0.98899,     0.98999,     0.99099,     0.99199,     0.99299,     0.99399,     0.99499,       0.996,       0.997,       0.998,       0.999,           1]), array([[    0.98966,     0.98966,     0.98708,     0.98708,      0.9845,      0.9845,     0.98191,     0.98191,     0.98191,     0.97933,     0.97674,     0.97158,     0.97158,     0.97158,     0.97158,     0.97158,     0.96899,     0.96899,     0.96899,     0.96899,     0.96899,     0.96899,     0.96899,\n",
       "            0.96899,     0.96899,     0.96899,     0.96899,     0.96899,     0.96899,     0.96899,     0.96899,     0.96899,     0.96899,     0.96899,     0.96899,     0.96899,     0.96801,      0.9667,     0.96641,     0.96641,     0.96641,     0.96641,     0.96641,     0.96641,     0.96641,     0.96497,\n",
       "            0.96382,     0.96382,     0.96382,     0.96382,     0.96325,     0.96268,     0.96211,     0.96154,     0.96026,     0.95866,     0.95866,     0.95866,     0.95866,     0.95866,     0.95866,     0.95866,     0.95866,     0.95866,     0.95866,     0.95866,     0.95866,     0.95866,     0.95866,\n",
       "            0.95866,     0.95866,     0.95866,     0.95866,     0.95866,     0.95866,     0.95866,     0.95866,     0.95866,     0.95866,     0.95866,     0.95866,     0.95866,     0.95866,     0.95866,     0.95866,     0.95866,     0.95866,     0.95866,     0.95866,     0.95866,     0.95866,     0.95866,\n",
       "            0.95866,     0.95866,     0.95866,     0.95825,     0.95731,     0.95637,     0.95607,     0.95357,     0.95313,     0.95276,     0.95239,     0.95202,     0.95165,     0.95129,     0.95092,      0.9509,      0.9509,      0.9509,      0.9509,      0.9509,      0.9509,      0.9509,      0.9509,\n",
       "             0.9509,      0.9509,      0.9509,      0.9509,      0.9509,      0.9509,      0.9509,      0.9509,      0.9509,      0.9509,      0.9509,      0.9509,      0.9509,      0.9509,      0.9509,      0.9509,      0.9509,      0.9509,      0.9509,      0.9509,      0.9509,      0.9509,      0.9509,\n",
       "             0.9509,      0.9509,      0.9509,      0.9509,      0.9509,      0.9509,      0.9509,      0.9509,      0.9509,      0.9509,      0.9509,      0.9509,      0.9509,      0.9509,     0.95085,     0.95076,     0.95067,     0.95058,     0.95049,      0.9504,     0.95031,     0.95022,     0.95013,\n",
       "            0.95004,     0.94995,     0.94986,     0.94977,     0.94968,     0.94959,      0.9495,     0.94941,     0.94933,     0.94924,     0.94915,     0.94906,     0.94897,     0.94888,     0.94879,      0.9487,     0.94861,     0.94852,     0.94843,     0.94834,     0.94832,     0.94832,     0.94832,\n",
       "            0.94832,     0.94832,     0.94832,     0.94832,     0.94832,     0.94832,     0.94832,     0.94832,     0.94832,     0.94832,     0.94832,     0.94832,     0.94832,     0.94832,     0.94832,     0.94832,     0.94832,     0.94832,     0.94832,     0.94832,     0.94832,     0.94832,     0.94832,\n",
       "            0.94832,     0.94832,     0.94832,     0.94832,     0.94832,     0.94832,     0.94832,     0.94832,     0.94832,     0.94832,     0.94832,     0.94832,     0.94832,     0.94832,     0.94832,     0.94832,     0.94832,     0.94832,     0.94832,     0.94832,     0.94832,     0.94832,     0.94832,\n",
       "            0.94832,     0.94832,     0.94832,     0.94832,     0.94832,     0.94832,     0.94832,     0.94832,     0.94832,     0.94832,     0.94832,     0.94832,     0.94832,     0.94832,     0.94832,     0.94832,     0.94832,     0.94832,     0.94832,     0.94832,     0.94832,     0.94832,     0.94832,\n",
       "            0.94832,     0.94832,     0.94832,     0.94832,     0.94832,     0.94832,     0.94832,     0.94832,     0.94832,     0.94832,     0.94832,     0.94832,     0.94832,     0.94832,     0.94832,     0.94832,     0.94832,     0.94832,     0.94832,     0.94832,     0.94832,     0.94832,     0.94832,\n",
       "            0.94832,     0.94832,     0.94832,     0.94832,     0.94832,     0.94832,     0.94832,     0.94832,     0.94832,     0.94832,     0.94824,     0.94814,     0.94804,     0.94795,     0.94785,     0.94775,     0.94766,     0.94756,     0.94746,     0.94737,     0.94727,     0.94718,     0.94708,\n",
       "            0.94698,     0.94689,     0.94679,     0.94669,      0.9466,      0.9465,     0.94641,     0.94631,     0.94621,     0.94612,     0.94602,     0.94592,     0.94583,     0.94573,     0.94566,     0.94559,     0.94552,     0.94545,     0.94538,     0.94531,     0.94523,     0.94516,     0.94509,\n",
       "            0.94502,     0.94495,     0.94488,     0.94481,     0.94474,     0.94467,     0.94459,     0.94452,     0.94445,     0.94438,     0.94431,     0.94424,     0.94417,      0.9441,     0.94403,     0.94395,     0.94388,     0.94381,     0.94374,     0.94367,      0.9436,     0.94353,     0.94346,\n",
       "            0.94339,     0.94331,     0.94324,     0.94317,     0.94315,     0.94315,     0.94315,     0.94315,     0.94315,     0.94315,     0.94315,     0.94315,     0.94315,     0.94315,     0.94315,     0.94315,     0.94315,     0.94315,     0.94315,     0.94315,     0.94315,     0.94315,     0.94315,\n",
       "            0.94315,     0.94315,     0.94315,     0.94315,     0.94315,     0.94315,     0.94315,     0.94151,     0.94057,     0.94057,     0.94057,     0.94057,     0.94057,     0.94057,     0.94057,     0.94057,     0.94057,     0.94057,     0.94057,     0.94057,     0.94057,     0.94057,     0.94057,\n",
       "            0.94057,     0.94057,     0.94057,     0.94057,     0.94057,     0.94057,     0.94057,     0.94057,     0.94057,     0.94057,     0.94057,     0.94057,     0.94057,     0.94057,     0.94057,     0.94057,     0.94057,     0.94057,     0.94057,     0.94057,     0.94057,     0.94057,     0.94057,\n",
       "            0.94057,     0.94057,     0.94057,     0.94057,     0.94057,     0.94057,     0.94057,     0.94057,     0.94057,     0.94057,     0.94057,     0.94057,     0.94057,     0.94057,     0.94057,     0.94057,     0.94057,     0.94057,     0.94057,     0.94057,     0.94057,     0.94057,     0.94057,\n",
       "            0.94057,     0.94057,     0.94057,     0.94057,     0.94057,     0.94057,     0.94057,     0.94057,     0.94057,     0.94057,     0.94057,     0.94057,     0.94057,     0.94057,     0.94057,     0.94057,     0.94057,     0.94057,     0.94057,     0.94057,     0.94057,     0.93997,     0.93865,\n",
       "            0.93796,     0.93791,     0.93786,     0.93781,     0.93776,      0.9377,     0.93765,      0.9376,     0.93755,      0.9375,     0.93745,      0.9374,     0.93735,      0.9373,     0.93725,      0.9372,     0.93714,     0.93709,     0.93704,     0.93699,     0.93694,     0.93689,     0.93684,\n",
       "            0.93679,     0.93674,     0.93669,     0.93663,     0.93658,     0.93653,     0.93648,     0.93643,     0.93638,     0.93633,     0.93628,     0.93623,     0.93618,     0.93613,     0.93607,     0.93602,     0.93597,     0.93592,     0.93587,     0.93582,     0.93577,     0.93572,     0.93567,\n",
       "            0.93562,     0.93557,     0.93551,     0.93546,     0.93541,      0.9353,     0.93517,     0.93503,      0.9349,     0.93477,     0.93464,      0.9345,     0.93437,     0.93424,     0.93411,     0.93397,     0.93384,     0.93371,     0.93358,     0.93344,     0.93331,     0.93318,     0.93305,\n",
       "            0.93291,     0.93282,     0.93282,     0.93282,     0.93282,     0.93282,     0.93282,     0.93282,     0.93282,     0.93282,     0.93282,     0.93282,     0.93282,     0.93282,     0.93282,     0.93282,     0.93282,     0.93282,     0.93282,     0.93282,     0.93282,     0.93282,     0.93282,\n",
       "            0.93282,     0.93282,     0.93282,     0.93282,     0.93282,     0.93282,     0.93282,     0.93282,     0.93282,     0.93282,     0.93282,     0.93282,     0.93282,     0.93282,     0.93282,     0.93282,     0.93282,     0.93282,     0.93282,     0.93282,     0.93282,     0.93282,     0.93282,\n",
       "            0.93282,     0.93282,     0.93282,     0.93282,     0.93282,     0.93282,     0.93282,     0.93282,     0.93282,     0.93282,     0.93282,     0.93282,     0.93282,     0.93282,     0.93282,     0.93282,     0.93282,     0.93275,     0.93266,     0.93257,     0.93248,     0.93239,      0.9323,\n",
       "            0.93221,     0.93212,     0.93203,     0.93194,     0.93185,     0.93176,     0.93167,     0.93158,     0.93149,      0.9314,     0.93131,     0.93122,     0.93113,     0.93104,     0.93095,     0.93086,     0.93077,     0.93068,     0.93059,      0.9305,     0.93041,     0.93032,     0.93023,\n",
       "            0.93003,     0.92982,     0.92962,     0.92941,     0.92921,     0.92901,      0.9288,      0.9286,      0.9284,     0.92819,     0.92799,     0.92778,     0.92765,     0.92765,     0.92765,     0.92765,     0.92765,     0.92765,     0.92765,     0.92765,     0.92765,     0.92765,     0.92765,\n",
       "            0.92765,     0.92765,     0.92765,     0.92765,     0.92765,     0.92765,     0.92765,     0.92765,     0.92765,     0.92765,     0.92765,     0.92765,     0.92765,     0.92765,     0.92765,     0.92765,     0.92765,     0.92765,     0.92765,     0.92765,     0.92763,     0.92742,     0.92722,\n",
       "            0.92701,     0.92681,     0.92661,      0.9264,      0.9262,       0.926,     0.92579,     0.92559,     0.92538,     0.92518,     0.92506,     0.92506,     0.92506,     0.92506,     0.92506,     0.92506,     0.92506,     0.92506,     0.92506,     0.92506,     0.92506,     0.92506,     0.92506,\n",
       "            0.92473,     0.92429,     0.92385,     0.92341,     0.92297,     0.92253,     0.92248,     0.92248,     0.92248,     0.92248,     0.92248,     0.92248,     0.92248,     0.92248,     0.92248,     0.92248,     0.92248,     0.92248,     0.92248,     0.92248,     0.92248,     0.92248,     0.92248,\n",
       "            0.92248,     0.92248,     0.92248,     0.92248,     0.92248,     0.92248,     0.92248,     0.92248,     0.92248,     0.92248,     0.92248,     0.92088,     0.91981,     0.91968,     0.91954,      0.9194,     0.91927,     0.91913,       0.919,     0.91886,     0.91872,     0.91859,     0.91845,\n",
       "            0.91832,     0.91818,     0.91805,     0.91791,     0.91777,     0.91764,      0.9175,     0.91737,     0.91625,     0.91471,     0.91454,     0.91437,     0.91421,     0.91404,     0.91388,     0.91371,     0.91355,     0.91338,     0.91322,     0.91305,     0.91288,     0.91272,     0.91255,\n",
       "            0.91239,     0.91222,     0.91214,     0.91214,     0.91214,     0.91214,     0.91214,     0.91214,     0.91214,     0.91214,     0.91214,     0.91214,     0.91214,     0.91214,     0.91214,     0.91214,     0.91214,     0.91199,     0.91182,     0.91165,     0.91148,     0.91131,     0.91114,\n",
       "            0.91097,      0.9108,     0.91062,     0.91045,     0.91028,     0.91011,     0.90994,     0.90977,      0.9096,     0.90956,     0.90948,     0.90923,     0.90898,     0.90873,     0.90847,     0.90822,     0.90797,     0.90772,     0.90746,     0.90721,     0.90694,     0.90646,     0.90598,\n",
       "             0.9055,     0.90502,     0.90454,     0.90253,     0.90155,      0.9012,     0.90085,     0.90049,     0.90014,     0.89979,     0.89943,     0.89904,      0.8986,     0.89816,     0.89772,     0.89728,     0.89684,     0.89654,     0.89635,     0.89616,     0.89597,     0.89578,     0.89559,\n",
       "             0.8954,     0.89521,     0.89502,     0.89483,     0.89464,     0.89445,     0.89427,     0.89408,     0.89378,     0.89347,     0.89315,     0.89284,     0.89253,     0.89222,     0.89191,      0.8916,     0.89115,     0.89062,     0.89009,     0.88956,     0.88903,     0.88889,     0.88889,\n",
       "            0.88889,     0.88889,     0.88889,     0.88889,     0.88889,     0.88889,     0.88889,     0.88869,     0.88824,      0.8878,     0.88736,     0.88692,     0.88648,     0.88523,     0.88372,     0.88372,     0.88372,     0.88248,      0.8805,     0.87827,     0.87721,     0.87615,     0.87597,\n",
       "            0.87562,     0.87521,     0.87481,      0.8744,     0.87399,     0.87358,     0.87312,     0.87259,     0.87206,     0.87153,       0.871,      0.8708,      0.8708,      0.8708,     0.86956,     0.86758,     0.86563,     0.86563,     0.86563,     0.86563,     0.86563,     0.86563,     0.86563,\n",
       "            0.86563,     0.86502,      0.8637,     0.86215,     0.85776,      0.8552,     0.85388,     0.85259,     0.85153,     0.85047,     0.84833,     0.84123,     0.83528,     0.82546,     0.82223,     0.82064,     0.81932,     0.81687,     0.81137,     0.80511,     0.79872,     0.78309,     0.77391,\n",
       "            0.76215,     0.75427,     0.74658,     0.73851,     0.72805,       0.715,     0.70712,     0.70233,     0.68877,     0.68541,     0.68276,     0.67804,       0.665,     0.65711,     0.63115,      0.6181,     0.60505,     0.58941,     0.57895,      0.5659,     0.52701,     0.49846,     0.46732,\n",
       "            0.41551,     0.37145,     0.33515,     0.27042,     0.22636,     0.20039,     0.16667,     0.12778,     0.10957,    0.098646,    0.086052,    0.078171,    0.067706,    0.044321,    0.033856,     0.02339,    0.015506,    0.012879,    0.011113,   0.0047851,           0,           0,           0,\n",
       "                  0,           0,           0,           0,           0,           0,           0,           0,           0,           0,           0,           0,           0,           0,           0,           0,           0,           0,           0,           0,           0,           0,           0,\n",
       "                  0,           0,           0,           0,           0,           0,           0,           0,           0,           0,           0]]), 'Confidence', 'Recall']]\n",
       "fitness: np.float64(0.936601093488417)\n",
       "keys: ['metrics/precision(B)', 'metrics/recall(B)', 'metrics/mAP50(B)', 'metrics/mAP50-95(B)']\n",
       "maps: array([    0.93195])\n",
       "names: {0: 'box'}\n",
       "plot: True\n",
       "results_dict: {'metrics/precision(B)': np.float64(0.9572768899094396), 'metrics/recall(B)': np.float64(0.9224806201550387), 'metrics/mAP50(B)': np.float64(0.9784499822792181), 'metrics/mAP50-95(B)': np.float64(0.9319512169561058), 'fitness': np.float64(0.936601093488417)}\n",
       "save_dir: PosixPath('hackathon/20250227_1252334')\n",
       "speed: {'preprocess': 0.21333260969682172, 'inference': 4.113856228915128, 'loss': 0.0002644278786399148, 'postprocess': 0.5090193314985796}\n",
       "task: 'detect'"
      ]
     },
     "execution_count": 9,
     "metadata": {},
     "output_type": "execute_result"
    }
   ],
   "source": [
    "model.train(data=data_yaml_path, epochs=50, patience=5, imgsz=640, project=\"hackathon\", name=name)"
   ]
  },
  {
   "cell_type": "code",
   "execution_count": 11,
   "metadata": {},
   "outputs": [],
   "source": [
    "\n",
    "# Get the current notebook directory\n",
    "test_notebook_dir = \"/home/vinay/cargo-safety-v2/test_for_hack\"\n",
    "\n",
    "# Create an absolute path to your data.yaml file\n",
    "test_data_yaml_path = str(Path(os.path.join(test_notebook_dir, \"data.yaml\")).resolve())"
   ]
  },
  {
   "cell_type": "code",
   "execution_count": 13,
   "metadata": {},
   "outputs": [
    {
     "name": "stdout",
     "output_type": "stream",
     "text": [
      "Ultralytics 8.3.49 🚀 Python-3.12.0 torch-2.5.1+cu124 CUDA:0 (NVIDIA GeForce GTX TITAN X, 12197MiB)\n"
     ]
    },
    {
     "name": "stderr",
     "output_type": "stream",
     "text": [
      "\u001b[34m\u001b[1mval: \u001b[0mScanning /home/vinay/cargo-safety-v2/test_for_hack/valid/labels... 30 images, 1 backgrounds, 0 corrupt: 100%|██████████| 30/30 [00:00<00:00, 3030.71it/s]"
     ]
    },
    {
     "name": "stdout",
     "output_type": "stream",
     "text": [
      "\u001b[34m\u001b[1mval: \u001b[0mNew cache created: /home/vinay/cargo-safety-v2/test_for_hack/valid/labels.cache\n"
     ]
    },
    {
     "name": "stderr",
     "output_type": "stream",
     "text": [
      "\n",
      "                 Class     Images  Instances      Box(P          R      mAP50  mAP50-95): 100%|██████████| 2/2 [00:00<00:00,  3.78it/s]\n"
     ]
    },
    {
     "name": "stdout",
     "output_type": "stream",
     "text": [
      "                   all         30        410      0.424      0.378      0.359      0.204\n",
      "Speed: 0.3ms preprocess, 5.2ms inference, 0.0ms loss, 0.6ms postprocess per image\n",
      "Results saved to \u001b[1mhackathon/20250227_12523344\u001b[0m\n"
     ]
    }
   ],
   "source": [
    "val_results = model.val(data=test_data_yaml_path)\n"
   ]
  },
  {
   "cell_type": "markdown",
   "metadata": {},
   "source": [
    "## R-CNN"
   ]
  },
  {
   "cell_type": "code",
   "execution_count": null,
   "metadata": {},
   "outputs": [],
   "source": [
    "import os\n",
    "import torch\n",
    "import torchvision\n",
    "from torchvision.models.detection import fasterrcnn_resnet50_fpn\n",
    "from torchvision.models.detection.faster_rcnn import FastRCNNPredictor\n",
    "import torchvision.transforms as transforms\n",
    "from torch.utils.data import DataLoader, Dataset\n",
    "from PIL import Image\n",
    "import numpy as np\n",
    "import matplotlib.pyplot as plt\n",
    "from pathlib import Path\n",
    "\n",
    "# Check if GPU is available\n",
    "device = torch.device('cuda' if torch.cuda.is_available() else 'cpu')\n",
    "print(f\"Using device: {device}\")\n",
    "\n",
    "# Function to create the Faster R-CNN model with ResNet-50 backbone\n",
    "def create_faster_rcnn_model(num_classes):\n",
    "    # Load a pre-trained Faster R-CNN model with ResNet-50 backbone\n",
    "    model = fasterrcnn_resnet50_fpn(weights='DEFAULT')\n",
    "    \n",
    "    # Get the number of input features for the classifier\n",
    "    in_features = model.roi_heads.box_predictor.cls_score.in_features\n",
    "    \n",
    "    # Replace the pre-trained head with a new one (that has num_classes)\n",
    "    model.roi_heads.box_predictor = FastRCNNPredictor(in_features, num_classes)\n",
    "    \n",
    "    return model\n",
    "\n",
    "# Create the model\n",
    "# num_classes should include the background class (so for 'box' class, num_classes=2)\n",
    "num_classes = 2  # Background + 'box'\n",
    "model = create_faster_rcnn_model(num_classes)\n",
    "model = model.to(device)\n",
    "\n",
    "print(\"Faster R-CNN model with ResNet-50 backbone created successfully!\")\n",
    "print(f\"Number of classes: {num_classes} (including background)\")"
   ]
  },
  {
   "cell_type": "code",
   "execution_count": null,
   "metadata": {},
   "outputs": [],
   "source": [
    "# Custom dataset class for object detection\n",
    "class BoxDetectionDataset(Dataset):\n",
    "    def __init__(self, root_dir, image_dir, transform=None):\n",
    "        self.root_dir = root_dir\n",
    "        self.image_dir = os.path.join(root_dir, image_dir)\n",
    "        self.transform = transform\n",
    "        self.image_files = [f for f in os.listdir(self.image_dir) if f.endswith(('.jpg', '.jpeg', '.png'))]\n",
    "        \n",
    "        # Get corresponding label files (assuming YOLO format)\n",
    "        self.label_dir = self.image_dir.replace('images', 'labels')\n",
    "        \n",
    "    def __len__(self):\n",
    "        return len(self.image_files)\n",
    "    \n",
    "    def __getitem__(self, idx):\n",
    "        # Load image\n",
    "        img_path = os.path.join(self.image_dir, self.image_files[idx])\n",
    "        image = Image.open(img_path).convert(\"RGB\")\n",
    "        image_id = torch.tensor([idx])\n",
    "        \n",
    "        # Get image dimensions\n",
    "        width, height = image.size\n",
    "        \n",
    "        # Load corresponding label file (YOLO format)\n",
    "        label_file = self.image_files[idx].replace('.jpg', '.txt').replace('.jpeg', '.txt').replace('.png', '.txt')\n",
    "        label_path = os.path.join(self.label_dir, label_file)\n",
    "        \n",
    "        boxes = []\n",
    "        labels = []\n",
    "        \n",
    "        if os.path.exists(label_path):\n",
    "            with open(label_path, 'r') as f:\n",
    "                for line in f.readlines():\n",
    "                    data = line.strip().split()\n",
    "                    class_id = int(data[0])\n",
    "                    # YOLO format: class_id, x_center, y_center, width, height (normalized)\n",
    "                    x_center = float(data[1]) * width\n",
    "                    y_center = float(data[2]) * height\n",
    "                    box_width = float(data[3]) * width\n",
    "                    box_height = float(data[4]) * height\n",
    "                    \n",
    "                    # Convert to [x_min, y_min, x_max, y_max] format for PyTorch\n",
    "                    x_min = x_center - box_width / 2\n",
    "                    y_min = y_center - box_height / 2\n",
    "                    x_max = x_center + box_width / 2\n",
    "                    y_max = y_center + box_height / 2\n",
    "                    \n",
    "                    boxes.append([x_min, y_min, x_max, y_max])\n",
    "                    labels.append(class_id + 1)  # +1 because 0 is background in Faster R-CNN\n",
    "        \n",
    "        # Convert to tensor\n",
    "        if boxes:\n",
    "            boxes = torch.as_tensor(boxes, dtype=torch.float32)\n",
    "            labels = torch.as_tensor(labels, dtype=torch.int64)\n",
    "        else:\n",
    "            # If no boxes, create empty tensors\n",
    "            boxes = torch.zeros((0, 4), dtype=torch.float32)\n",
    "            labels = torch.zeros((0,), dtype=torch.int64)\n",
    "        \n",
    "        # Create target dictionary\n",
    "        target = {}\n",
    "        target[\"boxes\"] = boxes\n",
    "        target[\"labels\"] = labels\n",
    "        target[\"image_id\"] = image_id\n",
    "        target[\"area\"] = (boxes[:, 3] - boxes[:, 1]) * (boxes[:, 2] - boxes[:, 0]) if len(boxes) > 0 else torch.tensor([])\n",
    "        target[\"iscrowd\"] = torch.zeros((len(boxes),), dtype=torch.int64)\n",
    "        \n",
    "        # Apply transformations\n",
    "        if self.transform:\n",
    "            image = self.transform(image)\n",
    "        \n",
    "        return image, target"
   ]
  },
  {
   "cell_type": "code",
   "execution_count": null,
   "metadata": {},
   "outputs": [],
   "source": [
    "# Set up data transformations\n",
    "data_transform = transforms.Compose([\n",
    "    transforms.ToTensor(),\n",
    "    transforms.Normalize(mean=[0.485, 0.456, 0.406], std=[0.229, 0.224, 0.225])\n",
    "])\n",
    "\n",
    "# Set the datasets_dir to the hack_data directory\n",
    "datasets_dir = os.path.join(os.getcwd(), \"hack_data\")\n",
    "\n",
    "# Create datasets\n",
    "train_dataset = BoxDetectionDataset(\n",
    "    root_dir=datasets_dir,\n",
    "    image_dir=\"../train/images\",\n",
    "    transform=data_transform\n",
    ")\n",
    "\n",
    "val_dataset = BoxDetectionDataset(\n",
    "    root_dir=datasets_dir,\n",
    "    image_dir=\"../valid/images\",\n",
    "    transform=data_transform\n",
    ")\n",
    "\n",
    "# Create data loaders\n",
    "train_loader = DataLoader(\n",
    "    train_dataset,\n",
    "    batch_size=2,\n",
    "    shuffle=True,\n",
    "    collate_fn=lambda batch: tuple(zip(*batch))  # Custom collate function for variable size images\n",
    ")\n",
    "\n",
    "val_loader = DataLoader(\n",
    "    val_dataset,\n",
    "    batch_size=1,\n",
    "    shuffle=False,\n",
    "    collate_fn=lambda batch: tuple(zip(*batch))\n",
    ")\n",
    "\n",
    "print(f\"Training dataset size: {len(train_dataset)}\")\n",
    "print(f\"Validation dataset size: {len(val_dataset)}\")"
   ]
  },
  {
   "cell_type": "code",
   "execution_count": null,
   "metadata": {},
   "outputs": [],
   "source": [
    "# Training function\n",
    "def train_model(model, train_loader, val_loader, optimizer, num_epochs=10):\n",
    "    # Set model to training mode\n",
    "    model.train()\n",
    "    \n",
    "    for epoch in range(num_epochs):\n",
    "        print(f\"Epoch {epoch+1}/{num_epochs}\")\n",
    "        print(\"-\" * 10)\n",
    "        \n",
    "        running_loss = 0.0\n",
    "        \n",
    "        # Training loop\n",
    "        for images, targets in train_loader:\n",
    "            images = list(image.to(device) for image in images)\n",
    "            targets = [{k: v.to(device) for k, v in t.items()} for t in targets]\n",
    "            \n",
    "            # Zero the parameter gradients\n",
    "            optimizer.zero_grad()\n",
    "            \n",
    "            # Forward pass\n",
    "            loss_dict = model(images, targets)\n",
    "            losses = sum(loss for loss in loss_dict.values())\n",
    "            \n",
    "            # Backward pass and optimize\n",
    "            losses.backward()\n",
    "            optimizer.step()\n",
    "            \n",
    "            running_loss += losses.item()\n",
    "        \n",
    "        epoch_loss = running_loss / len(train_loader)\n",
    "        print(f\"Training Loss: {epoch_loss:.4f}\")\n",
    "        \n",
    "        # Validation\n",
    "        model.eval()\n",
    "        val_loss = 0.0\n",
    "        \n",
    "        with torch.no_grad():\n",
    "            for images, targets in val_loader:\n",
    "                images = list(image.to(device) for image in images)\n",
    "                targets = [{k: v.to(device) for k, v in t.items()} for t in targets]\n",
    "                \n",
    "                loss_dict = model(images, targets)\n",
    "                losses = sum(loss for loss in loss_dict.values())\n",
    "                val_loss += losses.item()\n",
    "        \n",
    "        val_loss = val_loss / len(val_loader)\n",
    "        print(f\"Validation Loss: {val_loss:.4f}\")\n",
    "        \n",
    "        # Set back to training mode\n",
    "        model.train()\n",
    "    \n",
    "    return model\n",
    "\n",
    "# Set up optimizer\n",
    "params = [p for p in model.parameters() if p.requires_grad]\n",
    "optimizer = torch.optim.SGD(params, lr=0.005, momentum=0.9, weight_decay=0.0005)\n",
    "\n",
    "# Train the model\n",
    "num_epochs = 10\n",
    "trained_model = train_model(model, train_loader, val_loader, optimizer, num_epochs=num_epochs)\n",
    "\n",
    "# Save the trained model\n",
    "torch.save(trained_model.state_dict(), 'faster_rcnn_resnet50_boxes.pth')\n",
    "print(\"Model saved successfully!\")"
   ]
  },
  {
   "cell_type": "code",
   "execution_count": null,
   "metadata": {},
   "outputs": [],
   "source": [
    "# Inference function\n",
    "def predict(model, image_path, threshold=0.5):\n",
    "    # Load and transform image\n",
    "    image = Image.open(image_path).convert(\"RGB\")\n",
    "    transform = transforms.Compose([\n",
    "        transforms.ToTensor(),\n",
    "        transforms.Normalize(mean=[0.485, 0.456, 0.406], std=[0.229, 0.224, 0.225])\n",
    "    ])\n",
    "    image_tensor = transform(image).unsqueeze(0).to(device)\n",
    "    \n",
    "    # Set model to evaluation mode\n",
    "    model.eval()\n",
    "    \n",
    "    # Get predictions\n",
    "    with torch.no_grad():\n",
    "        predictions = model(image_tensor)\n",
    "    \n",
    "    # Get boxes, scores, and labels\n",
    "    boxes = predictions[0]['boxes'].cpu().numpy()\n",
    "    scores = predictions[0]['scores'].cpu().numpy()\n",
    "    labels = predictions[0]['labels'].cpu().numpy()\n",
    "    \n",
    "    # Filter by threshold\n",
    "    keep = scores >= threshold\n",
    "    boxes = boxes[keep]\n",
    "    scores = scores[keep]\n",
    "    labels = labels[keep]\n",
    "    \n",
    "    return image, boxes, scores, labels\n",
    "\n",
    "# Example of using the inference function\n",
    "def visualize_prediction(image_path, model, threshold=0.5):\n",
    "    image, boxes, scores, labels = predict(model, image_path, threshold)\n",
    "    \n",
    "    # Plot the image\n",
    "    plt.figure(figsize=(10, 10))\n",
    "    plt.imshow(image)\n",
    "    \n",
    "    # Plot each box\n",
    "    for box, score, label in zip(boxes, scores, labels):\n",
    "        x1, y1, x2, y2 = box\n",
    "        rect = plt.Rectangle((x1, y1), x2-x1, y2-y1, fill=False, color='red', linewidth=2)\n",
    "        plt.gca().add_patch(rect)\n",
    "        plt.text(x1, y1, f'Box: {score:.2f}', color='white', fontsize=12, \n",
    "                 bbox=dict(facecolor='red', alpha=0.5))\n",
    "    \n",
    "    plt.axis('off')\n",
    "    plt.show()\n",
    "\n",
    "# Example usage (uncomment to use after training)\n",
    "# test_image_path = '/path/to/test/image.jpg'\n",
    "# visualize_prediction(test_image_path, trained_model, threshold=0.5)"
   ]
  }
 ],
 "metadata": {
  "kernelspec": {
   "display_name": "venv",
   "language": "python",
   "name": "python3"
  },
  "language_info": {
   "codemirror_mode": {
    "name": "ipython",
    "version": 3
   },
   "file_extension": ".py",
   "mimetype": "text/x-python",
   "name": "python",
   "nbconvert_exporter": "python",
   "pygments_lexer": "ipython3",
   "version": "3.12.0"
  }
 },
 "nbformat": 4,
 "nbformat_minor": 2
}
