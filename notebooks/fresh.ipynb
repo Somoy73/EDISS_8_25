{
 "cells": [
  {
   "cell_type": "code",
   "execution_count": 2,
   "metadata": {},
   "outputs": [],
   "source": [
    "import os\n",
    "from pathlib import Path\n",
    "from ultralytics import YOLO\n",
    "from ultralytics import settings"
   ]
  },
  {
   "cell_type": "code",
   "execution_count": 2,
   "metadata": {},
   "outputs": [],
   "source": [
    "settings.update({\"mlflow\": True})"
   ]
  },
  {
   "cell_type": "code",
   "execution_count": 3,
   "metadata": {},
   "outputs": [],
   "source": [
    "\n",
    "\n",
    "# Get the current notebook directory\n",
    "notebook_dir = \"/home/vinay/cargo-safety-v2/our_data\"\n",
    "\n",
    "# Load a model\n",
    "model = YOLO(\"yolo11n.pt\")  # load a pretrained model\n",
    "\n",
    "# Create an absolute path to your data.yaml file\n",
    "data_yaml_path = str(Path(os.path.join(notebook_dir, \"data.yaml\")).resolve())"
   ]
  },
  {
   "cell_type": "code",
   "execution_count": 8,
   "metadata": {},
   "outputs": [],
   "source": [
    "settings.update({\"datasets_dir\": notebook_dir})"
   ]
  },
  {
   "cell_type": "code",
   "execution_count": 4,
   "metadata": {},
   "outputs": [
    {
     "data": {
      "text/plain": [
       "'/home/vinay/cargo-safety-v2/our_data/data.yaml'"
      ]
     },
     "execution_count": 4,
     "metadata": {},
     "output_type": "execute_result"
    }
   ],
   "source": [
    "data_yaml_path"
   ]
  },
  {
   "cell_type": "code",
   "execution_count": 5,
   "metadata": {},
   "outputs": [],
   "source": [
    "from datetime import datetime\n",
    "\n",
    "name = datetime.now().strftime(\"%Y%m%d_%H%M%S\")"
   ]
  },
  {
   "cell_type": "code",
   "execution_count": null,
   "metadata": {},
   "outputs": [],
   "source": []
  },
  {
   "cell_type": "code",
   "execution_count": 11,
   "metadata": {},
   "outputs": [
    {
     "name": "stdout",
     "output_type": "stream",
     "text": [
      "New https://pypi.org/project/ultralytics/8.3.80 available 😃 Update with 'pip install -U ultralytics'\n",
      "Ultralytics 8.3.49 🚀 Python-3.12.0 torch-2.5.1+cu124 CUDA:0 (NVIDIA GeForce GTX TITAN X, 12197MiB)\n",
      "\u001b[34m\u001b[1mengine/trainer: \u001b[0mtask=detect, mode=train, model=yolo11n.pt, data=/home/vinay/cargo-safety-v2/our_data/data.yaml, epochs=100, time=None, patience=5, batch=16, imgsz=640, save=True, save_period=-1, cache=False, device=None, workers=8, project=hackathon, name=20250227_1341184, exist_ok=False, pretrained=True, optimizer=auto, verbose=True, seed=0, deterministic=True, single_cls=False, rect=False, cos_lr=False, close_mosaic=10, resume=False, amp=True, fraction=1.0, profile=False, freeze=None, multi_scale=False, overlap_mask=True, mask_ratio=4, dropout=0.0, val=True, split=val, save_json=False, save_hybrid=False, conf=None, iou=0.7, max_det=300, half=False, dnn=False, plots=True, source=None, vid_stride=1, stream_buffer=False, visualize=False, augment=False, agnostic_nms=False, classes=None, retina_masks=False, embed=None, show=False, save_frames=False, save_txt=False, save_conf=False, save_crop=False, show_labels=True, show_conf=True, show_boxes=True, line_width=None, format=torchscript, keras=False, optimize=False, int8=False, dynamic=False, simplify=True, opset=None, workspace=None, nms=False, lr0=0.01, lrf=0.01, momentum=0.937, weight_decay=0.0005, warmup_epochs=3.0, warmup_momentum=0.8, warmup_bias_lr=0.1, box=7.5, cls=0.5, dfl=1.5, pose=12.0, kobj=1.0, nbs=64, hsv_h=0.015, hsv_s=0.7, hsv_v=0.4, degrees=0.0, translate=0.1, scale=0.5, shear=0.0, perspective=0.0, flipud=0.0, fliplr=0.5, bgr=0.0, mosaic=1.0, mixup=0.0, copy_paste=0.0, copy_paste_mode=flip, auto_augment=randaugment, erasing=0.4, crop_fraction=1.0, cfg=None, tracker=botsort.yaml, save_dir=hackathon/20250227_1341184\n",
      "\n",
      "                   from  n    params  module                                       arguments                     \n",
      "  0                  -1  1       464  ultralytics.nn.modules.conv.Conv             [3, 16, 3, 2]                 \n",
      "  1                  -1  1      4672  ultralytics.nn.modules.conv.Conv             [16, 32, 3, 2]                \n",
      "  2                  -1  1      6640  ultralytics.nn.modules.block.C3k2            [32, 64, 1, False, 0.25]      \n",
      "  3                  -1  1     36992  ultralytics.nn.modules.conv.Conv             [64, 64, 3, 2]                \n",
      "  4                  -1  1     26080  ultralytics.nn.modules.block.C3k2            [64, 128, 1, False, 0.25]     \n",
      "  5                  -1  1    147712  ultralytics.nn.modules.conv.Conv             [128, 128, 3, 2]              \n",
      "  6                  -1  1     87040  ultralytics.nn.modules.block.C3k2            [128, 128, 1, True]           \n",
      "  7                  -1  1    295424  ultralytics.nn.modules.conv.Conv             [128, 256, 3, 2]              \n",
      "  8                  -1  1    346112  ultralytics.nn.modules.block.C3k2            [256, 256, 1, True]           \n",
      "  9                  -1  1    164608  ultralytics.nn.modules.block.SPPF            [256, 256, 5]                 \n",
      " 10                  -1  1    249728  ultralytics.nn.modules.block.C2PSA           [256, 256, 1]                 \n",
      " 11                  -1  1         0  torch.nn.modules.upsampling.Upsample         [None, 2, 'nearest']          \n",
      " 12             [-1, 6]  1         0  ultralytics.nn.modules.conv.Concat           [1]                           \n",
      " 13                  -1  1    111296  ultralytics.nn.modules.block.C3k2            [384, 128, 1, False]          \n",
      " 14                  -1  1         0  torch.nn.modules.upsampling.Upsample         [None, 2, 'nearest']          \n",
      " 15             [-1, 4]  1         0  ultralytics.nn.modules.conv.Concat           [1]                           \n",
      " 16                  -1  1     32096  ultralytics.nn.modules.block.C3k2            [256, 64, 1, False]           \n",
      " 17                  -1  1     36992  ultralytics.nn.modules.conv.Conv             [64, 64, 3, 2]                \n",
      " 18            [-1, 13]  1         0  ultralytics.nn.modules.conv.Concat           [1]                           \n",
      " 19                  -1  1     86720  ultralytics.nn.modules.block.C3k2            [192, 128, 1, False]          \n",
      " 20                  -1  1    147712  ultralytics.nn.modules.conv.Conv             [128, 128, 3, 2]              \n",
      " 21            [-1, 10]  1         0  ultralytics.nn.modules.conv.Concat           [1]                           \n",
      " 22                  -1  1    378880  ultralytics.nn.modules.block.C3k2            [384, 256, 1, True]           \n",
      " 23        [16, 19, 22]  1    430867  ultralytics.nn.modules.head.Detect           [1, [64, 128, 256]]           \n",
      "YOLO11n summary: 319 layers, 2,590,035 parameters, 2,590,019 gradients, 6.4 GFLOPs\n",
      "\n",
      "Transferred 499/499 items from pretrained weights\n",
      "Freezing layer 'model.23.dfl.conv.weight'\n",
      "\u001b[34m\u001b[1mAMP: \u001b[0mrunning Automatic Mixed Precision (AMP) checks...\n",
      "\u001b[34m\u001b[1mAMP: \u001b[0mchecks passed ✅\n"
     ]
    },
    {
     "name": "stderr",
     "output_type": "stream",
     "text": [
      "\u001b[34m\u001b[1mtrain: \u001b[0mScanning /home/vinay/cargo-safety-v2/our_data/train/labels.cache... 405 images, 6 backgrounds, 0 corrupt: 100%|██████████| 405/405 [00:00<?, ?it/s]\n",
      "\u001b[34m\u001b[1mval: \u001b[0mScanning /home/vinay/cargo-safety-v2/our_data/valid/labels.cache... 17 images, 0 backgrounds, 0 corrupt: 100%|██████████| 17/17 [00:00<?, ?it/s]\n"
     ]
    },
    {
     "name": "stdout",
     "output_type": "stream",
     "text": [
      "Plotting labels to hackathon/20250227_1341184/labels.jpg... \n",
      "\u001b[34m\u001b[1moptimizer:\u001b[0m 'optimizer=auto' found, ignoring 'lr0=0.01' and 'momentum=0.937' and determining best 'optimizer', 'lr0' and 'momentum' automatically... \n",
      "\u001b[34m\u001b[1moptimizer:\u001b[0m AdamW(lr=0.002, momentum=0.9) with parameter groups 81 weight(decay=0.0), 88 weight(decay=0.0005), 87 bias(decay=0.0)\n",
      "\u001b[34m\u001b[1mMLflow: \u001b[0mlogging run_id(5a7814f12d8b41488f64ed2f0aef59c7) to runs/mlflow\n",
      "\u001b[34m\u001b[1mMLflow: \u001b[0mview at http://127.0.0.1:5000 with 'mlflow server --backend-store-uri runs/mlflow'\n",
      "\u001b[34m\u001b[1mMLflow: \u001b[0mdisable with 'yolo settings mlflow=False'\n",
      "\u001b[34m\u001b[1mMLflow: \u001b[0mWARNING ⚠️ Failed to initialize: Changing param values is not allowed. Param with key='epochs' was already logged with value='50' for run ID='5a7814f12d8b41488f64ed2f0aef59c7'. Attempted logging new value '100'.\n",
      "\u001b[34m\u001b[1mMLflow: \u001b[0mWARNING ⚠️ Not tracking this run\n",
      "Image sizes 640 train, 640 val\n",
      "Using 8 dataloader workers\n",
      "Logging results to \u001b[1mhackathon/20250227_1341184\u001b[0m\n",
      "Starting training for 100 epochs...\n",
      "\n",
      "      Epoch    GPU_mem   box_loss   cls_loss   dfl_loss  Instances       Size\n"
     ]
    },
    {
     "name": "stderr",
     "output_type": "stream",
     "text": [
      "      1/100      3.34G      1.288     0.9497      1.267        145        640: 100%|██████████| 26/26 [00:07<00:00,  3.43it/s]\n",
      "                 Class     Images  Instances      Box(P          R      mAP50  mAP50-95): 100%|██████████| 1/1 [00:00<00:00,  7.59it/s]"
     ]
    },
    {
     "name": "stdout",
     "output_type": "stream",
     "text": [
      "                   all         17        221      0.815      0.873      0.896      0.557\n"
     ]
    },
    {
     "name": "stderr",
     "output_type": "stream",
     "text": [
      "\n"
     ]
    },
    {
     "name": "stdout",
     "output_type": "stream",
     "text": [
      "\n",
      "      Epoch    GPU_mem   box_loss   cls_loss   dfl_loss  Instances       Size\n"
     ]
    },
    {
     "name": "stderr",
     "output_type": "stream",
     "text": [
      "      2/100      3.27G      1.336     0.9506      1.299         95        640: 100%|██████████| 26/26 [00:07<00:00,  3.60it/s]\n",
      "                 Class     Images  Instances      Box(P          R      mAP50  mAP50-95): 100%|██████████| 1/1 [00:00<00:00,  7.60it/s]"
     ]
    },
    {
     "name": "stdout",
     "output_type": "stream",
     "text": [
      "                   all         17        221      0.836      0.824      0.902      0.568\n"
     ]
    },
    {
     "name": "stderr",
     "output_type": "stream",
     "text": [
      "\n"
     ]
    },
    {
     "name": "stdout",
     "output_type": "stream",
     "text": [
      "\n",
      "      Epoch    GPU_mem   box_loss   cls_loss   dfl_loss  Instances       Size\n"
     ]
    },
    {
     "name": "stderr",
     "output_type": "stream",
     "text": [
      "      3/100      2.83G       1.31     0.9564      1.283        106        640: 100%|██████████| 26/26 [00:07<00:00,  3.63it/s]\n",
      "                 Class     Images  Instances      Box(P          R      mAP50  mAP50-95): 100%|██████████| 1/1 [00:00<00:00,  7.68it/s]"
     ]
    },
    {
     "name": "stdout",
     "output_type": "stream",
     "text": [
      "                   all         17        221      0.851      0.804      0.893      0.472\n"
     ]
    },
    {
     "name": "stderr",
     "output_type": "stream",
     "text": [
      "\n"
     ]
    },
    {
     "name": "stdout",
     "output_type": "stream",
     "text": [
      "\n",
      "      Epoch    GPU_mem   box_loss   cls_loss   dfl_loss  Instances       Size\n"
     ]
    },
    {
     "name": "stderr",
     "output_type": "stream",
     "text": [
      "      4/100      3.12G      1.304     0.9522       1.27        128        640: 100%|██████████| 26/26 [00:07<00:00,  3.62it/s]\n",
      "                 Class     Images  Instances      Box(P          R      mAP50  mAP50-95): 100%|██████████| 1/1 [00:00<00:00,  7.70it/s]"
     ]
    },
    {
     "name": "stdout",
     "output_type": "stream",
     "text": [
      "                   all         17        221       0.88      0.827      0.921      0.604\n"
     ]
    },
    {
     "name": "stderr",
     "output_type": "stream",
     "text": [
      "\n"
     ]
    },
    {
     "name": "stdout",
     "output_type": "stream",
     "text": [
      "\n",
      "      Epoch    GPU_mem   box_loss   cls_loss   dfl_loss  Instances       Size\n"
     ]
    },
    {
     "name": "stderr",
     "output_type": "stream",
     "text": [
      "      5/100      3.39G      1.354     0.9623      1.312         71        640: 100%|██████████| 26/26 [00:07<00:00,  3.64it/s]\n",
      "                 Class     Images  Instances      Box(P          R      mAP50  mAP50-95): 100%|██████████| 1/1 [00:00<00:00,  7.56it/s]"
     ]
    },
    {
     "name": "stdout",
     "output_type": "stream",
     "text": [
      "                   all         17        221      0.835      0.848      0.915      0.536\n"
     ]
    },
    {
     "name": "stderr",
     "output_type": "stream",
     "text": [
      "\n"
     ]
    },
    {
     "name": "stdout",
     "output_type": "stream",
     "text": [
      "\n",
      "      Epoch    GPU_mem   box_loss   cls_loss   dfl_loss  Instances       Size\n"
     ]
    },
    {
     "name": "stderr",
     "output_type": "stream",
     "text": [
      "      6/100      3.47G      1.351     0.9996      1.316         55        640: 100%|██████████| 26/26 [00:07<00:00,  3.62it/s]\n",
      "                 Class     Images  Instances      Box(P          R      mAP50  mAP50-95): 100%|██████████| 1/1 [00:00<00:00,  7.47it/s]"
     ]
    },
    {
     "name": "stdout",
     "output_type": "stream",
     "text": [
      "                   all         17        221      0.755      0.778      0.813      0.502\n"
     ]
    },
    {
     "name": "stderr",
     "output_type": "stream",
     "text": [
      "\n"
     ]
    },
    {
     "name": "stdout",
     "output_type": "stream",
     "text": [
      "\n",
      "      Epoch    GPU_mem   box_loss   cls_loss   dfl_loss  Instances       Size\n"
     ]
    },
    {
     "name": "stderr",
     "output_type": "stream",
     "text": [
      "      7/100      3.05G      1.349     0.9617      1.297        129        640: 100%|██████████| 26/26 [00:07<00:00,  3.65it/s]\n",
      "                 Class     Images  Instances      Box(P          R      mAP50  mAP50-95): 100%|██████████| 1/1 [00:00<00:00,  7.50it/s]"
     ]
    },
    {
     "name": "stdout",
     "output_type": "stream",
     "text": [
      "                   all         17        221      0.804      0.759      0.851      0.538\n"
     ]
    },
    {
     "name": "stderr",
     "output_type": "stream",
     "text": [
      "\n"
     ]
    },
    {
     "name": "stdout",
     "output_type": "stream",
     "text": [
      "\n",
      "      Epoch    GPU_mem   box_loss   cls_loss   dfl_loss  Instances       Size\n"
     ]
    },
    {
     "name": "stderr",
     "output_type": "stream",
     "text": [
      "      8/100       3.1G      1.319      0.934      1.297        118        640: 100%|██████████| 26/26 [00:07<00:00,  3.59it/s]\n",
      "                 Class     Images  Instances      Box(P          R      mAP50  mAP50-95): 100%|██████████| 1/1 [00:00<00:00,  7.56it/s]"
     ]
    },
    {
     "name": "stdout",
     "output_type": "stream",
     "text": [
      "                   all         17        221      0.774      0.824      0.839      0.487\n"
     ]
    },
    {
     "name": "stderr",
     "output_type": "stream",
     "text": [
      "\n"
     ]
    },
    {
     "name": "stdout",
     "output_type": "stream",
     "text": [
      "\n",
      "      Epoch    GPU_mem   box_loss   cls_loss   dfl_loss  Instances       Size\n"
     ]
    },
    {
     "name": "stderr",
     "output_type": "stream",
     "text": [
      "      9/100         3G      1.301     0.9094      1.294        159        640: 100%|██████████| 26/26 [00:07<00:00,  3.65it/s]\n",
      "                 Class     Images  Instances      Box(P          R      mAP50  mAP50-95): 100%|██████████| 1/1 [00:00<00:00,  7.73it/s]"
     ]
    },
    {
     "name": "stdout",
     "output_type": "stream",
     "text": [
      "                   all         17        221      0.865      0.781      0.891       0.54\n",
      "\u001b[34m\u001b[1mEarlyStopping: \u001b[0mTraining stopped early as no improvement observed in last 5 epochs. Best results observed at epoch 4, best model saved as best.pt.\n",
      "To update EarlyStopping(patience=5) pass a new patience value, i.e. `patience=300` or use `patience=0` to disable EarlyStopping.\n"
     ]
    },
    {
     "name": "stderr",
     "output_type": "stream",
     "text": [
      "\n"
     ]
    },
    {
     "name": "stdout",
     "output_type": "stream",
     "text": [
      "\n",
      "9 epochs completed in 0.021 hours.\n",
      "Optimizer stripped from hackathon/20250227_1341184/weights/last.pt, 5.5MB\n",
      "Optimizer stripped from hackathon/20250227_1341184/weights/best.pt, 5.5MB\n",
      "\n",
      "Validating hackathon/20250227_1341184/weights/best.pt...\n",
      "Ultralytics 8.3.49 🚀 Python-3.12.0 torch-2.5.1+cu124 CUDA:0 (NVIDIA GeForce GTX TITAN X, 12197MiB)\n",
      "YOLO11n summary (fused): 238 layers, 2,582,347 parameters, 0 gradients, 6.3 GFLOPs\n"
     ]
    },
    {
     "name": "stderr",
     "output_type": "stream",
     "text": [
      "                 Class     Images  Instances      Box(P          R      mAP50  mAP50-95): 100%|██████████| 1/1 [00:00<00:00,  7.01it/s]\n"
     ]
    },
    {
     "name": "stdout",
     "output_type": "stream",
     "text": [
      "                   all         17        221      0.872      0.833       0.92      0.604\n",
      "Speed: 0.2ms preprocess, 4.1ms inference, 0.0ms loss, 0.7ms postprocess per image\n",
      "Results saved to \u001b[1mhackathon/20250227_1341184\u001b[0m\n",
      "\u001b[34m\u001b[1mMLflow: \u001b[0mresults logged to runs/mlflow\n",
      "\u001b[34m\u001b[1mMLflow: \u001b[0mdisable with 'yolo settings mlflow=False'\n"
     ]
    },
    {
     "data": {
      "text/plain": [
       "ultralytics.utils.metrics.DetMetrics object with attributes:\n",
       "\n",
       "ap_class_index: array([0])\n",
       "box: ultralytics.utils.metrics.Metric object\n",
       "confusion_matrix: <ultralytics.utils.metrics.ConfusionMatrix object at 0x71f2a3ba4230>\n",
       "curves: ['Precision-Recall(B)', 'F1-Confidence(B)', 'Precision-Confidence(B)', 'Recall-Confidence(B)']\n",
       "curves_results: [[array([          0,    0.001001,    0.002002,    0.003003,    0.004004,    0.005005,    0.006006,    0.007007,    0.008008,    0.009009,     0.01001,    0.011011,    0.012012,    0.013013,    0.014014,    0.015015,    0.016016,    0.017017,    0.018018,    0.019019,     0.02002,    0.021021,    0.022022,    0.023023,\n",
       "          0.024024,    0.025025,    0.026026,    0.027027,    0.028028,    0.029029,     0.03003,    0.031031,    0.032032,    0.033033,    0.034034,    0.035035,    0.036036,    0.037037,    0.038038,    0.039039,     0.04004,    0.041041,    0.042042,    0.043043,    0.044044,    0.045045,    0.046046,    0.047047,\n",
       "          0.048048,    0.049049,     0.05005,    0.051051,    0.052052,    0.053053,    0.054054,    0.055055,    0.056056,    0.057057,    0.058058,    0.059059,     0.06006,    0.061061,    0.062062,    0.063063,    0.064064,    0.065065,    0.066066,    0.067067,    0.068068,    0.069069,     0.07007,    0.071071,\n",
       "          0.072072,    0.073073,    0.074074,    0.075075,    0.076076,    0.077077,    0.078078,    0.079079,     0.08008,    0.081081,    0.082082,    0.083083,    0.084084,    0.085085,    0.086086,    0.087087,    0.088088,    0.089089,     0.09009,    0.091091,    0.092092,    0.093093,    0.094094,    0.095095,\n",
       "          0.096096,    0.097097,    0.098098,    0.099099,      0.1001,      0.1011,      0.1021,      0.1031,      0.1041,     0.10511,     0.10611,     0.10711,     0.10811,     0.10911,     0.11011,     0.11111,     0.11211,     0.11311,     0.11411,     0.11512,     0.11612,     0.11712,     0.11812,     0.11912,\n",
       "           0.12012,     0.12112,     0.12212,     0.12312,     0.12412,     0.12513,     0.12613,     0.12713,     0.12813,     0.12913,     0.13013,     0.13113,     0.13213,     0.13313,     0.13413,     0.13514,     0.13614,     0.13714,     0.13814,     0.13914,     0.14014,     0.14114,     0.14214,     0.14314,\n",
       "           0.14414,     0.14515,     0.14615,     0.14715,     0.14815,     0.14915,     0.15015,     0.15115,     0.15215,     0.15315,     0.15415,     0.15516,     0.15616,     0.15716,     0.15816,     0.15916,     0.16016,     0.16116,     0.16216,     0.16316,     0.16416,     0.16517,     0.16617,     0.16717,\n",
       "           0.16817,     0.16917,     0.17017,     0.17117,     0.17217,     0.17317,     0.17417,     0.17518,     0.17618,     0.17718,     0.17818,     0.17918,     0.18018,     0.18118,     0.18218,     0.18318,     0.18418,     0.18519,     0.18619,     0.18719,     0.18819,     0.18919,     0.19019,     0.19119,\n",
       "           0.19219,     0.19319,     0.19419,      0.1952,      0.1962,      0.1972,      0.1982,      0.1992,      0.2002,      0.2012,      0.2022,      0.2032,      0.2042,     0.20521,     0.20621,     0.20721,     0.20821,     0.20921,     0.21021,     0.21121,     0.21221,     0.21321,     0.21421,     0.21522,\n",
       "           0.21622,     0.21722,     0.21822,     0.21922,     0.22022,     0.22122,     0.22222,     0.22322,     0.22422,     0.22523,     0.22623,     0.22723,     0.22823,     0.22923,     0.23023,     0.23123,     0.23223,     0.23323,     0.23423,     0.23524,     0.23624,     0.23724,     0.23824,     0.23924,\n",
       "           0.24024,     0.24124,     0.24224,     0.24324,     0.24424,     0.24525,     0.24625,     0.24725,     0.24825,     0.24925,     0.25025,     0.25125,     0.25225,     0.25325,     0.25425,     0.25526,     0.25626,     0.25726,     0.25826,     0.25926,     0.26026,     0.26126,     0.26226,     0.26326,\n",
       "           0.26426,     0.26527,     0.26627,     0.26727,     0.26827,     0.26927,     0.27027,     0.27127,     0.27227,     0.27327,     0.27427,     0.27528,     0.27628,     0.27728,     0.27828,     0.27928,     0.28028,     0.28128,     0.28228,     0.28328,     0.28428,     0.28529,     0.28629,     0.28729,\n",
       "           0.28829,     0.28929,     0.29029,     0.29129,     0.29229,     0.29329,     0.29429,      0.2953,      0.2963,      0.2973,      0.2983,      0.2993,      0.3003,      0.3013,      0.3023,      0.3033,      0.3043,     0.30531,     0.30631,     0.30731,     0.30831,     0.30931,     0.31031,     0.31131,\n",
       "           0.31231,     0.31331,     0.31431,     0.31532,     0.31632,     0.31732,     0.31832,     0.31932,     0.32032,     0.32132,     0.32232,     0.32332,     0.32432,     0.32533,     0.32633,     0.32733,     0.32833,     0.32933,     0.33033,     0.33133,     0.33233,     0.33333,     0.33433,     0.33534,\n",
       "           0.33634,     0.33734,     0.33834,     0.33934,     0.34034,     0.34134,     0.34234,     0.34334,     0.34434,     0.34535,     0.34635,     0.34735,     0.34835,     0.34935,     0.35035,     0.35135,     0.35235,     0.35335,     0.35435,     0.35536,     0.35636,     0.35736,     0.35836,     0.35936,\n",
       "           0.36036,     0.36136,     0.36236,     0.36336,     0.36436,     0.36537,     0.36637,     0.36737,     0.36837,     0.36937,     0.37037,     0.37137,     0.37237,     0.37337,     0.37437,     0.37538,     0.37638,     0.37738,     0.37838,     0.37938,     0.38038,     0.38138,     0.38238,     0.38338,\n",
       "           0.38438,     0.38539,     0.38639,     0.38739,     0.38839,     0.38939,     0.39039,     0.39139,     0.39239,     0.39339,     0.39439,      0.3954,      0.3964,      0.3974,      0.3984,      0.3994,      0.4004,      0.4014,      0.4024,      0.4034,      0.4044,     0.40541,     0.40641,     0.40741,\n",
       "           0.40841,     0.40941,     0.41041,     0.41141,     0.41241,     0.41341,     0.41441,     0.41542,     0.41642,     0.41742,     0.41842,     0.41942,     0.42042,     0.42142,     0.42242,     0.42342,     0.42442,     0.42543,     0.42643,     0.42743,     0.42843,     0.42943,     0.43043,     0.43143,\n",
       "           0.43243,     0.43343,     0.43443,     0.43544,     0.43644,     0.43744,     0.43844,     0.43944,     0.44044,     0.44144,     0.44244,     0.44344,     0.44444,     0.44545,     0.44645,     0.44745,     0.44845,     0.44945,     0.45045,     0.45145,     0.45245,     0.45345,     0.45445,     0.45546,\n",
       "           0.45646,     0.45746,     0.45846,     0.45946,     0.46046,     0.46146,     0.46246,     0.46346,     0.46446,     0.46547,     0.46647,     0.46747,     0.46847,     0.46947,     0.47047,     0.47147,     0.47247,     0.47347,     0.47447,     0.47548,     0.47648,     0.47748,     0.47848,     0.47948,\n",
       "           0.48048,     0.48148,     0.48248,     0.48348,     0.48448,     0.48549,     0.48649,     0.48749,     0.48849,     0.48949,     0.49049,     0.49149,     0.49249,     0.49349,     0.49449,      0.4955,      0.4965,      0.4975,      0.4985,      0.4995,      0.5005,      0.5015,      0.5025,      0.5035,\n",
       "            0.5045,     0.50551,     0.50651,     0.50751,     0.50851,     0.50951,     0.51051,     0.51151,     0.51251,     0.51351,     0.51451,     0.51552,     0.51652,     0.51752,     0.51852,     0.51952,     0.52052,     0.52152,     0.52252,     0.52352,     0.52452,     0.52553,     0.52653,     0.52753,\n",
       "           0.52853,     0.52953,     0.53053,     0.53153,     0.53253,     0.53353,     0.53453,     0.53554,     0.53654,     0.53754,     0.53854,     0.53954,     0.54054,     0.54154,     0.54254,     0.54354,     0.54454,     0.54555,     0.54655,     0.54755,     0.54855,     0.54955,     0.55055,     0.55155,\n",
       "           0.55255,     0.55355,     0.55455,     0.55556,     0.55656,     0.55756,     0.55856,     0.55956,     0.56056,     0.56156,     0.56256,     0.56356,     0.56456,     0.56557,     0.56657,     0.56757,     0.56857,     0.56957,     0.57057,     0.57157,     0.57257,     0.57357,     0.57457,     0.57558,\n",
       "           0.57658,     0.57758,     0.57858,     0.57958,     0.58058,     0.58158,     0.58258,     0.58358,     0.58458,     0.58559,     0.58659,     0.58759,     0.58859,     0.58959,     0.59059,     0.59159,     0.59259,     0.59359,     0.59459,      0.5956,      0.5966,      0.5976,      0.5986,      0.5996,\n",
       "            0.6006,      0.6016,      0.6026,      0.6036,      0.6046,     0.60561,     0.60661,     0.60761,     0.60861,     0.60961,     0.61061,     0.61161,     0.61261,     0.61361,     0.61461,     0.61562,     0.61662,     0.61762,     0.61862,     0.61962,     0.62062,     0.62162,     0.62262,     0.62362,\n",
       "           0.62462,     0.62563,     0.62663,     0.62763,     0.62863,     0.62963,     0.63063,     0.63163,     0.63263,     0.63363,     0.63463,     0.63564,     0.63664,     0.63764,     0.63864,     0.63964,     0.64064,     0.64164,     0.64264,     0.64364,     0.64464,     0.64565,     0.64665,     0.64765,\n",
       "           0.64865,     0.64965,     0.65065,     0.65165,     0.65265,     0.65365,     0.65465,     0.65566,     0.65666,     0.65766,     0.65866,     0.65966,     0.66066,     0.66166,     0.66266,     0.66366,     0.66466,     0.66567,     0.66667,     0.66767,     0.66867,     0.66967,     0.67067,     0.67167,\n",
       "           0.67267,     0.67367,     0.67467,     0.67568,     0.67668,     0.67768,     0.67868,     0.67968,     0.68068,     0.68168,     0.68268,     0.68368,     0.68468,     0.68569,     0.68669,     0.68769,     0.68869,     0.68969,     0.69069,     0.69169,     0.69269,     0.69369,     0.69469,      0.6957,\n",
       "            0.6967,      0.6977,      0.6987,      0.6997,      0.7007,      0.7017,      0.7027,      0.7037,      0.7047,     0.70571,     0.70671,     0.70771,     0.70871,     0.70971,     0.71071,     0.71171,     0.71271,     0.71371,     0.71471,     0.71572,     0.71672,     0.71772,     0.71872,     0.71972,\n",
       "           0.72072,     0.72172,     0.72272,     0.72372,     0.72472,     0.72573,     0.72673,     0.72773,     0.72873,     0.72973,     0.73073,     0.73173,     0.73273,     0.73373,     0.73473,     0.73574,     0.73674,     0.73774,     0.73874,     0.73974,     0.74074,     0.74174,     0.74274,     0.74374,\n",
       "           0.74474,     0.74575,     0.74675,     0.74775,     0.74875,     0.74975,     0.75075,     0.75175,     0.75275,     0.75375,     0.75475,     0.75576,     0.75676,     0.75776,     0.75876,     0.75976,     0.76076,     0.76176,     0.76276,     0.76376,     0.76476,     0.76577,     0.76677,     0.76777,\n",
       "           0.76877,     0.76977,     0.77077,     0.77177,     0.77277,     0.77377,     0.77477,     0.77578,     0.77678,     0.77778,     0.77878,     0.77978,     0.78078,     0.78178,     0.78278,     0.78378,     0.78478,     0.78579,     0.78679,     0.78779,     0.78879,     0.78979,     0.79079,     0.79179,\n",
       "           0.79279,     0.79379,     0.79479,      0.7958,      0.7968,      0.7978,      0.7988,      0.7998,      0.8008,      0.8018,      0.8028,      0.8038,      0.8048,     0.80581,     0.80681,     0.80781,     0.80881,     0.80981,     0.81081,     0.81181,     0.81281,     0.81381,     0.81481,     0.81582,\n",
       "           0.81682,     0.81782,     0.81882,     0.81982,     0.82082,     0.82182,     0.82282,     0.82382,     0.82482,     0.82583,     0.82683,     0.82783,     0.82883,     0.82983,     0.83083,     0.83183,     0.83283,     0.83383,     0.83483,     0.83584,     0.83684,     0.83784,     0.83884,     0.83984,\n",
       "           0.84084,     0.84184,     0.84284,     0.84384,     0.84484,     0.84585,     0.84685,     0.84785,     0.84885,     0.84985,     0.85085,     0.85185,     0.85285,     0.85385,     0.85485,     0.85586,     0.85686,     0.85786,     0.85886,     0.85986,     0.86086,     0.86186,     0.86286,     0.86386,\n",
       "           0.86486,     0.86587,     0.86687,     0.86787,     0.86887,     0.86987,     0.87087,     0.87187,     0.87287,     0.87387,     0.87487,     0.87588,     0.87688,     0.87788,     0.87888,     0.87988,     0.88088,     0.88188,     0.88288,     0.88388,     0.88488,     0.88589,     0.88689,     0.88789,\n",
       "           0.88889,     0.88989,     0.89089,     0.89189,     0.89289,     0.89389,     0.89489,      0.8959,      0.8969,      0.8979,      0.8989,      0.8999,      0.9009,      0.9019,      0.9029,      0.9039,      0.9049,     0.90591,     0.90691,     0.90791,     0.90891,     0.90991,     0.91091,     0.91191,\n",
       "           0.91291,     0.91391,     0.91491,     0.91592,     0.91692,     0.91792,     0.91892,     0.91992,     0.92092,     0.92192,     0.92292,     0.92392,     0.92492,     0.92593,     0.92693,     0.92793,     0.92893,     0.92993,     0.93093,     0.93193,     0.93293,     0.93393,     0.93493,     0.93594,\n",
       "           0.93694,     0.93794,     0.93894,     0.93994,     0.94094,     0.94194,     0.94294,     0.94394,     0.94494,     0.94595,     0.94695,     0.94795,     0.94895,     0.94995,     0.95095,     0.95195,     0.95295,     0.95395,     0.95495,     0.95596,     0.95696,     0.95796,     0.95896,     0.95996,\n",
       "           0.96096,     0.96196,     0.96296,     0.96396,     0.96496,     0.96597,     0.96697,     0.96797,     0.96897,     0.96997,     0.97097,     0.97197,     0.97297,     0.97397,     0.97497,     0.97598,     0.97698,     0.97798,     0.97898,     0.97998,     0.98098,     0.98198,     0.98298,     0.98398,\n",
       "           0.98498,     0.98599,     0.98699,     0.98799,     0.98899,     0.98999,     0.99099,     0.99199,     0.99299,     0.99399,     0.99499,       0.996,       0.997,       0.998,       0.999,           1]), array([[          1,           1,           1,           1,           1,           1,           1,           1,           1,           1,           1,           1,           1,           1,           1,           1,           1,           1,           1,           1,           1,           1,           1,\n",
       "                  1,           1,           1,           1,           1,           1,           1,           1,           1,           1,           1,           1,           1,           1,           1,           1,           1,           1,           1,           1,           1,           1,           1,\n",
       "                  1,           1,           1,           1,           1,           1,           1,           1,           1,           1,           1,           1,           1,           1,           1,           1,           1,           1,           1,           1,           1,           1,           1,\n",
       "                  1,           1,           1,           1,           1,           1,           1,           1,           1,           1,           1,           1,           1,           1,           1,           1,           1,           1,           1,           1,           1,           1,           1,\n",
       "                  1,           1,           1,           1,           1,           1,           1,           1,           1,           1,           1,           1,           1,           1,           1,           1,           1,           1,           1,           1,           1,           1,           1,\n",
       "                  1,           1,           1,           1,           1,           1,           1,           1,           1,           1,           1,           1,           1,           1,           1,           1,           1,           1,           1,           1,           1,           1,           1,\n",
       "                  1,           1,           1,           1,           1,           1,           1,           1,           1,           1,           1,           1,           1,           1,           1,           1,           1,           1,           1,           1,           1,           1,           1,\n",
       "                  1,           1,           1,           1,           1,           1,           1,           1,           1,           1,           1,           1,           1,           1,           1,           1,           1,           1,           1,           1,           1,           1,           1,\n",
       "                  1,           1,           1,           1,           1,           1,           1,           1,           1,           1,           1,           1,           1,           1,           1,           1,           1,           1,           1,           1,           1,           1,           1,\n",
       "                  1,           1,           1,           1,           1,           1,           1,           1,           1,           1,           1,           1,           1,           1,           1,           1,           1,           1,           1,           1,           1,           1,           1,\n",
       "                  1,           1,           1,           1,           1,           1,           1,           1,           1,           1,           1,           1,           1,           1,           1,           1,           1,           1,           1,           1,           1,           1,           1,\n",
       "                  1,           1,           1,           1,           1,           1,           1,           1,           1,           1,           1,           1,           1,           1,           1,           1,           1,           1,           1,           1,           1,           1,           1,\n",
       "                  1,           1,           1,           1,           1,           1,           1,           1,           1,           1,           1,           1,           1,           1,           1,           1,           1,           1,           1,           1,           1,           1,           1,\n",
       "                  1,           1,           1,           1,           1,           1,           1,           1,           1,           1,           1,           1,           1,           1,           1,           1,           1,           1,           1,           1,           1,           1,           1,\n",
       "                  1,           1,           1,           1,           1,           1,           1,           1,           1,           1,           1,           1,           1,           1,           1,           1,           1,           1,           1,           1,           1,           1,           1,\n",
       "                  1,           1,           1,           1,           1,           1,           1,           1,           1,           1,           1,           1,           1,           1,           1,           1,           1,           1,           1,           1,           1,           1,           1,\n",
       "                  1,           1,           1,           1,           1,           1,           1,           1,           1,           1,           1,           1,           1,           1,           1,           1,           1,           1,           1,           1,           1,           1,           1,\n",
       "                  1,           1,           1,           1,           1,           1,           1,           1,           1,           1,           1,           1,           1,           1,           1,           1,           1,           1,           1,           1,           1,           1,           1,\n",
       "                  1,           1,           1,           1,           1,           1,           1,           1,           1,           1,           1,           1,           1,           1,           1,           1,           1,           1,           1,           1,           1,           1,           1,\n",
       "                  1,           1,           1,           1,           1,           1,           1,           1,           1,           1,           1,           1,           1,           1,           1,           1,           1,           1,           1,           1,           1,           1,           1,\n",
       "                  1,           1,           1,           1,           1,           1,           1,           1,           1,           1,           1,           1,           1,           1,           1,     0.99099,     0.99099,     0.99099,     0.99099,     0.99099,     0.99099,     0.99099,     0.99099,\n",
       "            0.99099,     0.99099,     0.99099,     0.99099,     0.99099,     0.99099,     0.99099,     0.99099,     0.99099,     0.99099,     0.99099,     0.99099,     0.99099,     0.99099,     0.99099,      0.9823,      0.9823,      0.9823,      0.9823,     0.97761,     0.97761,     0.97761,     0.97761,\n",
       "            0.97761,     0.97761,     0.97761,     0.97761,     0.97761,     0.97761,     0.97761,     0.97761,     0.97761,     0.97761,     0.97761,     0.97761,     0.97761,     0.97761,     0.97761,     0.97761,     0.97761,     0.97761,     0.97761,     0.97761,     0.97761,     0.97761,     0.97761,\n",
       "            0.97761,     0.97761,     0.97761,     0.97761,     0.97761,     0.97761,     0.97761,     0.97761,     0.97761,     0.97761,     0.97761,     0.97761,     0.97761,     0.97761,     0.97761,     0.97761,     0.97761,     0.97761,     0.97761,     0.97761,     0.97761,     0.97761,     0.97761,\n",
       "            0.97761,     0.97761,     0.97761,     0.97761,     0.97761,     0.97761,     0.97761,     0.97761,     0.97761,     0.97761,     0.97761,     0.97761,     0.97761,     0.97761,     0.97761,     0.97761,     0.97761,     0.97761,     0.97761,     0.97761,     0.97761,     0.97761,     0.97761,\n",
       "            0.97761,     0.97761,     0.97761,     0.97761,     0.97761,     0.97761,     0.97761,     0.97761,     0.97761,     0.97761,     0.97761,     0.97761,     0.97761,     0.97761,     0.97761,     0.97761,     0.97761,     0.97761,     0.97101,     0.97101,     0.97101,     0.97101,     0.97101,\n",
       "            0.97101,     0.97101,     0.97101,     0.97101,     0.97101,     0.97101,     0.97101,     0.97101,     0.96575,     0.96575,     0.96575,     0.96575,     0.96575,     0.96575,     0.96575,     0.96575,     0.96575,     0.96575,     0.96575,     0.96575,     0.96575,     0.96575,     0.96575,\n",
       "            0.96575,     0.96575,     0.96575,     0.96575,     0.96575,     0.96575,     0.96575,     0.96575,     0.96575,     0.96575,     0.96575,     0.96575,     0.96575,     0.96575,     0.96575,     0.96575,     0.96575,     0.95946,     0.95946,     0.95946,     0.95946,     0.95732,     0.95732,\n",
       "            0.95732,     0.95732,     0.95732,     0.95732,     0.95732,     0.95732,     0.95732,     0.95732,     0.95732,     0.95732,     0.95732,     0.95732,     0.95732,     0.95732,     0.95732,     0.95732,     0.95732,     0.95732,     0.95732,     0.95732,     0.95732,     0.95732,     0.95732,\n",
       "            0.95732,     0.95732,     0.95732,     0.95732,     0.95732,     0.95732,     0.95732,     0.95732,     0.95732,     0.95732,     0.95732,     0.95732,     0.95732,     0.95732,     0.95732,     0.95732,     0.95732,     0.95732,     0.95732,     0.95732,     0.95732,     0.95732,     0.95732,\n",
       "            0.95732,     0.95732,     0.95732,     0.95732,     0.95732,     0.95732,     0.95732,     0.95732,     0.95732,     0.95732,     0.95732,     0.95732,     0.95732,     0.95732,     0.95732,     0.95732,     0.95732,     0.95732,     0.95732,     0.95732,      0.9521,      0.9521,      0.9521,\n",
       "             0.9521,      0.9521,      0.9521,      0.9521,      0.9521,      0.9521,     0.94675,     0.94675,     0.94675,     0.94675,     0.94675,     0.94253,     0.94253,     0.94253,     0.94253,     0.94253,     0.94253,     0.94253,     0.94253,     0.94253,     0.94253,     0.94253,     0.94253,\n",
       "            0.94253,     0.94253,     0.94253,     0.94253,     0.94253,     0.94253,     0.93333,     0.93333,     0.93333,     0.93333,     0.93333,     0.93333,     0.93333,     0.93333,     0.93333,     0.93333,     0.93333,     0.93333,     0.93333,     0.93333,     0.93333,     0.93333,     0.93333,\n",
       "            0.93333,      0.9235,      0.9235,      0.9235,      0.9235,     0.90957,     0.90957,     0.90957,     0.90957,     0.90957,     0.90957,     0.90957,     0.90957,     0.90957,     0.90526,     0.90526,     0.90526,     0.90526,     0.90526,     0.90104,     0.90104,     0.90104,     0.90104,\n",
       "            0.90104,     0.89691,     0.89691,     0.89691,     0.89691,      0.8934,      0.8934,      0.8934,      0.8934,      0.8934,      0.8934,      0.8934,      0.8934,      0.8934,        0.89,        0.89,        0.89,        0.89,        0.89,        0.89,        0.89,        0.89,        0.89,\n",
       "             0.8867,      0.8867,      0.8867,      0.8867,      0.8867,      0.8867,      0.8867,      0.8867,      0.8867,     0.88293,     0.88293,     0.88293,     0.88293,     0.88293,     0.87981,     0.87981,     0.87981,     0.87981,     0.87981,     0.87981,     0.87981,     0.87981,     0.87981,\n",
       "            0.87204,     0.87204,     0.87204,     0.87204,     0.86854,     0.86854,     0.86854,     0.86854,     0.86854,     0.83784,     0.83784,     0.83784,     0.83784,     0.83111,     0.83111,     0.83111,     0.83111,     0.83111,     0.82174,     0.82174,     0.82174,     0.82174,     0.82174,\n",
       "            0.82174,     0.82174,     0.82174,     0.82174,     0.81897,     0.81897,     0.81897,     0.81897,     0.79916,     0.79916,     0.79916,     0.79916,     0.79916,     0.79668,     0.79668,     0.79668,     0.79668,     0.78455,     0.78455,     0.78455,     0.78455,     0.78455,     0.78226,\n",
       "            0.78226,     0.78226,     0.78226,     0.77075,     0.77075,     0.77075,     0.77075,     0.77075,     0.76863,     0.76863,     0.76863,     0.76863,     0.76062,     0.76062,     0.76062,     0.76062,     0.76062,     0.75573,     0.75573,     0.75573,     0.75573,     0.75573,     0.74812,\n",
       "            0.74812,     0.74812,     0.74812,     0.72727,     0.72727,     0.72727,     0.72727,     0.72727,      0.7153,      0.7153,      0.7153,      0.7153,     0.68942,     0.68942,     0.68942,     0.68942,     0.68942,     0.68121,     0.68121,     0.68121,     0.68121,        0.68,        0.68,\n",
       "               0.68,        0.68,        0.68,     0.67657,     0.67657,     0.67657,     0.67657,     0.66883,     0.66883,     0.66883,     0.66883,     0.66883,     0.66454,     0.66454,     0.66454,     0.66454,     0.66454,     0.66454,     0.66454,     0.66454,     0.66454,      0.5838,      0.5838,\n",
       "             0.5838,      0.5838,     0.58011,     0.58011,     0.58011,     0.58011,     0.58011,     0.57027,     0.57027,     0.57027,     0.57027,     0.51707,     0.51707,     0.51707,     0.51707,     0.51707,     0.49078,     0.49078,     0.49078,     0.49078,      0.4084,      0.4084,      0.4084,\n",
       "             0.4084,      0.4084,      0.3606,      0.3606,      0.3606,      0.3606,      0.3606,      0.3606,      0.3606,      0.3606,      0.3606,      0.3517,      0.3517,      0.3517,      0.3517,     0.32586,     0.32586,     0.32586,     0.32586,     0.32586,     0.31286,     0.31286,     0.31286,\n",
       "            0.31286,     0.30812,     0.30812,     0.30812,     0.30812,     0.30812,    0.064847,    0.064847,    0.064847,    0.064847,           0]]), 'Recall', 'Precision'], [array([          0,    0.001001,    0.002002,    0.003003,    0.004004,    0.005005,    0.006006,    0.007007,    0.008008,    0.009009,     0.01001,    0.011011,    0.012012,    0.013013,    0.014014,    0.015015,    0.016016,    0.017017,    0.018018,    0.019019,     0.02002,    0.021021,    0.022022,    0.023023,\n",
       "          0.024024,    0.025025,    0.026026,    0.027027,    0.028028,    0.029029,     0.03003,    0.031031,    0.032032,    0.033033,    0.034034,    0.035035,    0.036036,    0.037037,    0.038038,    0.039039,     0.04004,    0.041041,    0.042042,    0.043043,    0.044044,    0.045045,    0.046046,    0.047047,\n",
       "          0.048048,    0.049049,     0.05005,    0.051051,    0.052052,    0.053053,    0.054054,    0.055055,    0.056056,    0.057057,    0.058058,    0.059059,     0.06006,    0.061061,    0.062062,    0.063063,    0.064064,    0.065065,    0.066066,    0.067067,    0.068068,    0.069069,     0.07007,    0.071071,\n",
       "          0.072072,    0.073073,    0.074074,    0.075075,    0.076076,    0.077077,    0.078078,    0.079079,     0.08008,    0.081081,    0.082082,    0.083083,    0.084084,    0.085085,    0.086086,    0.087087,    0.088088,    0.089089,     0.09009,    0.091091,    0.092092,    0.093093,    0.094094,    0.095095,\n",
       "          0.096096,    0.097097,    0.098098,    0.099099,      0.1001,      0.1011,      0.1021,      0.1031,      0.1041,     0.10511,     0.10611,     0.10711,     0.10811,     0.10911,     0.11011,     0.11111,     0.11211,     0.11311,     0.11411,     0.11512,     0.11612,     0.11712,     0.11812,     0.11912,\n",
       "           0.12012,     0.12112,     0.12212,     0.12312,     0.12412,     0.12513,     0.12613,     0.12713,     0.12813,     0.12913,     0.13013,     0.13113,     0.13213,     0.13313,     0.13413,     0.13514,     0.13614,     0.13714,     0.13814,     0.13914,     0.14014,     0.14114,     0.14214,     0.14314,\n",
       "           0.14414,     0.14515,     0.14615,     0.14715,     0.14815,     0.14915,     0.15015,     0.15115,     0.15215,     0.15315,     0.15415,     0.15516,     0.15616,     0.15716,     0.15816,     0.15916,     0.16016,     0.16116,     0.16216,     0.16316,     0.16416,     0.16517,     0.16617,     0.16717,\n",
       "           0.16817,     0.16917,     0.17017,     0.17117,     0.17217,     0.17317,     0.17417,     0.17518,     0.17618,     0.17718,     0.17818,     0.17918,     0.18018,     0.18118,     0.18218,     0.18318,     0.18418,     0.18519,     0.18619,     0.18719,     0.18819,     0.18919,     0.19019,     0.19119,\n",
       "           0.19219,     0.19319,     0.19419,      0.1952,      0.1962,      0.1972,      0.1982,      0.1992,      0.2002,      0.2012,      0.2022,      0.2032,      0.2042,     0.20521,     0.20621,     0.20721,     0.20821,     0.20921,     0.21021,     0.21121,     0.21221,     0.21321,     0.21421,     0.21522,\n",
       "           0.21622,     0.21722,     0.21822,     0.21922,     0.22022,     0.22122,     0.22222,     0.22322,     0.22422,     0.22523,     0.22623,     0.22723,     0.22823,     0.22923,     0.23023,     0.23123,     0.23223,     0.23323,     0.23423,     0.23524,     0.23624,     0.23724,     0.23824,     0.23924,\n",
       "           0.24024,     0.24124,     0.24224,     0.24324,     0.24424,     0.24525,     0.24625,     0.24725,     0.24825,     0.24925,     0.25025,     0.25125,     0.25225,     0.25325,     0.25425,     0.25526,     0.25626,     0.25726,     0.25826,     0.25926,     0.26026,     0.26126,     0.26226,     0.26326,\n",
       "           0.26426,     0.26527,     0.26627,     0.26727,     0.26827,     0.26927,     0.27027,     0.27127,     0.27227,     0.27327,     0.27427,     0.27528,     0.27628,     0.27728,     0.27828,     0.27928,     0.28028,     0.28128,     0.28228,     0.28328,     0.28428,     0.28529,     0.28629,     0.28729,\n",
       "           0.28829,     0.28929,     0.29029,     0.29129,     0.29229,     0.29329,     0.29429,      0.2953,      0.2963,      0.2973,      0.2983,      0.2993,      0.3003,      0.3013,      0.3023,      0.3033,      0.3043,     0.30531,     0.30631,     0.30731,     0.30831,     0.30931,     0.31031,     0.31131,\n",
       "           0.31231,     0.31331,     0.31431,     0.31532,     0.31632,     0.31732,     0.31832,     0.31932,     0.32032,     0.32132,     0.32232,     0.32332,     0.32432,     0.32533,     0.32633,     0.32733,     0.32833,     0.32933,     0.33033,     0.33133,     0.33233,     0.33333,     0.33433,     0.33534,\n",
       "           0.33634,     0.33734,     0.33834,     0.33934,     0.34034,     0.34134,     0.34234,     0.34334,     0.34434,     0.34535,     0.34635,     0.34735,     0.34835,     0.34935,     0.35035,     0.35135,     0.35235,     0.35335,     0.35435,     0.35536,     0.35636,     0.35736,     0.35836,     0.35936,\n",
       "           0.36036,     0.36136,     0.36236,     0.36336,     0.36436,     0.36537,     0.36637,     0.36737,     0.36837,     0.36937,     0.37037,     0.37137,     0.37237,     0.37337,     0.37437,     0.37538,     0.37638,     0.37738,     0.37838,     0.37938,     0.38038,     0.38138,     0.38238,     0.38338,\n",
       "           0.38438,     0.38539,     0.38639,     0.38739,     0.38839,     0.38939,     0.39039,     0.39139,     0.39239,     0.39339,     0.39439,      0.3954,      0.3964,      0.3974,      0.3984,      0.3994,      0.4004,      0.4014,      0.4024,      0.4034,      0.4044,     0.40541,     0.40641,     0.40741,\n",
       "           0.40841,     0.40941,     0.41041,     0.41141,     0.41241,     0.41341,     0.41441,     0.41542,     0.41642,     0.41742,     0.41842,     0.41942,     0.42042,     0.42142,     0.42242,     0.42342,     0.42442,     0.42543,     0.42643,     0.42743,     0.42843,     0.42943,     0.43043,     0.43143,\n",
       "           0.43243,     0.43343,     0.43443,     0.43544,     0.43644,     0.43744,     0.43844,     0.43944,     0.44044,     0.44144,     0.44244,     0.44344,     0.44444,     0.44545,     0.44645,     0.44745,     0.44845,     0.44945,     0.45045,     0.45145,     0.45245,     0.45345,     0.45445,     0.45546,\n",
       "           0.45646,     0.45746,     0.45846,     0.45946,     0.46046,     0.46146,     0.46246,     0.46346,     0.46446,     0.46547,     0.46647,     0.46747,     0.46847,     0.46947,     0.47047,     0.47147,     0.47247,     0.47347,     0.47447,     0.47548,     0.47648,     0.47748,     0.47848,     0.47948,\n",
       "           0.48048,     0.48148,     0.48248,     0.48348,     0.48448,     0.48549,     0.48649,     0.48749,     0.48849,     0.48949,     0.49049,     0.49149,     0.49249,     0.49349,     0.49449,      0.4955,      0.4965,      0.4975,      0.4985,      0.4995,      0.5005,      0.5015,      0.5025,      0.5035,\n",
       "            0.5045,     0.50551,     0.50651,     0.50751,     0.50851,     0.50951,     0.51051,     0.51151,     0.51251,     0.51351,     0.51451,     0.51552,     0.51652,     0.51752,     0.51852,     0.51952,     0.52052,     0.52152,     0.52252,     0.52352,     0.52452,     0.52553,     0.52653,     0.52753,\n",
       "           0.52853,     0.52953,     0.53053,     0.53153,     0.53253,     0.53353,     0.53453,     0.53554,     0.53654,     0.53754,     0.53854,     0.53954,     0.54054,     0.54154,     0.54254,     0.54354,     0.54454,     0.54555,     0.54655,     0.54755,     0.54855,     0.54955,     0.55055,     0.55155,\n",
       "           0.55255,     0.55355,     0.55455,     0.55556,     0.55656,     0.55756,     0.55856,     0.55956,     0.56056,     0.56156,     0.56256,     0.56356,     0.56456,     0.56557,     0.56657,     0.56757,     0.56857,     0.56957,     0.57057,     0.57157,     0.57257,     0.57357,     0.57457,     0.57558,\n",
       "           0.57658,     0.57758,     0.57858,     0.57958,     0.58058,     0.58158,     0.58258,     0.58358,     0.58458,     0.58559,     0.58659,     0.58759,     0.58859,     0.58959,     0.59059,     0.59159,     0.59259,     0.59359,     0.59459,      0.5956,      0.5966,      0.5976,      0.5986,      0.5996,\n",
       "            0.6006,      0.6016,      0.6026,      0.6036,      0.6046,     0.60561,     0.60661,     0.60761,     0.60861,     0.60961,     0.61061,     0.61161,     0.61261,     0.61361,     0.61461,     0.61562,     0.61662,     0.61762,     0.61862,     0.61962,     0.62062,     0.62162,     0.62262,     0.62362,\n",
       "           0.62462,     0.62563,     0.62663,     0.62763,     0.62863,     0.62963,     0.63063,     0.63163,     0.63263,     0.63363,     0.63463,     0.63564,     0.63664,     0.63764,     0.63864,     0.63964,     0.64064,     0.64164,     0.64264,     0.64364,     0.64464,     0.64565,     0.64665,     0.64765,\n",
       "           0.64865,     0.64965,     0.65065,     0.65165,     0.65265,     0.65365,     0.65465,     0.65566,     0.65666,     0.65766,     0.65866,     0.65966,     0.66066,     0.66166,     0.66266,     0.66366,     0.66466,     0.66567,     0.66667,     0.66767,     0.66867,     0.66967,     0.67067,     0.67167,\n",
       "           0.67267,     0.67367,     0.67467,     0.67568,     0.67668,     0.67768,     0.67868,     0.67968,     0.68068,     0.68168,     0.68268,     0.68368,     0.68468,     0.68569,     0.68669,     0.68769,     0.68869,     0.68969,     0.69069,     0.69169,     0.69269,     0.69369,     0.69469,      0.6957,\n",
       "            0.6967,      0.6977,      0.6987,      0.6997,      0.7007,      0.7017,      0.7027,      0.7037,      0.7047,     0.70571,     0.70671,     0.70771,     0.70871,     0.70971,     0.71071,     0.71171,     0.71271,     0.71371,     0.71471,     0.71572,     0.71672,     0.71772,     0.71872,     0.71972,\n",
       "           0.72072,     0.72172,     0.72272,     0.72372,     0.72472,     0.72573,     0.72673,     0.72773,     0.72873,     0.72973,     0.73073,     0.73173,     0.73273,     0.73373,     0.73473,     0.73574,     0.73674,     0.73774,     0.73874,     0.73974,     0.74074,     0.74174,     0.74274,     0.74374,\n",
       "           0.74474,     0.74575,     0.74675,     0.74775,     0.74875,     0.74975,     0.75075,     0.75175,     0.75275,     0.75375,     0.75475,     0.75576,     0.75676,     0.75776,     0.75876,     0.75976,     0.76076,     0.76176,     0.76276,     0.76376,     0.76476,     0.76577,     0.76677,     0.76777,\n",
       "           0.76877,     0.76977,     0.77077,     0.77177,     0.77277,     0.77377,     0.77477,     0.77578,     0.77678,     0.77778,     0.77878,     0.77978,     0.78078,     0.78178,     0.78278,     0.78378,     0.78478,     0.78579,     0.78679,     0.78779,     0.78879,     0.78979,     0.79079,     0.79179,\n",
       "           0.79279,     0.79379,     0.79479,      0.7958,      0.7968,      0.7978,      0.7988,      0.7998,      0.8008,      0.8018,      0.8028,      0.8038,      0.8048,     0.80581,     0.80681,     0.80781,     0.80881,     0.80981,     0.81081,     0.81181,     0.81281,     0.81381,     0.81481,     0.81582,\n",
       "           0.81682,     0.81782,     0.81882,     0.81982,     0.82082,     0.82182,     0.82282,     0.82382,     0.82482,     0.82583,     0.82683,     0.82783,     0.82883,     0.82983,     0.83083,     0.83183,     0.83283,     0.83383,     0.83483,     0.83584,     0.83684,     0.83784,     0.83884,     0.83984,\n",
       "           0.84084,     0.84184,     0.84284,     0.84384,     0.84484,     0.84585,     0.84685,     0.84785,     0.84885,     0.84985,     0.85085,     0.85185,     0.85285,     0.85385,     0.85485,     0.85586,     0.85686,     0.85786,     0.85886,     0.85986,     0.86086,     0.86186,     0.86286,     0.86386,\n",
       "           0.86486,     0.86587,     0.86687,     0.86787,     0.86887,     0.86987,     0.87087,     0.87187,     0.87287,     0.87387,     0.87487,     0.87588,     0.87688,     0.87788,     0.87888,     0.87988,     0.88088,     0.88188,     0.88288,     0.88388,     0.88488,     0.88589,     0.88689,     0.88789,\n",
       "           0.88889,     0.88989,     0.89089,     0.89189,     0.89289,     0.89389,     0.89489,      0.8959,      0.8969,      0.8979,      0.8989,      0.8999,      0.9009,      0.9019,      0.9029,      0.9039,      0.9049,     0.90591,     0.90691,     0.90791,     0.90891,     0.90991,     0.91091,     0.91191,\n",
       "           0.91291,     0.91391,     0.91491,     0.91592,     0.91692,     0.91792,     0.91892,     0.91992,     0.92092,     0.92192,     0.92292,     0.92392,     0.92492,     0.92593,     0.92693,     0.92793,     0.92893,     0.92993,     0.93093,     0.93193,     0.93293,     0.93393,     0.93493,     0.93594,\n",
       "           0.93694,     0.93794,     0.93894,     0.93994,     0.94094,     0.94194,     0.94294,     0.94394,     0.94494,     0.94595,     0.94695,     0.94795,     0.94895,     0.94995,     0.95095,     0.95195,     0.95295,     0.95395,     0.95495,     0.95596,     0.95696,     0.95796,     0.95896,     0.95996,\n",
       "           0.96096,     0.96196,     0.96296,     0.96396,     0.96496,     0.96597,     0.96697,     0.96797,     0.96897,     0.96997,     0.97097,     0.97197,     0.97297,     0.97397,     0.97497,     0.97598,     0.97698,     0.97798,     0.97898,     0.97998,     0.98098,     0.98198,     0.98298,     0.98398,\n",
       "           0.98498,     0.98599,     0.98699,     0.98799,     0.98899,     0.98999,     0.99099,     0.99199,     0.99299,     0.99399,     0.99499,       0.996,       0.997,       0.998,       0.999,           1]), array([[   0.083067,    0.083067,    0.093941,     0.13928,     0.19837,     0.25481,     0.29611,     0.33405,     0.36671,     0.38672,     0.40256,     0.42087,     0.43351,     0.44756,     0.46518,     0.47474,     0.48121,      0.4885,     0.50026,      0.5096,     0.51728,     0.52473,     0.52471,\n",
       "            0.53101,     0.54125,     0.54716,     0.55542,      0.5625,     0.56635,     0.57285,      0.5758,     0.58029,     0.59159,     0.59548,     0.59981,     0.60302,     0.60917,     0.61377,     0.62107,     0.62405,     0.62594,     0.62794,     0.62991,     0.63158,     0.63609,     0.64159,\n",
       "            0.64241,     0.64437,     0.64746,     0.64932,     0.65159,     0.65473,      0.6586,     0.66675,     0.66816,     0.66911,     0.67066,     0.67161,     0.67031,     0.67125,      0.6723,     0.67319,     0.67684,     0.68048,     0.68341,     0.68472,     0.68723,     0.68782,     0.68836,\n",
       "            0.68903,     0.68983,     0.69319,     0.69438,       0.695,     0.69616,     0.69727,     0.69832,     0.70112,     0.70225,     0.70504,     0.70661,     0.71061,     0.71274,     0.71444,     0.71628,     0.71814,     0.71875,     0.71944,     0.72032,     0.71988,     0.71927,     0.71867,\n",
       "            0.71855,     0.71986,      0.7216,     0.72083,     0.71981,     0.72084,     0.72142,     0.72193,     0.72376,     0.72573,     0.72787,     0.72867,     0.72913,      0.7296,     0.73006,     0.73052,     0.73097,     0.73182,     0.73369,     0.73481,     0.73546,     0.73602,     0.73672,\n",
       "            0.73754,     0.73915,     0.74191,     0.74358,     0.74445,     0.74495,     0.74544,     0.74645,     0.74718,     0.74769,      0.7482,     0.74866,     0.74912,     0.75102,     0.75249,      0.7535,       0.754,     0.75444,     0.75487,     0.75782,     0.75863,     0.75933,     0.75985,\n",
       "            0.76036,     0.76186,     0.76244,     0.76299,     0.76451,     0.76691,     0.76772,     0.76814,     0.76855,      0.7691,     0.77208,     0.77257,     0.77306,     0.77418,     0.77653,     0.77813,     0.77879,     0.77655,      0.7751,     0.77482,     0.77552,     0.77599,      0.7762,\n",
       "            0.77641,     0.77663,     0.77684,     0.77705,     0.77726,     0.77749,     0.77773,     0.77798,     0.77822,     0.77847,     0.77872,     0.77769,     0.77813,     0.77846,     0.77879,     0.77912,     0.77945,     0.78006,     0.78071,     0.78128,     0.78181,     0.78234,     0.78218,\n",
       "            0.78186,     0.78153,     0.78121,     0.78089,     0.78056,     0.78024,     0.78299,     0.78203,     0.78107,     0.78095,     0.78122,     0.78149,     0.78176,     0.78203,     0.78223,     0.78168,     0.78113,     0.78058,     0.78003,     0.78083,     0.78157,     0.78187,     0.78216,\n",
       "            0.78246,     0.78275,     0.78338,     0.78467,     0.78591,     0.78535,      0.7848,     0.78425,     0.78369,     0.78463,     0.78526,     0.78545,     0.78564,     0.78583,     0.78602,     0.78621,     0.78641,      0.7866,      0.7868,     0.78703,     0.78726,     0.78748,     0.78771,\n",
       "            0.78793,     0.78816,     0.78866,     0.78929,     0.78994,     0.79065,     0.79136,       0.792,     0.79264,     0.79417,     0.79512,     0.79588,     0.79922,     0.79944,     0.79966,     0.79988,      0.8001,     0.80032,     0.80054,     0.80077,     0.79841,     0.79895,      0.7995,\n",
       "            0.80009,     0.80118,     0.80228,     0.80333,     0.80406,      0.8048,     0.80523,     0.80564,     0.80606,     0.80627,      0.8044,     0.80551,     0.80615,     0.80671,     0.80727,     0.80793,      0.8086,     0.80915,     0.80957,        0.81,     0.81042,     0.81104,     0.81179,\n",
       "            0.81429,     0.81527,     0.81636,      0.8149,     0.81526,     0.81562,     0.81599,     0.81635,     0.81663,     0.81686,     0.81709,     0.81732,     0.81755,     0.81778,     0.81802,      0.8185,     0.81966,      0.8194,     0.81881,     0.81822,     0.81762,     0.81755,     0.81774,\n",
       "            0.81793,     0.81812,     0.81831,      0.8185,     0.81868,     0.81887,     0.81906,     0.82025,     0.81999,     0.81873,     0.81893,     0.81971,     0.82082,     0.82186,     0.82206,     0.82226,     0.82245,     0.82265,     0.82285,     0.82304,     0.82324,     0.82344,     0.82247,\n",
       "            0.82129,     0.82208,     0.82276,     0.82253,      0.8223,     0.82207,     0.82183,      0.8216,     0.82137,     0.82114,     0.82091,     0.82067,     0.82044,     0.82033,     0.82043,     0.82052,     0.82062,     0.82072,     0.82081,     0.82091,     0.82101,      0.8211,      0.8212,\n",
       "             0.8213,     0.82139,     0.82149,     0.82158,     0.82168,     0.82178,     0.82187,     0.82197,     0.82262,     0.82388,     0.82418,     0.82448,     0.82478,     0.82508,     0.82538,     0.82625,     0.82658,     0.82499,     0.82564,      0.8263,     0.82613,     0.82544,     0.82475,\n",
       "            0.82406,     0.82419,     0.82435,     0.82451,     0.82467,     0.82484,       0.825,     0.82516,     0.82532,     0.82548,     0.82564,      0.8258,     0.82608,     0.82636,     0.82665,     0.82693,     0.82721,     0.82749,     0.82818,     0.82909,     0.83065,     0.83049,     0.82955,\n",
       "            0.83041,     0.82954,     0.82866,       0.828,     0.82906,     0.82975,     0.82987,        0.83,     0.83013,     0.83026,     0.83039,     0.83052,     0.83064,     0.83077,      0.8309,     0.83103,     0.83116,     0.83129,     0.83141,     0.83175,     0.83268,      0.8339,     0.83578,\n",
       "            0.83714,     0.83754,     0.83794,     0.83834,     0.83874,     0.83765,     0.83785,     0.83746,     0.83706,     0.83667,     0.83628,     0.83589,     0.83514,     0.83302,     0.83334,     0.83366,     0.83397,     0.83429,     0.83461,     0.83545,     0.83687,     0.83738,      0.8379,\n",
       "            0.83841,     0.83795,     0.83706,     0.83616,     0.83645,     0.83709,     0.83774,     0.83947,      0.8395,     0.83923,     0.83896,     0.83869,     0.83842,     0.83815,     0.83788,     0.83761,     0.83734,     0.83903,     0.83932,     0.83961,      0.8399,     0.84019,     0.84048,\n",
       "            0.84077,     0.84125,     0.84191,     0.84256,     0.84289,     0.84301,     0.84313,     0.84324,     0.84336,     0.84347,     0.84359,     0.84371,     0.84382,     0.84394,     0.84406,     0.84417,     0.84429,      0.8444,     0.84452,     0.84463,     0.84475,       0.845,     0.84525,\n",
       "             0.8455,     0.84574,     0.84599,     0.84624,     0.84649,     0.84675,     0.84708,     0.84742,     0.84775,     0.84808,     0.84841,     0.84898,     0.84998,     0.85138,     0.85138,     0.84994,     0.85005,     0.85016,     0.85027,     0.85038,      0.8505,     0.85061,     0.85072,\n",
       "            0.85083,     0.85094,     0.85106,     0.85117,     0.85128,     0.85139,      0.8515,     0.85162,     0.85173,     0.85184,     0.85099,     0.85302,     0.85304,     0.85293,     0.85281,      0.8527,     0.85258,     0.85247,     0.85235,     0.85224,     0.85212,     0.85201,      0.8519,\n",
       "            0.85178,     0.85167,     0.85155,     0.85144,     0.85132,     0.85121,     0.85109,     0.85098,     0.85087,     0.85075,     0.85064,     0.85052,     0.85011,     0.84942,     0.84873,     0.84804,     0.84905,     0.84941,     0.84885,      0.8483,     0.84774,     0.84719,     0.84737,\n",
       "            0.84778,     0.84819,      0.8486,     0.84901,      0.8485,     0.84789,     0.84727,     0.84665,     0.84395,     0.84463,     0.84532,      0.8448,     0.84339,      0.8427,     0.84244,     0.84218,     0.84193,     0.84167,     0.84141,     0.84115,      0.8409,     0.84064,     0.84038,\n",
       "            0.84012,     0.84031,     0.84055,      0.8408,     0.84104,     0.84128,     0.84152,     0.84177,     0.84201,     0.84125,     0.83983,     0.83673,     0.83703,     0.83732,     0.83762,     0.83791,     0.83821,      0.8385,      0.8362,     0.83645,     0.83728,      0.8366,     0.83518,\n",
       "             0.8357,     0.83622,     0.83674,      0.8368,     0.83646,     0.83612,     0.83578,     0.83544,     0.83509,     0.83475,     0.83441,     0.83424,     0.83466,     0.83508,      0.8355,     0.83592,     0.83567,      0.8342,     0.83315,      0.8327,     0.83225,      0.8318,     0.83134,\n",
       "            0.83089,     0.83052,     0.83136,      0.8322,     0.83383,     0.83491,     0.83544,     0.83597,      0.8365,     0.83643,     0.83616,      0.8359,     0.83563,     0.83536,     0.83509,     0.83482,     0.83455,     0.83428,     0.83401,     0.83375,     0.83404,     0.83432,      0.8346,\n",
       "            0.83489,     0.83517,     0.83545,     0.83574,     0.83642,     0.83727,     0.83422,     0.83174,     0.83054,     0.82933,     0.82851,     0.82775,       0.827,     0.82624,     0.82869,     0.82912,     0.82955,     0.82998,     0.83018,     0.82737,      0.8269,     0.82643,     0.82596,\n",
       "            0.82549,     0.82502,     0.82455,      0.8229,     0.82099,     0.81945,     0.81889,     0.82033,     0.81781,     0.81941,     0.81518,     0.81364,       0.814,     0.81436,     0.81472,     0.81508,     0.81544,     0.81537,     0.81502,     0.81467,     0.81432,     0.81397,     0.81362,\n",
       "            0.81327,     0.81291,     0.81256,     0.81185,     0.81105,     0.81026,     0.80946,      0.8051,     0.80382,     0.79527,      0.7931,     0.79201,     0.79091,     0.78855,     0.78199,     0.77401,     0.77265,      0.7713,       0.768,     0.76861,     0.76921,     0.76474,     0.76376,\n",
       "            0.76276,     0.76177,     0.75962,     0.75789,     0.75701,     0.75613,     0.75526,     0.75423,     0.75305,     0.75188,     0.74933,     0.74706,     0.74564,     0.74456,     0.74527,     0.74598,     0.74595,     0.74356,     0.73856,     0.73735,     0.73614,     0.73668,     0.73753,\n",
       "            0.73704,      0.7346,     0.73099,     0.72849,     0.72602,     0.71998,     0.71948,     0.71898,     0.71848,     0.71798,     0.71747,     0.71697,     0.71647,     0.71451,     0.71165,       0.703,     0.69705,     0.69628,      0.6955,     0.69472,     0.69394,     0.69148,     0.68934,\n",
       "            0.68777,      0.6862,     0.68541,     0.68462,     0.68383,     0.68304,     0.68219,     0.68106,     0.67992,     0.67878,     0.67261,      0.6685,     0.66577,      0.6646,     0.66343,     0.66298,      0.6638,     0.66461,     0.66088,     0.66131,     0.66199,      0.6626,     0.65984,\n",
       "            0.65769,     0.65602,     0.65357,     0.64781,     0.64496,     0.64284,     0.64371,     0.64158,     0.63972,     0.63864,     0.63757,     0.63649,     0.63502,     0.63286,     0.62643,     0.62424,     0.62238,     0.62091,     0.61944,     0.61718,     0.61381,     0.60746,     0.60431,\n",
       "            0.60205,     0.59563,      0.5938,     0.58267,     0.57955,      0.5717,     0.56811,      0.5662,      0.5644,      0.5628,     0.56121,     0.55927,     0.55686,      0.5511,     0.53885,     0.53632,     0.52664,     0.52597,     0.52529,     0.52462,     0.52395,     0.52327,      0.5226,\n",
       "            0.52192,     0.51989,     0.51735,     0.51119,     0.50913,     0.50707,     0.50235,     0.49713,      0.4906,     0.48848,     0.48636,     0.48112,      0.4597,     0.44615,     0.43806,     0.43665,     0.43523,     0.43381,     0.43072,      0.4251,     0.42221,     0.41932,     0.41642,\n",
       "             0.4055,     0.38952,     0.38482,     0.37948,     0.37541,     0.37132,     0.36361,     0.35544,     0.35229,     0.34448,     0.34023,     0.33596,     0.33167,     0.32736,     0.31663,      0.3054,     0.29742,     0.28867,     0.27933,     0.27589,     0.26942,     0.25542,     0.24012,\n",
       "            0.23496,     0.23013,     0.22527,     0.21129,     0.19612,     0.18855,     0.18472,     0.18037,     0.17211,     0.16953,     0.16693,     0.16269,     0.15796,      0.1557,     0.15345,     0.15119,     0.13883,     0.13435,     0.13204,     0.12973,     0.12741,     0.12236,     0.10884,\n",
       "            0.10329,     0.10036,    0.097568,    0.086456,    0.080778,    0.076345,    0.072907,    0.068835,    0.061247,    0.060156,    0.059065,    0.057972,    0.056878,    0.055783,    0.054687,    0.053589,    0.050872,    0.044981,    0.040355,    0.035892,    0.033188,    0.030622,    0.028048,\n",
       "           0.025633,    0.023371,    0.021103,     0.01883,    0.017691,    0.017286,    0.016881,    0.016475,     0.01607,    0.015664,    0.015258,    0.014852,    0.014446,    0.014039,    0.013633,    0.013226,    0.012819,    0.012412,    0.012005,    0.011597,     0.01119,    0.010782,    0.010374,\n",
       "          0.0099657,   0.0095575,    0.009149,           0,           0,           0,           0,           0,           0,           0,           0,           0,           0,           0,           0,           0,           0,           0,           0,           0,           0,           0,           0,\n",
       "                  0,           0,           0,           0,           0,           0,           0,           0,           0,           0,           0,           0,           0,           0,           0,           0,           0,           0,           0,           0,           0,           0,           0,\n",
       "                  0,           0,           0,           0,           0,           0,           0,           0,           0,           0,           0]]), 'Confidence', 'F1'], [array([          0,    0.001001,    0.002002,    0.003003,    0.004004,    0.005005,    0.006006,    0.007007,    0.008008,    0.009009,     0.01001,    0.011011,    0.012012,    0.013013,    0.014014,    0.015015,    0.016016,    0.017017,    0.018018,    0.019019,     0.02002,    0.021021,    0.022022,    0.023023,\n",
       "          0.024024,    0.025025,    0.026026,    0.027027,    0.028028,    0.029029,     0.03003,    0.031031,    0.032032,    0.033033,    0.034034,    0.035035,    0.036036,    0.037037,    0.038038,    0.039039,     0.04004,    0.041041,    0.042042,    0.043043,    0.044044,    0.045045,    0.046046,    0.047047,\n",
       "          0.048048,    0.049049,     0.05005,    0.051051,    0.052052,    0.053053,    0.054054,    0.055055,    0.056056,    0.057057,    0.058058,    0.059059,     0.06006,    0.061061,    0.062062,    0.063063,    0.064064,    0.065065,    0.066066,    0.067067,    0.068068,    0.069069,     0.07007,    0.071071,\n",
       "          0.072072,    0.073073,    0.074074,    0.075075,    0.076076,    0.077077,    0.078078,    0.079079,     0.08008,    0.081081,    0.082082,    0.083083,    0.084084,    0.085085,    0.086086,    0.087087,    0.088088,    0.089089,     0.09009,    0.091091,    0.092092,    0.093093,    0.094094,    0.095095,\n",
       "          0.096096,    0.097097,    0.098098,    0.099099,      0.1001,      0.1011,      0.1021,      0.1031,      0.1041,     0.10511,     0.10611,     0.10711,     0.10811,     0.10911,     0.11011,     0.11111,     0.11211,     0.11311,     0.11411,     0.11512,     0.11612,     0.11712,     0.11812,     0.11912,\n",
       "           0.12012,     0.12112,     0.12212,     0.12312,     0.12412,     0.12513,     0.12613,     0.12713,     0.12813,     0.12913,     0.13013,     0.13113,     0.13213,     0.13313,     0.13413,     0.13514,     0.13614,     0.13714,     0.13814,     0.13914,     0.14014,     0.14114,     0.14214,     0.14314,\n",
       "           0.14414,     0.14515,     0.14615,     0.14715,     0.14815,     0.14915,     0.15015,     0.15115,     0.15215,     0.15315,     0.15415,     0.15516,     0.15616,     0.15716,     0.15816,     0.15916,     0.16016,     0.16116,     0.16216,     0.16316,     0.16416,     0.16517,     0.16617,     0.16717,\n",
       "           0.16817,     0.16917,     0.17017,     0.17117,     0.17217,     0.17317,     0.17417,     0.17518,     0.17618,     0.17718,     0.17818,     0.17918,     0.18018,     0.18118,     0.18218,     0.18318,     0.18418,     0.18519,     0.18619,     0.18719,     0.18819,     0.18919,     0.19019,     0.19119,\n",
       "           0.19219,     0.19319,     0.19419,      0.1952,      0.1962,      0.1972,      0.1982,      0.1992,      0.2002,      0.2012,      0.2022,      0.2032,      0.2042,     0.20521,     0.20621,     0.20721,     0.20821,     0.20921,     0.21021,     0.21121,     0.21221,     0.21321,     0.21421,     0.21522,\n",
       "           0.21622,     0.21722,     0.21822,     0.21922,     0.22022,     0.22122,     0.22222,     0.22322,     0.22422,     0.22523,     0.22623,     0.22723,     0.22823,     0.22923,     0.23023,     0.23123,     0.23223,     0.23323,     0.23423,     0.23524,     0.23624,     0.23724,     0.23824,     0.23924,\n",
       "           0.24024,     0.24124,     0.24224,     0.24324,     0.24424,     0.24525,     0.24625,     0.24725,     0.24825,     0.24925,     0.25025,     0.25125,     0.25225,     0.25325,     0.25425,     0.25526,     0.25626,     0.25726,     0.25826,     0.25926,     0.26026,     0.26126,     0.26226,     0.26326,\n",
       "           0.26426,     0.26527,     0.26627,     0.26727,     0.26827,     0.26927,     0.27027,     0.27127,     0.27227,     0.27327,     0.27427,     0.27528,     0.27628,     0.27728,     0.27828,     0.27928,     0.28028,     0.28128,     0.28228,     0.28328,     0.28428,     0.28529,     0.28629,     0.28729,\n",
       "           0.28829,     0.28929,     0.29029,     0.29129,     0.29229,     0.29329,     0.29429,      0.2953,      0.2963,      0.2973,      0.2983,      0.2993,      0.3003,      0.3013,      0.3023,      0.3033,      0.3043,     0.30531,     0.30631,     0.30731,     0.30831,     0.30931,     0.31031,     0.31131,\n",
       "           0.31231,     0.31331,     0.31431,     0.31532,     0.31632,     0.31732,     0.31832,     0.31932,     0.32032,     0.32132,     0.32232,     0.32332,     0.32432,     0.32533,     0.32633,     0.32733,     0.32833,     0.32933,     0.33033,     0.33133,     0.33233,     0.33333,     0.33433,     0.33534,\n",
       "           0.33634,     0.33734,     0.33834,     0.33934,     0.34034,     0.34134,     0.34234,     0.34334,     0.34434,     0.34535,     0.34635,     0.34735,     0.34835,     0.34935,     0.35035,     0.35135,     0.35235,     0.35335,     0.35435,     0.35536,     0.35636,     0.35736,     0.35836,     0.35936,\n",
       "           0.36036,     0.36136,     0.36236,     0.36336,     0.36436,     0.36537,     0.36637,     0.36737,     0.36837,     0.36937,     0.37037,     0.37137,     0.37237,     0.37337,     0.37437,     0.37538,     0.37638,     0.37738,     0.37838,     0.37938,     0.38038,     0.38138,     0.38238,     0.38338,\n",
       "           0.38438,     0.38539,     0.38639,     0.38739,     0.38839,     0.38939,     0.39039,     0.39139,     0.39239,     0.39339,     0.39439,      0.3954,      0.3964,      0.3974,      0.3984,      0.3994,      0.4004,      0.4014,      0.4024,      0.4034,      0.4044,     0.40541,     0.40641,     0.40741,\n",
       "           0.40841,     0.40941,     0.41041,     0.41141,     0.41241,     0.41341,     0.41441,     0.41542,     0.41642,     0.41742,     0.41842,     0.41942,     0.42042,     0.42142,     0.42242,     0.42342,     0.42442,     0.42543,     0.42643,     0.42743,     0.42843,     0.42943,     0.43043,     0.43143,\n",
       "           0.43243,     0.43343,     0.43443,     0.43544,     0.43644,     0.43744,     0.43844,     0.43944,     0.44044,     0.44144,     0.44244,     0.44344,     0.44444,     0.44545,     0.44645,     0.44745,     0.44845,     0.44945,     0.45045,     0.45145,     0.45245,     0.45345,     0.45445,     0.45546,\n",
       "           0.45646,     0.45746,     0.45846,     0.45946,     0.46046,     0.46146,     0.46246,     0.46346,     0.46446,     0.46547,     0.46647,     0.46747,     0.46847,     0.46947,     0.47047,     0.47147,     0.47247,     0.47347,     0.47447,     0.47548,     0.47648,     0.47748,     0.47848,     0.47948,\n",
       "           0.48048,     0.48148,     0.48248,     0.48348,     0.48448,     0.48549,     0.48649,     0.48749,     0.48849,     0.48949,     0.49049,     0.49149,     0.49249,     0.49349,     0.49449,      0.4955,      0.4965,      0.4975,      0.4985,      0.4995,      0.5005,      0.5015,      0.5025,      0.5035,\n",
       "            0.5045,     0.50551,     0.50651,     0.50751,     0.50851,     0.50951,     0.51051,     0.51151,     0.51251,     0.51351,     0.51451,     0.51552,     0.51652,     0.51752,     0.51852,     0.51952,     0.52052,     0.52152,     0.52252,     0.52352,     0.52452,     0.52553,     0.52653,     0.52753,\n",
       "           0.52853,     0.52953,     0.53053,     0.53153,     0.53253,     0.53353,     0.53453,     0.53554,     0.53654,     0.53754,     0.53854,     0.53954,     0.54054,     0.54154,     0.54254,     0.54354,     0.54454,     0.54555,     0.54655,     0.54755,     0.54855,     0.54955,     0.55055,     0.55155,\n",
       "           0.55255,     0.55355,     0.55455,     0.55556,     0.55656,     0.55756,     0.55856,     0.55956,     0.56056,     0.56156,     0.56256,     0.56356,     0.56456,     0.56557,     0.56657,     0.56757,     0.56857,     0.56957,     0.57057,     0.57157,     0.57257,     0.57357,     0.57457,     0.57558,\n",
       "           0.57658,     0.57758,     0.57858,     0.57958,     0.58058,     0.58158,     0.58258,     0.58358,     0.58458,     0.58559,     0.58659,     0.58759,     0.58859,     0.58959,     0.59059,     0.59159,     0.59259,     0.59359,     0.59459,      0.5956,      0.5966,      0.5976,      0.5986,      0.5996,\n",
       "            0.6006,      0.6016,      0.6026,      0.6036,      0.6046,     0.60561,     0.60661,     0.60761,     0.60861,     0.60961,     0.61061,     0.61161,     0.61261,     0.61361,     0.61461,     0.61562,     0.61662,     0.61762,     0.61862,     0.61962,     0.62062,     0.62162,     0.62262,     0.62362,\n",
       "           0.62462,     0.62563,     0.62663,     0.62763,     0.62863,     0.62963,     0.63063,     0.63163,     0.63263,     0.63363,     0.63463,     0.63564,     0.63664,     0.63764,     0.63864,     0.63964,     0.64064,     0.64164,     0.64264,     0.64364,     0.64464,     0.64565,     0.64665,     0.64765,\n",
       "           0.64865,     0.64965,     0.65065,     0.65165,     0.65265,     0.65365,     0.65465,     0.65566,     0.65666,     0.65766,     0.65866,     0.65966,     0.66066,     0.66166,     0.66266,     0.66366,     0.66466,     0.66567,     0.66667,     0.66767,     0.66867,     0.66967,     0.67067,     0.67167,\n",
       "           0.67267,     0.67367,     0.67467,     0.67568,     0.67668,     0.67768,     0.67868,     0.67968,     0.68068,     0.68168,     0.68268,     0.68368,     0.68468,     0.68569,     0.68669,     0.68769,     0.68869,     0.68969,     0.69069,     0.69169,     0.69269,     0.69369,     0.69469,      0.6957,\n",
       "            0.6967,      0.6977,      0.6987,      0.6997,      0.7007,      0.7017,      0.7027,      0.7037,      0.7047,     0.70571,     0.70671,     0.70771,     0.70871,     0.70971,     0.71071,     0.71171,     0.71271,     0.71371,     0.71471,     0.71572,     0.71672,     0.71772,     0.71872,     0.71972,\n",
       "           0.72072,     0.72172,     0.72272,     0.72372,     0.72472,     0.72573,     0.72673,     0.72773,     0.72873,     0.72973,     0.73073,     0.73173,     0.73273,     0.73373,     0.73473,     0.73574,     0.73674,     0.73774,     0.73874,     0.73974,     0.74074,     0.74174,     0.74274,     0.74374,\n",
       "           0.74474,     0.74575,     0.74675,     0.74775,     0.74875,     0.74975,     0.75075,     0.75175,     0.75275,     0.75375,     0.75475,     0.75576,     0.75676,     0.75776,     0.75876,     0.75976,     0.76076,     0.76176,     0.76276,     0.76376,     0.76476,     0.76577,     0.76677,     0.76777,\n",
       "           0.76877,     0.76977,     0.77077,     0.77177,     0.77277,     0.77377,     0.77477,     0.77578,     0.77678,     0.77778,     0.77878,     0.77978,     0.78078,     0.78178,     0.78278,     0.78378,     0.78478,     0.78579,     0.78679,     0.78779,     0.78879,     0.78979,     0.79079,     0.79179,\n",
       "           0.79279,     0.79379,     0.79479,      0.7958,      0.7968,      0.7978,      0.7988,      0.7998,      0.8008,      0.8018,      0.8028,      0.8038,      0.8048,     0.80581,     0.80681,     0.80781,     0.80881,     0.80981,     0.81081,     0.81181,     0.81281,     0.81381,     0.81481,     0.81582,\n",
       "           0.81682,     0.81782,     0.81882,     0.81982,     0.82082,     0.82182,     0.82282,     0.82382,     0.82482,     0.82583,     0.82683,     0.82783,     0.82883,     0.82983,     0.83083,     0.83183,     0.83283,     0.83383,     0.83483,     0.83584,     0.83684,     0.83784,     0.83884,     0.83984,\n",
       "           0.84084,     0.84184,     0.84284,     0.84384,     0.84484,     0.84585,     0.84685,     0.84785,     0.84885,     0.84985,     0.85085,     0.85185,     0.85285,     0.85385,     0.85485,     0.85586,     0.85686,     0.85786,     0.85886,     0.85986,     0.86086,     0.86186,     0.86286,     0.86386,\n",
       "           0.86486,     0.86587,     0.86687,     0.86787,     0.86887,     0.86987,     0.87087,     0.87187,     0.87287,     0.87387,     0.87487,     0.87588,     0.87688,     0.87788,     0.87888,     0.87988,     0.88088,     0.88188,     0.88288,     0.88388,     0.88488,     0.88589,     0.88689,     0.88789,\n",
       "           0.88889,     0.88989,     0.89089,     0.89189,     0.89289,     0.89389,     0.89489,      0.8959,      0.8969,      0.8979,      0.8989,      0.8999,      0.9009,      0.9019,      0.9029,      0.9039,      0.9049,     0.90591,     0.90691,     0.90791,     0.90891,     0.90991,     0.91091,     0.91191,\n",
       "           0.91291,     0.91391,     0.91491,     0.91592,     0.91692,     0.91792,     0.91892,     0.91992,     0.92092,     0.92192,     0.92292,     0.92392,     0.92492,     0.92593,     0.92693,     0.92793,     0.92893,     0.92993,     0.93093,     0.93193,     0.93293,     0.93393,     0.93493,     0.93594,\n",
       "           0.93694,     0.93794,     0.93894,     0.93994,     0.94094,     0.94194,     0.94294,     0.94394,     0.94494,     0.94595,     0.94695,     0.94795,     0.94895,     0.94995,     0.95095,     0.95195,     0.95295,     0.95395,     0.95495,     0.95596,     0.95696,     0.95796,     0.95896,     0.95996,\n",
       "           0.96096,     0.96196,     0.96296,     0.96396,     0.96496,     0.96597,     0.96697,     0.96797,     0.96897,     0.96997,     0.97097,     0.97197,     0.97297,     0.97397,     0.97497,     0.97598,     0.97698,     0.97798,     0.97898,     0.97998,     0.98098,     0.98198,     0.98298,     0.98398,\n",
       "           0.98498,     0.98599,     0.98699,     0.98799,     0.98899,     0.98999,     0.99099,     0.99199,     0.99299,     0.99399,     0.99499,       0.996,       0.997,       0.998,       0.999,           1]), array([[   0.043333,    0.043333,    0.049285,    0.074878,     0.11016,      0.1461,     0.17392,      0.2007,     0.22476,     0.23997,     0.25229,     0.26684,     0.27709,     0.28867,      0.3035,     0.31236,     0.31823,     0.32512,     0.33563,     0.34409,     0.35113,     0.35864,     0.35985,\n",
       "            0.36581,      0.3756,     0.38131,     0.38938,     0.39638,     0.40021,     0.40742,     0.41053,     0.41511,     0.42677,     0.43083,     0.43539,     0.43878,     0.44532,     0.45025,     0.45815,      0.4614,     0.46347,     0.46566,     0.46784,     0.46968,     0.47469,     0.48084,\n",
       "            0.48176,     0.48397,     0.48747,     0.49075,     0.49335,     0.49696,     0.50144,     0.51094,      0.5126,     0.51372,     0.51555,     0.51667,     0.51645,     0.51756,     0.51881,     0.51987,     0.52424,     0.52862,     0.53217,     0.53376,     0.53682,     0.53753,     0.53819,\n",
       "            0.53901,     0.53999,     0.54412,     0.54559,     0.54636,     0.54779,     0.54916,     0.55047,     0.55395,     0.55538,     0.55887,     0.56084,      0.5659,     0.56861,      0.5724,     0.57477,     0.57717,     0.57796,     0.57885,     0.57999,     0.57983,     0.57951,     0.57919,\n",
       "            0.57939,     0.58109,     0.58336,     0.58321,     0.58275,     0.58409,     0.58486,     0.58553,     0.58795,     0.59055,     0.59339,     0.59445,     0.59507,     0.59569,      0.5963,     0.59691,     0.59752,     0.59866,     0.60116,     0.60266,     0.60354,     0.60429,     0.60524,\n",
       "            0.60635,     0.60852,     0.61228,     0.61456,     0.61574,     0.61642,      0.6171,     0.61848,     0.61949,     0.62019,      0.6209,     0.62153,     0.62217,     0.62479,     0.62682,     0.62823,     0.62893,     0.62953,     0.63013,     0.63426,      0.6354,     0.63637,      0.6371,\n",
       "            0.63783,     0.63994,     0.64076,     0.64153,     0.64368,      0.6471,     0.64825,     0.64885,     0.64944,     0.65022,     0.65449,     0.65519,      0.6559,     0.65751,     0.66092,     0.66324,     0.66443,     0.66338,     0.66269,     0.66294,     0.66397,     0.66466,     0.66497,\n",
       "            0.66528,     0.66559,      0.6659,     0.66621,     0.66652,     0.66685,     0.66722,     0.66758,     0.66794,      0.6683,     0.66866,      0.6683,     0.67015,     0.67064,     0.67112,     0.67161,      0.6721,     0.67302,     0.67397,     0.67483,     0.67562,     0.67642,     0.67645,\n",
       "             0.6763,     0.67615,       0.676,     0.67585,      0.6757,     0.67555,     0.67994,     0.67951,     0.67907,     0.67921,     0.67962,     0.68002,     0.68043,     0.68083,     0.68119,     0.68094,     0.68069,     0.68043,     0.68018,     0.68152,     0.68264,      0.6831,     0.68355,\n",
       "              0.684,     0.68445,     0.68541,     0.68738,     0.68938,     0.68913,     0.68888,     0.68863,     0.68839,     0.68991,     0.69088,     0.69118,     0.69147,     0.69177,     0.69207,     0.69236,     0.69266,     0.69295,     0.69328,     0.69363,     0.69398,     0.69433,     0.69468,\n",
       "            0.69503,     0.69538,     0.69616,     0.69715,     0.69817,     0.69927,     0.70038,     0.70138,     0.70239,     0.70479,     0.70629,     0.70749,     0.71279,     0.71314,     0.71349,     0.71384,      0.7142,     0.71455,      0.7149,     0.71525,     0.71429,     0.71517,     0.71604,\n",
       "            0.71699,     0.71875,     0.72052,      0.7222,      0.7234,     0.72459,     0.72528,     0.72596,     0.72663,      0.7272,     0.72687,     0.72868,     0.72973,     0.73064,     0.73156,     0.73265,     0.73376,     0.73466,     0.73536,     0.73606,     0.73675,     0.73778,     0.73902,\n",
       "            0.74318,     0.74481,     0.74664,     0.74731,     0.74792,     0.74853,     0.74914,     0.74975,     0.75023,     0.75062,     0.75101,      0.7514,     0.75179,     0.75218,     0.75257,     0.75339,     0.75536,     0.75554,     0.75532,     0.75509,     0.75486,       0.755,     0.75533,\n",
       "            0.75565,     0.75597,     0.75629,     0.75661,     0.75693,     0.75726,     0.75758,     0.75962,      0.7603,     0.75983,     0.76065,       0.762,     0.76392,     0.76573,     0.76607,     0.76641,     0.76675,      0.7671,     0.76744,     0.76778,     0.76812,     0.76846,     0.76824,\n",
       "            0.76813,     0.76951,     0.77074,     0.77066,     0.77057,     0.77049,      0.7704,     0.77032,     0.77023,     0.77015,     0.77006,     0.76998,     0.76989,      0.7699,     0.77007,     0.77024,     0.77041,     0.77058,     0.77075,     0.77092,     0.77109,     0.77126,     0.77143,\n",
       "             0.7716,     0.77177,     0.77194,     0.77211,     0.77228,     0.77245,     0.77262,     0.77279,     0.77394,     0.77619,     0.77672,     0.77725,     0.77778,     0.77832,     0.77885,      0.7804,     0.78201,     0.78173,     0.78292,      0.7841,      0.7844,     0.78416,     0.78392,\n",
       "            0.78368,     0.78395,     0.78425,     0.78454,     0.78483,     0.78513,     0.78542,     0.78571,       0.786,      0.7863,     0.78659,     0.78688,     0.78739,      0.7879,     0.78841,     0.78892,     0.78943,     0.78994,      0.7912,     0.79287,     0.79572,     0.79645,     0.79614,\n",
       "            0.79915,     0.79887,     0.79858,     0.79853,      0.8005,     0.80178,     0.80202,     0.80226,      0.8025,     0.80274,     0.80298,     0.80322,     0.80346,      0.8037,     0.80395,     0.80419,     0.80443,     0.80467,     0.80491,     0.80553,     0.80729,     0.80958,     0.81313,\n",
       "            0.81572,     0.81648,     0.81723,     0.81799,     0.81875,      0.8208,     0.82165,     0.82153,     0.82142,      0.8213,     0.82118,     0.82106,     0.82083,     0.82029,      0.8209,     0.82152,     0.82214,     0.82276,     0.82337,     0.82501,     0.82779,     0.82879,      0.8298,\n",
       "             0.8308,     0.83093,     0.83067,     0.83042,     0.83133,     0.83261,     0.83388,     0.83732,     0.83777,      0.8377,     0.83762,     0.83755,     0.83747,      0.8374,     0.83732,     0.83725,     0.83717,     0.84097,     0.84156,     0.84214,     0.84272,      0.8433,     0.84389,\n",
       "            0.84447,     0.84544,     0.84677,     0.84809,     0.84876,       0.849,     0.84924,     0.84947,     0.84971,     0.84994,     0.85018,     0.85042,     0.85065,     0.85089,     0.85112,     0.85136,     0.85159,     0.85183,     0.85207,      0.8523,     0.85254,     0.85305,     0.85355,\n",
       "            0.85406,     0.85456,     0.85507,     0.85557,     0.85608,     0.85662,      0.8573,     0.85798,     0.85866,     0.85934,     0.86003,     0.86119,     0.86325,     0.86616,     0.86827,     0.86803,     0.86826,      0.8685,     0.86873,     0.86897,      0.8692,     0.86944,     0.86967,\n",
       "             0.8699,     0.87014,     0.87037,     0.87061,     0.87084,     0.87108,     0.87131,     0.87154,     0.87178,     0.87201,     0.87523,     0.87955,     0.87978,     0.87976,     0.87973,     0.87971,     0.87969,     0.87966,     0.87964,     0.87961,     0.87959,     0.87956,     0.87954,\n",
       "            0.87951,     0.87949,     0.87946,     0.87944,     0.87941,     0.87939,     0.87936,     0.87934,     0.87931,     0.87929,     0.87926,     0.87924,     0.87915,       0.879,     0.87885,      0.8787,     0.88138,     0.88285,     0.88273,     0.88262,      0.8825,     0.88238,     0.88304,\n",
       "            0.88393,     0.88482,     0.88571,      0.8866,     0.88659,     0.88646,     0.88633,      0.8862,     0.88633,     0.88784,     0.88936,     0.88984,     0.88955,     0.88941,     0.88936,     0.88931,     0.88926,     0.88921,     0.88915,      0.8891,     0.88905,       0.889,     0.88895,\n",
       "            0.88889,     0.88937,     0.88992,     0.89046,     0.89101,     0.89155,     0.89209,     0.89264,     0.89318,     0.89323,     0.89296,     0.89274,     0.89342,     0.89409,     0.89476,     0.89544,     0.89611,     0.89679,     0.89646,     0.89799,      0.8999,     0.90083,     0.90104,\n",
       "            0.90226,     0.90347,     0.90469,     0.90523,     0.90517,     0.90511,     0.90505,     0.90499,     0.90493,     0.90487,     0.90481,     0.90499,     0.90598,     0.90697,     0.90795,     0.90894,     0.90949,     0.90924,     0.90906,     0.90898,     0.90891,     0.90883,     0.90875,\n",
       "            0.90867,     0.90873,     0.91074,     0.91276,     0.91669,     0.91931,      0.9206,     0.92189,     0.92317,     0.92347,     0.92343,     0.92339,     0.92335,     0.92331,     0.92327,     0.92323,     0.92319,     0.92315,     0.92312,     0.92309,     0.92378,     0.92448,     0.92518,\n",
       "            0.92588,     0.92657,     0.92727,     0.92797,     0.92965,     0.93177,     0.93286,     0.93254,     0.93238,     0.93223,     0.93212,     0.93202,     0.93192,     0.93182,     0.93818,     0.93929,     0.94039,      0.9415,     0.94251,     0.94219,     0.94214,     0.94209,     0.94203,\n",
       "            0.94198,     0.94193,     0.94187,     0.94169,     0.94147,     0.94129,     0.94245,     0.94625,     0.94646,     0.95162,     0.95168,     0.95197,     0.95296,     0.95395,     0.95494,     0.95593,     0.95692,      0.9573,     0.95727,     0.95724,     0.95721,     0.95718,     0.95715,\n",
       "            0.95712,     0.95709,     0.95706,       0.957,     0.95693,     0.95686,      0.9568,     0.95642,     0.95631,     0.95556,     0.95536,     0.95527,     0.95517,     0.95496,     0.95436,     0.95362,      0.9535,     0.95337,     0.95434,     0.95623,     0.95811,      0.9655,     0.96543,\n",
       "            0.96536,     0.96529,     0.96513,     0.96501,     0.96495,     0.96488,     0.96482,     0.96475,     0.96466,     0.96457,     0.96439,     0.96422,     0.96412,     0.96442,     0.96681,     0.96919,     0.97098,     0.97084,     0.97053,     0.97046,     0.97038,     0.97289,     0.97585,\n",
       "            0.97756,     0.97745,     0.97728,     0.97716,     0.97704,     0.97674,     0.97672,     0.97669,     0.97667,     0.97664,     0.97662,     0.97659,     0.97657,     0.97647,     0.97633,     0.97589,     0.97558,     0.97554,      0.9755,     0.97545,     0.97541,     0.97528,     0.97517,\n",
       "            0.97508,       0.975,     0.97496,     0.97491,     0.97487,     0.97483,     0.97478,     0.97472,     0.97466,     0.97459,     0.97425,     0.97402,     0.97386,     0.97379,     0.97373,     0.97496,     0.97849,     0.98202,     0.98215,       0.985,     0.98803,     0.99099,     0.99093,\n",
       "            0.99089,     0.99086,     0.99081,     0.99068,     0.99062,     0.99058,           1,           1,           1,           1,           1,           1,           1,           1,           1,           1,           1,           1,           1,           1,           1,           1,           1,\n",
       "                  1,           1,           1,           1,           1,           1,           1,           1,           1,           1,           1,           1,           1,           1,           1,           1,           1,           1,           1,           1,           1,           1,           1,\n",
       "                  1,           1,           1,           1,           1,           1,           1,           1,           1,           1,           1,           1,           1,           1,           1,           1,           1,           1,           1,           1,           1,           1,           1,\n",
       "                  1,           1,           1,           1,           1,           1,           1,           1,           1,           1,           1,           1,           1,           1,           1,           1,           1,           1,           1,           1,           1,           1,           1,\n",
       "                  1,           1,           1,           1,           1,           1,           1,           1,           1,           1,           1,           1,           1,           1,           1,           1,           1,           1,           1,           1,           1,           1,           1,\n",
       "                  1,           1,           1,           1,           1,           1,           1,           1,           1,           1,           1,           1,           1,           1,           1,           1,           1,           1,           1,           1,           1,           1,           1,\n",
       "                  1,           1,           1,           1,           1,           1,           1,           1,           1,           1,           1,           1,           1,           1,           1,           1,           1,           1,           1,           1,           1,           1,           1,\n",
       "                  1,           1,           1,           1,           1,           1,           1,           1,           1,           1,           1,           1,           1,           1,           1,           1,           1,           1,           1,           1,           1,           1,           1,\n",
       "                  1,           1,           1,           1,           1,           1,           1,           1,           1,           1,           1,           1,           1,           1,           1,           1,           1,           1,           1,           1,           1,           1,           1,\n",
       "                  1,           1,           1,           1,           1,           1,           1,           1,           1,           1,           1]]), 'Confidence', 'Precision'], [array([          0,    0.001001,    0.002002,    0.003003,    0.004004,    0.005005,    0.006006,    0.007007,    0.008008,    0.009009,     0.01001,    0.011011,    0.012012,    0.013013,    0.014014,    0.015015,    0.016016,    0.017017,    0.018018,    0.019019,     0.02002,    0.021021,    0.022022,    0.023023,\n",
       "          0.024024,    0.025025,    0.026026,    0.027027,    0.028028,    0.029029,     0.03003,    0.031031,    0.032032,    0.033033,    0.034034,    0.035035,    0.036036,    0.037037,    0.038038,    0.039039,     0.04004,    0.041041,    0.042042,    0.043043,    0.044044,    0.045045,    0.046046,    0.047047,\n",
       "          0.048048,    0.049049,     0.05005,    0.051051,    0.052052,    0.053053,    0.054054,    0.055055,    0.056056,    0.057057,    0.058058,    0.059059,     0.06006,    0.061061,    0.062062,    0.063063,    0.064064,    0.065065,    0.066066,    0.067067,    0.068068,    0.069069,     0.07007,    0.071071,\n",
       "          0.072072,    0.073073,    0.074074,    0.075075,    0.076076,    0.077077,    0.078078,    0.079079,     0.08008,    0.081081,    0.082082,    0.083083,    0.084084,    0.085085,    0.086086,    0.087087,    0.088088,    0.089089,     0.09009,    0.091091,    0.092092,    0.093093,    0.094094,    0.095095,\n",
       "          0.096096,    0.097097,    0.098098,    0.099099,      0.1001,      0.1011,      0.1021,      0.1031,      0.1041,     0.10511,     0.10611,     0.10711,     0.10811,     0.10911,     0.11011,     0.11111,     0.11211,     0.11311,     0.11411,     0.11512,     0.11612,     0.11712,     0.11812,     0.11912,\n",
       "           0.12012,     0.12112,     0.12212,     0.12312,     0.12412,     0.12513,     0.12613,     0.12713,     0.12813,     0.12913,     0.13013,     0.13113,     0.13213,     0.13313,     0.13413,     0.13514,     0.13614,     0.13714,     0.13814,     0.13914,     0.14014,     0.14114,     0.14214,     0.14314,\n",
       "           0.14414,     0.14515,     0.14615,     0.14715,     0.14815,     0.14915,     0.15015,     0.15115,     0.15215,     0.15315,     0.15415,     0.15516,     0.15616,     0.15716,     0.15816,     0.15916,     0.16016,     0.16116,     0.16216,     0.16316,     0.16416,     0.16517,     0.16617,     0.16717,\n",
       "           0.16817,     0.16917,     0.17017,     0.17117,     0.17217,     0.17317,     0.17417,     0.17518,     0.17618,     0.17718,     0.17818,     0.17918,     0.18018,     0.18118,     0.18218,     0.18318,     0.18418,     0.18519,     0.18619,     0.18719,     0.18819,     0.18919,     0.19019,     0.19119,\n",
       "           0.19219,     0.19319,     0.19419,      0.1952,      0.1962,      0.1972,      0.1982,      0.1992,      0.2002,      0.2012,      0.2022,      0.2032,      0.2042,     0.20521,     0.20621,     0.20721,     0.20821,     0.20921,     0.21021,     0.21121,     0.21221,     0.21321,     0.21421,     0.21522,\n",
       "           0.21622,     0.21722,     0.21822,     0.21922,     0.22022,     0.22122,     0.22222,     0.22322,     0.22422,     0.22523,     0.22623,     0.22723,     0.22823,     0.22923,     0.23023,     0.23123,     0.23223,     0.23323,     0.23423,     0.23524,     0.23624,     0.23724,     0.23824,     0.23924,\n",
       "           0.24024,     0.24124,     0.24224,     0.24324,     0.24424,     0.24525,     0.24625,     0.24725,     0.24825,     0.24925,     0.25025,     0.25125,     0.25225,     0.25325,     0.25425,     0.25526,     0.25626,     0.25726,     0.25826,     0.25926,     0.26026,     0.26126,     0.26226,     0.26326,\n",
       "           0.26426,     0.26527,     0.26627,     0.26727,     0.26827,     0.26927,     0.27027,     0.27127,     0.27227,     0.27327,     0.27427,     0.27528,     0.27628,     0.27728,     0.27828,     0.27928,     0.28028,     0.28128,     0.28228,     0.28328,     0.28428,     0.28529,     0.28629,     0.28729,\n",
       "           0.28829,     0.28929,     0.29029,     0.29129,     0.29229,     0.29329,     0.29429,      0.2953,      0.2963,      0.2973,      0.2983,      0.2993,      0.3003,      0.3013,      0.3023,      0.3033,      0.3043,     0.30531,     0.30631,     0.30731,     0.30831,     0.30931,     0.31031,     0.31131,\n",
       "           0.31231,     0.31331,     0.31431,     0.31532,     0.31632,     0.31732,     0.31832,     0.31932,     0.32032,     0.32132,     0.32232,     0.32332,     0.32432,     0.32533,     0.32633,     0.32733,     0.32833,     0.32933,     0.33033,     0.33133,     0.33233,     0.33333,     0.33433,     0.33534,\n",
       "           0.33634,     0.33734,     0.33834,     0.33934,     0.34034,     0.34134,     0.34234,     0.34334,     0.34434,     0.34535,     0.34635,     0.34735,     0.34835,     0.34935,     0.35035,     0.35135,     0.35235,     0.35335,     0.35435,     0.35536,     0.35636,     0.35736,     0.35836,     0.35936,\n",
       "           0.36036,     0.36136,     0.36236,     0.36336,     0.36436,     0.36537,     0.36637,     0.36737,     0.36837,     0.36937,     0.37037,     0.37137,     0.37237,     0.37337,     0.37437,     0.37538,     0.37638,     0.37738,     0.37838,     0.37938,     0.38038,     0.38138,     0.38238,     0.38338,\n",
       "           0.38438,     0.38539,     0.38639,     0.38739,     0.38839,     0.38939,     0.39039,     0.39139,     0.39239,     0.39339,     0.39439,      0.3954,      0.3964,      0.3974,      0.3984,      0.3994,      0.4004,      0.4014,      0.4024,      0.4034,      0.4044,     0.40541,     0.40641,     0.40741,\n",
       "           0.40841,     0.40941,     0.41041,     0.41141,     0.41241,     0.41341,     0.41441,     0.41542,     0.41642,     0.41742,     0.41842,     0.41942,     0.42042,     0.42142,     0.42242,     0.42342,     0.42442,     0.42543,     0.42643,     0.42743,     0.42843,     0.42943,     0.43043,     0.43143,\n",
       "           0.43243,     0.43343,     0.43443,     0.43544,     0.43644,     0.43744,     0.43844,     0.43944,     0.44044,     0.44144,     0.44244,     0.44344,     0.44444,     0.44545,     0.44645,     0.44745,     0.44845,     0.44945,     0.45045,     0.45145,     0.45245,     0.45345,     0.45445,     0.45546,\n",
       "           0.45646,     0.45746,     0.45846,     0.45946,     0.46046,     0.46146,     0.46246,     0.46346,     0.46446,     0.46547,     0.46647,     0.46747,     0.46847,     0.46947,     0.47047,     0.47147,     0.47247,     0.47347,     0.47447,     0.47548,     0.47648,     0.47748,     0.47848,     0.47948,\n",
       "           0.48048,     0.48148,     0.48248,     0.48348,     0.48448,     0.48549,     0.48649,     0.48749,     0.48849,     0.48949,     0.49049,     0.49149,     0.49249,     0.49349,     0.49449,      0.4955,      0.4965,      0.4975,      0.4985,      0.4995,      0.5005,      0.5015,      0.5025,      0.5035,\n",
       "            0.5045,     0.50551,     0.50651,     0.50751,     0.50851,     0.50951,     0.51051,     0.51151,     0.51251,     0.51351,     0.51451,     0.51552,     0.51652,     0.51752,     0.51852,     0.51952,     0.52052,     0.52152,     0.52252,     0.52352,     0.52452,     0.52553,     0.52653,     0.52753,\n",
       "           0.52853,     0.52953,     0.53053,     0.53153,     0.53253,     0.53353,     0.53453,     0.53554,     0.53654,     0.53754,     0.53854,     0.53954,     0.54054,     0.54154,     0.54254,     0.54354,     0.54454,     0.54555,     0.54655,     0.54755,     0.54855,     0.54955,     0.55055,     0.55155,\n",
       "           0.55255,     0.55355,     0.55455,     0.55556,     0.55656,     0.55756,     0.55856,     0.55956,     0.56056,     0.56156,     0.56256,     0.56356,     0.56456,     0.56557,     0.56657,     0.56757,     0.56857,     0.56957,     0.57057,     0.57157,     0.57257,     0.57357,     0.57457,     0.57558,\n",
       "           0.57658,     0.57758,     0.57858,     0.57958,     0.58058,     0.58158,     0.58258,     0.58358,     0.58458,     0.58559,     0.58659,     0.58759,     0.58859,     0.58959,     0.59059,     0.59159,     0.59259,     0.59359,     0.59459,      0.5956,      0.5966,      0.5976,      0.5986,      0.5996,\n",
       "            0.6006,      0.6016,      0.6026,      0.6036,      0.6046,     0.60561,     0.60661,     0.60761,     0.60861,     0.60961,     0.61061,     0.61161,     0.61261,     0.61361,     0.61461,     0.61562,     0.61662,     0.61762,     0.61862,     0.61962,     0.62062,     0.62162,     0.62262,     0.62362,\n",
       "           0.62462,     0.62563,     0.62663,     0.62763,     0.62863,     0.62963,     0.63063,     0.63163,     0.63263,     0.63363,     0.63463,     0.63564,     0.63664,     0.63764,     0.63864,     0.63964,     0.64064,     0.64164,     0.64264,     0.64364,     0.64464,     0.64565,     0.64665,     0.64765,\n",
       "           0.64865,     0.64965,     0.65065,     0.65165,     0.65265,     0.65365,     0.65465,     0.65566,     0.65666,     0.65766,     0.65866,     0.65966,     0.66066,     0.66166,     0.66266,     0.66366,     0.66466,     0.66567,     0.66667,     0.66767,     0.66867,     0.66967,     0.67067,     0.67167,\n",
       "           0.67267,     0.67367,     0.67467,     0.67568,     0.67668,     0.67768,     0.67868,     0.67968,     0.68068,     0.68168,     0.68268,     0.68368,     0.68468,     0.68569,     0.68669,     0.68769,     0.68869,     0.68969,     0.69069,     0.69169,     0.69269,     0.69369,     0.69469,      0.6957,\n",
       "            0.6967,      0.6977,      0.6987,      0.6997,      0.7007,      0.7017,      0.7027,      0.7037,      0.7047,     0.70571,     0.70671,     0.70771,     0.70871,     0.70971,     0.71071,     0.71171,     0.71271,     0.71371,     0.71471,     0.71572,     0.71672,     0.71772,     0.71872,     0.71972,\n",
       "           0.72072,     0.72172,     0.72272,     0.72372,     0.72472,     0.72573,     0.72673,     0.72773,     0.72873,     0.72973,     0.73073,     0.73173,     0.73273,     0.73373,     0.73473,     0.73574,     0.73674,     0.73774,     0.73874,     0.73974,     0.74074,     0.74174,     0.74274,     0.74374,\n",
       "           0.74474,     0.74575,     0.74675,     0.74775,     0.74875,     0.74975,     0.75075,     0.75175,     0.75275,     0.75375,     0.75475,     0.75576,     0.75676,     0.75776,     0.75876,     0.75976,     0.76076,     0.76176,     0.76276,     0.76376,     0.76476,     0.76577,     0.76677,     0.76777,\n",
       "           0.76877,     0.76977,     0.77077,     0.77177,     0.77277,     0.77377,     0.77477,     0.77578,     0.77678,     0.77778,     0.77878,     0.77978,     0.78078,     0.78178,     0.78278,     0.78378,     0.78478,     0.78579,     0.78679,     0.78779,     0.78879,     0.78979,     0.79079,     0.79179,\n",
       "           0.79279,     0.79379,     0.79479,      0.7958,      0.7968,      0.7978,      0.7988,      0.7998,      0.8008,      0.8018,      0.8028,      0.8038,      0.8048,     0.80581,     0.80681,     0.80781,     0.80881,     0.80981,     0.81081,     0.81181,     0.81281,     0.81381,     0.81481,     0.81582,\n",
       "           0.81682,     0.81782,     0.81882,     0.81982,     0.82082,     0.82182,     0.82282,     0.82382,     0.82482,     0.82583,     0.82683,     0.82783,     0.82883,     0.82983,     0.83083,     0.83183,     0.83283,     0.83383,     0.83483,     0.83584,     0.83684,     0.83784,     0.83884,     0.83984,\n",
       "           0.84084,     0.84184,     0.84284,     0.84384,     0.84484,     0.84585,     0.84685,     0.84785,     0.84885,     0.84985,     0.85085,     0.85185,     0.85285,     0.85385,     0.85485,     0.85586,     0.85686,     0.85786,     0.85886,     0.85986,     0.86086,     0.86186,     0.86286,     0.86386,\n",
       "           0.86486,     0.86587,     0.86687,     0.86787,     0.86887,     0.86987,     0.87087,     0.87187,     0.87287,     0.87387,     0.87487,     0.87588,     0.87688,     0.87788,     0.87888,     0.87988,     0.88088,     0.88188,     0.88288,     0.88388,     0.88488,     0.88589,     0.88689,     0.88789,\n",
       "           0.88889,     0.88989,     0.89089,     0.89189,     0.89289,     0.89389,     0.89489,      0.8959,      0.8969,      0.8979,      0.8989,      0.8999,      0.9009,      0.9019,      0.9029,      0.9039,      0.9049,     0.90591,     0.90691,     0.90791,     0.90891,     0.90991,     0.91091,     0.91191,\n",
       "           0.91291,     0.91391,     0.91491,     0.91592,     0.91692,     0.91792,     0.91892,     0.91992,     0.92092,     0.92192,     0.92292,     0.92392,     0.92492,     0.92593,     0.92693,     0.92793,     0.92893,     0.92993,     0.93093,     0.93193,     0.93293,     0.93393,     0.93493,     0.93594,\n",
       "           0.93694,     0.93794,     0.93894,     0.93994,     0.94094,     0.94194,     0.94294,     0.94394,     0.94494,     0.94595,     0.94695,     0.94795,     0.94895,     0.94995,     0.95095,     0.95195,     0.95295,     0.95395,     0.95495,     0.95596,     0.95696,     0.95796,     0.95896,     0.95996,\n",
       "           0.96096,     0.96196,     0.96296,     0.96396,     0.96496,     0.96597,     0.96697,     0.96797,     0.96897,     0.96997,     0.97097,     0.97197,     0.97297,     0.97397,     0.97497,     0.97598,     0.97698,     0.97798,     0.97898,     0.97998,     0.98098,     0.98198,     0.98298,     0.98398,\n",
       "           0.98498,     0.98599,     0.98699,     0.98799,     0.98899,     0.98999,     0.99099,     0.99199,     0.99299,     0.99399,     0.99499,       0.996,       0.997,       0.998,       0.999,           1]), array([[          1,           1,           1,     0.99548,     0.99548,     0.99548,     0.99548,     0.99548,     0.99548,     0.99548,     0.99548,     0.99548,     0.99548,     0.99548,     0.99548,     0.98867,     0.98643,      0.9819,      0.9819,      0.9819,      0.9819,     0.97738,     0.96833,\n",
       "            0.96833,     0.96833,     0.96833,     0.96833,     0.96833,     0.96833,     0.96443,      0.9638,      0.9638,      0.9638,      0.9638,      0.9638,      0.9638,      0.9638,      0.9638,      0.9638,      0.9638,      0.9638,      0.9638,      0.9638,      0.9638,      0.9638,      0.9638,\n",
       "             0.9638,      0.9638,      0.9638,     0.95928,     0.95928,     0.95928,     0.95928,     0.95928,     0.95928,     0.95928,     0.95928,     0.95928,     0.95475,     0.95475,     0.95475,     0.95475,     0.95475,     0.95475,     0.95475,     0.95475,     0.95475,     0.95475,     0.95475,\n",
       "            0.95475,     0.95475,     0.95475,     0.95475,     0.95475,     0.95475,     0.95475,     0.95475,     0.95475,     0.95475,     0.95475,     0.95475,     0.95475,     0.95475,     0.95023,     0.95023,     0.95023,     0.95023,     0.95023,     0.95023,     0.94912,     0.94789,     0.94665,\n",
       "             0.9457,      0.9457,      0.9457,     0.94343,     0.94118,     0.94118,     0.94118,     0.94118,     0.94118,     0.94118,     0.94118,     0.94118,     0.94118,     0.94118,     0.94118,     0.94118,     0.94118,     0.94118,     0.94118,     0.94118,     0.94118,     0.94118,     0.94118,\n",
       "            0.94118,     0.94118,     0.94118,     0.94118,     0.94118,     0.94118,     0.94118,     0.94118,     0.94118,     0.94118,     0.94118,     0.94118,     0.94118,     0.94118,     0.94118,     0.94118,     0.94118,     0.94118,     0.94118,     0.94118,     0.94118,     0.94118,     0.94118,\n",
       "            0.94118,     0.94118,     0.94118,     0.94118,     0.94118,     0.94118,     0.94118,     0.94118,     0.94118,     0.94118,     0.94118,     0.94118,     0.94118,     0.94118,     0.94118,     0.94118,     0.94071,     0.93629,     0.93344,     0.93213,     0.93213,     0.93213,     0.93213,\n",
       "            0.93213,     0.93213,     0.93213,     0.93213,     0.93213,     0.93213,     0.93213,     0.93213,     0.93213,     0.93213,     0.93213,      0.9299,      0.9276,      0.9276,      0.9276,      0.9276,      0.9276,      0.9276,      0.9276,      0.9276,      0.9276,      0.9276,     0.92709,\n",
       "            0.92646,     0.92584,     0.92521,     0.92458,     0.92395,     0.92332,     0.92284,     0.92099,     0.91913,     0.91855,     0.91855,     0.91855,     0.91855,     0.91855,     0.91847,     0.91741,     0.91635,     0.91529,     0.91423,     0.91403,     0.91403,     0.91403,     0.91403,\n",
       "            0.91403,     0.91403,     0.91403,     0.91403,     0.91387,     0.91281,     0.91175,     0.91069,     0.90963,      0.9095,      0.9095,      0.9095,      0.9095,      0.9095,      0.9095,      0.9095,      0.9095,      0.9095,      0.9095,      0.9095,      0.9095,      0.9095,      0.9095,\n",
       "             0.9095,      0.9095,      0.9095,      0.9095,      0.9095,      0.9095,      0.9095,      0.9095,      0.9095,      0.9095,      0.9095,      0.9095,      0.9095,      0.9095,      0.9095,      0.9095,      0.9095,      0.9095,      0.9095,      0.9095,     0.90498,     0.90498,     0.90498,\n",
       "            0.90498,     0.90498,     0.90498,     0.90498,     0.90498,     0.90498,     0.90498,     0.90498,     0.90498,     0.90464,     0.90045,     0.90045,     0.90045,     0.90045,     0.90045,     0.90045,     0.90045,     0.90045,     0.90045,     0.90045,     0.90045,     0.90045,     0.90045,\n",
       "            0.90045,     0.90045,     0.90045,     0.89593,     0.89593,     0.89593,     0.89593,     0.89593,     0.89593,     0.89593,     0.89593,     0.89593,     0.89593,     0.89593,     0.89593,     0.89593,     0.89593,     0.89504,     0.89395,     0.89286,     0.89177,      0.8914,      0.8914,\n",
       "             0.8914,      0.8914,      0.8914,      0.8914,      0.8914,      0.8914,      0.8914,      0.8914,     0.88986,     0.88754,     0.88688,     0.88688,     0.88688,     0.88688,     0.88688,     0.88688,     0.88688,     0.88688,     0.88688,     0.88688,     0.88688,     0.88688,     0.88495,\n",
       "            0.88235,     0.88235,     0.88231,     0.88189,     0.88147,     0.88104,     0.88062,      0.8802,     0.87978,     0.87936,     0.87894,     0.87851,     0.87809,     0.87783,     0.87783,     0.87783,     0.87783,     0.87783,     0.87783,     0.87783,     0.87783,     0.87783,     0.87783,\n",
       "            0.87783,     0.87783,     0.87783,     0.87783,     0.87783,     0.87783,     0.87783,     0.87783,     0.87783,     0.87783,     0.87783,     0.87783,     0.87783,     0.87783,     0.87783,     0.87783,     0.87654,      0.8733,      0.8733,      0.8733,     0.87254,      0.8713,     0.87006,\n",
       "            0.86883,     0.86878,     0.86878,     0.86878,     0.86878,     0.86878,     0.86878,     0.86878,     0.86878,     0.86878,     0.86878,     0.86878,     0.86878,     0.86878,     0.86878,     0.86878,     0.86878,     0.86878,     0.86878,     0.86878,     0.86878,     0.86757,     0.86588,\n",
       "             0.8642,     0.86265,     0.86111,     0.85973,     0.85973,     0.85973,     0.85973,     0.85973,     0.85973,     0.85973,     0.85973,     0.85973,     0.85973,     0.85973,     0.85973,     0.85973,     0.85973,     0.85973,     0.85973,     0.85973,     0.85973,     0.85973,     0.85973,\n",
       "            0.85973,     0.85973,     0.85973,     0.85973,     0.85973,      0.8552,     0.85469,     0.85401,     0.85332,     0.85263,     0.85195,     0.85126,     0.84995,     0.84615,     0.84615,     0.84615,     0.84615,     0.84615,     0.84615,     0.84615,     0.84615,     0.84615,     0.84615,\n",
       "            0.84615,     0.84508,     0.84354,     0.84199,     0.84163,     0.84163,     0.84163,     0.84163,     0.84123,     0.84076,      0.8403,     0.83984,     0.83937,     0.83891,     0.83845,     0.83798,     0.83752,      0.8371,      0.8371,      0.8371,      0.8371,      0.8371,      0.8371,\n",
       "             0.8371,      0.8371,      0.8371,      0.8371,      0.8371,      0.8371,      0.8371,      0.8371,      0.8371,      0.8371,      0.8371,      0.8371,      0.8371,      0.8371,      0.8371,      0.8371,      0.8371,      0.8371,      0.8371,      0.8371,      0.8371,      0.8371,      0.8371,\n",
       "             0.8371,      0.8371,      0.8371,      0.8371,      0.8371,      0.8371,      0.8371,      0.8371,      0.8371,      0.8371,      0.8371,      0.8371,      0.8371,      0.8371,     0.83512,     0.83258,     0.83258,     0.83258,     0.83258,     0.83258,     0.83258,     0.83258,     0.83258,\n",
       "            0.83258,     0.83258,     0.83258,     0.83258,     0.83258,     0.83258,     0.83258,     0.83258,     0.83258,     0.83258,     0.82805,     0.82805,     0.82787,     0.82768,     0.82749,     0.82729,      0.8271,     0.82691,     0.82671,     0.82652,     0.82633,     0.82613,     0.82594,\n",
       "            0.82575,     0.82555,     0.82536,     0.82517,     0.82497,     0.82478,     0.82459,     0.82439,      0.8242,     0.82401,     0.82381,     0.82362,     0.82292,     0.82176,      0.8206,     0.81944,       0.819,      0.8184,     0.81748,     0.81655,     0.81562,     0.81469,     0.81448,\n",
       "            0.81448,     0.81448,     0.81448,     0.81448,     0.81356,     0.81253,      0.8115,     0.81047,     0.80543,     0.80543,     0.80543,      0.8041,     0.80178,     0.80064,     0.80022,      0.7998,     0.79938,     0.79896,     0.79853,     0.79811,     0.79769,     0.79727,     0.79685,\n",
       "            0.79643,     0.79638,     0.79638,     0.79638,     0.79638,     0.79638,     0.79638,     0.79638,     0.79638,     0.79499,     0.79267,     0.78733,     0.78733,     0.78733,     0.78733,     0.78733,     0.78733,     0.78733,     0.78353,     0.78281,     0.78281,     0.78093,     0.77828,\n",
       "            0.77828,     0.77828,     0.77828,     0.77799,     0.77745,      0.7769,     0.77636,     0.77581,     0.77526,     0.77472,     0.77417,     0.77376,     0.77376,     0.77376,     0.77376,     0.77376,     0.77293,     0.77061,     0.76894,     0.76823,     0.76751,      0.7668,     0.76609,\n",
       "            0.76537,     0.76471,     0.76471,     0.76471,     0.76471,     0.76471,     0.76471,     0.76471,     0.76471,     0.76439,     0.76397,     0.76355,     0.76313,      0.7627,     0.76228,     0.76186,     0.76144,     0.76102,      0.7606,     0.76018,     0.76018,     0.76018,     0.76018,\n",
       "            0.76018,     0.76018,     0.76018,     0.76018,     0.76018,     0.76018,     0.75445,      0.7506,     0.74875,     0.74689,     0.74563,     0.74447,     0.74331,     0.74215,     0.74208,     0.74208,     0.74208,     0.74208,     0.74178,     0.73749,     0.73678,     0.73607,     0.73535,\n",
       "            0.73464,     0.73393,     0.73321,     0.73072,     0.72785,     0.72553,     0.72398,     0.72398,     0.71995,     0.71946,     0.71293,     0.71041,     0.71041,     0.71041,     0.71041,     0.71041,     0.71041,      0.7101,     0.70958,     0.70907,     0.70855,     0.70804,     0.70752,\n",
       "              0.707,     0.70649,     0.70597,     0.70493,     0.70377,     0.70261,     0.70145,     0.69513,     0.69327,     0.68103,     0.67795,     0.67641,     0.67486,     0.67153,     0.66236,     0.65133,     0.64947,     0.64762,     0.64253,     0.64253,     0.64253,     0.63311,     0.63178,\n",
       "            0.63046,     0.62913,     0.62627,     0.62396,      0.6228,     0.62164,     0.62048,     0.61913,     0.61758,     0.61604,      0.6127,     0.60974,     0.60789,     0.60633,     0.60633,     0.60633,      0.6056,     0.60251,     0.59609,     0.59454,       0.593,     0.59276,     0.59276,\n",
       "             0.5915,     0.58841,     0.58385,     0.58071,     0.57762,     0.57011,     0.56949,     0.56887,     0.56825,     0.56764,     0.56702,      0.5664,     0.56578,     0.56337,     0.55987,     0.54938,     0.54225,     0.54132,     0.54039,     0.53946,     0.53853,     0.53561,     0.53309,\n",
       "            0.53123,     0.52939,     0.52847,     0.52754,     0.52661,     0.52568,      0.5247,     0.52338,     0.52205,     0.52072,     0.51359,     0.50888,     0.50576,     0.50444,     0.50311,     0.50226,     0.50226,     0.50226,     0.49799,     0.49774,     0.49774,     0.49768,     0.49459,\n",
       "            0.49218,     0.49033,     0.48761,     0.48125,     0.47812,      0.4758,     0.47462,      0.4723,     0.47028,     0.46912,     0.46796,      0.4668,     0.46523,     0.46291,     0.45606,     0.45374,     0.45178,     0.45023,     0.44869,     0.44632,      0.4428,     0.43622,     0.43299,\n",
       "            0.43067,     0.42413,     0.42227,      0.4111,     0.40801,     0.40027,     0.39675,      0.3949,     0.39314,      0.3916,     0.39005,     0.38819,     0.38587,     0.38036,     0.36879,     0.36642,     0.35744,     0.35682,      0.3562,     0.35558,     0.35496,     0.35435,     0.35373,\n",
       "            0.35311,     0.35125,     0.34893,     0.34336,      0.3415,     0.33965,     0.33543,     0.33079,     0.32503,     0.32317,     0.32132,     0.31676,     0.29845,     0.28712,     0.28046,      0.2793,     0.27814,     0.27698,     0.27447,     0.26992,      0.2676,     0.26528,     0.26296,\n",
       "            0.25432,     0.24187,     0.23825,     0.23417,     0.23108,     0.22799,      0.2222,     0.21613,     0.21381,     0.20808,     0.20499,      0.2019,      0.1988,     0.19571,     0.18809,     0.18022,     0.17469,     0.16868,     0.16234,     0.16002,     0.15569,     0.14641,     0.13644,\n",
       "            0.13312,     0.13002,     0.12693,     0.11813,     0.10872,     0.10409,     0.10176,    0.099122,     0.09416,    0.092614,    0.091068,    0.088546,     0.08575,    0.084425,      0.0831,    0.081775,    0.074593,    0.072014,    0.070689,    0.069363,    0.068038,    0.065166,    0.057549,\n",
       "           0.054457,    0.052832,    0.051286,    0.045181,    0.042089,    0.039688,    0.037832,    0.035644,    0.031591,    0.031011,    0.030431,    0.029851,    0.029272,    0.028692,    0.028112,    0.027532,      0.0261,    0.023008,    0.020593,    0.018274,    0.016874,    0.015549,    0.014224,\n",
       "           0.012983,    0.011823,    0.010664,   0.0095044,   0.0089245,   0.0087183,   0.0085122,    0.008306,   0.0080999,   0.0078938,   0.0076876,   0.0074815,   0.0072753,   0.0070692,   0.0068631,   0.0066569,   0.0064508,   0.0062447,   0.0060385,   0.0058324,   0.0056262,   0.0054201,    0.005214,\n",
       "          0.0050078,   0.0048017,   0.0045955,           0,           0,           0,           0,           0,           0,           0,           0,           0,           0,           0,           0,           0,           0,           0,           0,           0,           0,           0,           0,\n",
       "                  0,           0,           0,           0,           0,           0,           0,           0,           0,           0,           0,           0,           0,           0,           0,           0,           0,           0,           0,           0,           0,           0,           0,\n",
       "                  0,           0,           0,           0,           0,           0,           0,           0,           0,           0,           0]]), 'Confidence', 'Recall']]\n",
       "fitness: np.float64(0.6359020263361926)\n",
       "keys: ['metrics/precision(B)', 'metrics/recall(B)', 'metrics/mAP50(B)', 'metrics/mAP50-95(B)']\n",
       "maps: array([    0.60429])\n",
       "names: {0: 'box'}\n",
       "plot: True\n",
       "results_dict: {'metrics/precision(B)': np.float64(0.8717780544461916), 'metrics/recall(B)': np.float64(0.832579185520362), 'metrics/mAP50(B)': np.float64(0.9204439961565422), 'metrics/mAP50-95(B)': np.float64(0.6042862519117093), 'fitness': np.float64(0.6359020263361926)}\n",
       "save_dir: PosixPath('hackathon/20250227_1341184')\n",
       "speed: {'preprocess': 0.21042543299057906, 'inference': 4.060506820678711, 'loss': 0.0004067140467026654, 'postprocess': 0.7085940417121438}\n",
       "task: 'detect'"
      ]
     },
     "execution_count": 11,
     "metadata": {},
     "output_type": "execute_result"
    }
   ],
   "source": [
    "model.train(data=data_yaml_path, epochs=100, patience=5, imgsz=640, project=\"hackathon\", name=name)"
   ]
  },
  {
   "cell_type": "code",
   "execution_count": 3,
   "metadata": {},
   "outputs": [],
   "source": [
    "\n",
    "# Get the current notebook directory\n",
    "test_notebook_dir = \"/home/vinay/cargo-safety-v2/test_for_hack\"\n",
    "\n",
    "# Create an absolute path to your data.yaml file\n",
    "test_data_yaml_path = str(Path(os.path.join(test_notebook_dir, \"data.yaml\")).resolve())"
   ]
  },
  {
   "cell_type": "code",
   "execution_count": 4,
   "metadata": {},
   "outputs": [],
   "source": [
    "model = YOLO(\"/home/vinay/cargo-safety-v2/hackathon/20250227_1341184/weights/best.pt\")  # load a pretrained model"
   ]
  },
  {
   "cell_type": "code",
   "execution_count": 5,
   "metadata": {},
   "outputs": [
    {
     "name": "stdout",
     "output_type": "stream",
     "text": [
      "Ultralytics 8.3.49 🚀 Python-3.12.0 torch-2.5.1+cu124 CUDA:0 (NVIDIA GeForce GTX TITAN X, 12197MiB)\n"
     ]
    },
    {
     "name": "stdout",
     "output_type": "stream",
     "text": [
      "YOLO11n summary (fused): 238 layers, 2,582,347 parameters, 0 gradients, 6.3 GFLOPs\n"
     ]
    },
    {
     "name": "stderr",
     "output_type": "stream",
     "text": [
      "\u001b[34m\u001b[1mval: \u001b[0mScanning /home/vinay/cargo-safety-v2/test_for_hack/valid/labels.cache... 30 images, 1 backgrounds, 0 corrupt: 100%|██████████| 30/30 [00:00<?, ?it/s]\n",
      "                 Class     Images  Instances      Box(P          R      mAP50  mAP50-95): 100%|██████████| 2/2 [00:00<00:00,  4.38it/s]\n"
     ]
    },
    {
     "name": "stdout",
     "output_type": "stream",
     "text": [
      "                   all         30        410      0.692      0.793        0.8      0.501\n",
      "Speed: 1.5ms preprocess, 4.5ms inference, 0.0ms loss, 2.9ms postprocess per image\n",
      "Results saved to \u001b[1mruns/detect/val\u001b[0m\n"
     ]
    }
   ],
   "source": [
    "val_results = model.val(data=test_data_yaml_path)\n"
   ]
  },
  {
   "cell_type": "markdown",
   "metadata": {},
   "source": [
    "## R-CNN"
   ]
  },
  {
   "cell_type": "code",
   "execution_count": null,
   "metadata": {},
   "outputs": [],
   "source": [
    "import os\n",
    "import torch\n",
    "import torchvision\n",
    "from torchvision.models.detection import fasterrcnn_resnet50_fpn\n",
    "from torchvision.models.detection.faster_rcnn import FastRCNNPredictor\n",
    "import torchvision.transforms as transforms\n",
    "from torch.utils.data import DataLoader, Dataset\n",
    "from PIL import Image\n",
    "import numpy as np\n",
    "import matplotlib.pyplot as plt\n",
    "from pathlib import Path\n",
    "\n",
    "# Check if GPU is available\n",
    "device = torch.device('cuda' if torch.cuda.is_available() else 'cpu')\n",
    "print(f\"Using device: {device}\")\n",
    "\n",
    "# Function to create the Faster R-CNN model with ResNet-50 backbone\n",
    "def create_faster_rcnn_model(num_classes):\n",
    "    # Load a pre-trained Faster R-CNN model with ResNet-50 backbone\n",
    "    model = fasterrcnn_resnet50_fpn(weights='DEFAULT')\n",
    "    \n",
    "    # Get the number of input features for the classifier\n",
    "    in_features = model.roi_heads.box_predictor.cls_score.in_features\n",
    "    \n",
    "    # Replace the pre-trained head with a new one (that has num_classes)\n",
    "    model.roi_heads.box_predictor = FastRCNNPredictor(in_features, num_classes)\n",
    "    \n",
    "    return model\n",
    "\n",
    "# Create the model\n",
    "# num_classes should include the background class (so for 'box' class, num_classes=2)\n",
    "num_classes = 2  # Background + 'box'\n",
    "model = create_faster_rcnn_model(num_classes)\n",
    "model = model.to(device)\n",
    "\n",
    "print(\"Faster R-CNN model with ResNet-50 backbone created successfully!\")\n",
    "print(f\"Number of classes: {num_classes} (including background)\")"
   ]
  },
  {
   "cell_type": "code",
   "execution_count": null,
   "metadata": {},
   "outputs": [],
   "source": [
    "# Custom dataset class for object detection\n",
    "class BoxDetectionDataset(Dataset):\n",
    "    def __init__(self, root_dir, image_dir, transform=None):\n",
    "        self.root_dir = root_dir\n",
    "        self.image_dir = os.path.join(root_dir, image_dir)\n",
    "        self.transform = transform\n",
    "        self.image_files = [f for f in os.listdir(self.image_dir) if f.endswith(('.jpg', '.jpeg', '.png'))]\n",
    "        \n",
    "        # Get corresponding label files (assuming YOLO format)\n",
    "        self.label_dir = self.image_dir.replace('images', 'labels')\n",
    "        \n",
    "    def __len__(self):\n",
    "        return len(self.image_files)\n",
    "    \n",
    "    def __getitem__(self, idx):\n",
    "        # Load image\n",
    "        img_path = os.path.join(self.image_dir, self.image_files[idx])\n",
    "        image = Image.open(img_path).convert(\"RGB\")\n",
    "        image_id = torch.tensor([idx])\n",
    "        \n",
    "        # Get image dimensions\n",
    "        width, height = image.size\n",
    "        \n",
    "        # Load corresponding label file (YOLO format)\n",
    "        label_file = self.image_files[idx].replace('.jpg', '.txt').replace('.jpeg', '.txt').replace('.png', '.txt')\n",
    "        label_path = os.path.join(self.label_dir, label_file)\n",
    "        \n",
    "        boxes = []\n",
    "        labels = []\n",
    "        \n",
    "        if os.path.exists(label_path):\n",
    "            with open(label_path, 'r') as f:\n",
    "                for line in f.readlines():\n",
    "                    data = line.strip().split()\n",
    "                    class_id = int(data[0])\n",
    "                    # YOLO format: class_id, x_center, y_center, width, height (normalized)\n",
    "                    x_center = float(data[1]) * width\n",
    "                    y_center = float(data[2]) * height\n",
    "                    box_width = float(data[3]) * width\n",
    "                    box_height = float(data[4]) * height\n",
    "                    \n",
    "                    # Convert to [x_min, y_min, x_max, y_max] format for PyTorch\n",
    "                    x_min = x_center - box_width / 2\n",
    "                    y_min = y_center - box_height / 2\n",
    "                    x_max = x_center + box_width / 2\n",
    "                    y_max = y_center + box_height / 2\n",
    "                    \n",
    "                    boxes.append([x_min, y_min, x_max, y_max])\n",
    "                    labels.append(class_id + 1)  # +1 because 0 is background in Faster R-CNN\n",
    "        \n",
    "        # Convert to tensor\n",
    "        if boxes:\n",
    "            boxes = torch.as_tensor(boxes, dtype=torch.float32)\n",
    "            labels = torch.as_tensor(labels, dtype=torch.int64)\n",
    "        else:\n",
    "            # If no boxes, create empty tensors\n",
    "            boxes = torch.zeros((0, 4), dtype=torch.float32)\n",
    "            labels = torch.zeros((0,), dtype=torch.int64)\n",
    "        \n",
    "        # Create target dictionary\n",
    "        target = {}\n",
    "        target[\"boxes\"] = boxes\n",
    "        target[\"labels\"] = labels\n",
    "        target[\"image_id\"] = image_id\n",
    "        target[\"area\"] = (boxes[:, 3] - boxes[:, 1]) * (boxes[:, 2] - boxes[:, 0]) if len(boxes) > 0 else torch.tensor([])\n",
    "        target[\"iscrowd\"] = torch.zeros((len(boxes),), dtype=torch.int64)\n",
    "        \n",
    "        # Apply transformations\n",
    "        if self.transform:\n",
    "            image = self.transform(image)\n",
    "        \n",
    "        return image, target"
   ]
  },
  {
   "cell_type": "code",
   "execution_count": null,
   "metadata": {},
   "outputs": [],
   "source": [
    "# Set up data transformations\n",
    "data_transform = transforms.Compose([\n",
    "    transforms.ToTensor(),\n",
    "    transforms.Normalize(mean=[0.485, 0.456, 0.406], std=[0.229, 0.224, 0.225])\n",
    "])\n",
    "\n",
    "# Set the datasets_dir to the hack_data directory\n",
    "datasets_dir = os.path.join(os.getcwd(), \"hack_data\")\n",
    "\n",
    "# Create datasets\n",
    "train_dataset = BoxDetectionDataset(\n",
    "    root_dir=datasets_dir,\n",
    "    image_dir=\"../train/images\",\n",
    "    transform=data_transform\n",
    ")\n",
    "\n",
    "val_dataset = BoxDetectionDataset(\n",
    "    root_dir=datasets_dir,\n",
    "    image_dir=\"../valid/images\",\n",
    "    transform=data_transform\n",
    ")\n",
    "\n",
    "# Create data loaders\n",
    "train_loader = DataLoader(\n",
    "    train_dataset,\n",
    "    batch_size=2,\n",
    "    shuffle=True,\n",
    "    collate_fn=lambda batch: tuple(zip(*batch))  # Custom collate function for variable size images\n",
    ")\n",
    "\n",
    "val_loader = DataLoader(\n",
    "    val_dataset,\n",
    "    batch_size=1,\n",
    "    shuffle=False,\n",
    "    collate_fn=lambda batch: tuple(zip(*batch))\n",
    ")\n",
    "\n",
    "print(f\"Training dataset size: {len(train_dataset)}\")\n",
    "print(f\"Validation dataset size: {len(val_dataset)}\")"
   ]
  },
  {
   "cell_type": "code",
   "execution_count": null,
   "metadata": {},
   "outputs": [],
   "source": [
    "# Training function\n",
    "def train_model(model, train_loader, val_loader, optimizer, num_epochs=10):\n",
    "    # Set model to training mode\n",
    "    model.train()\n",
    "    \n",
    "    for epoch in range(num_epochs):\n",
    "        print(f\"Epoch {epoch+1}/{num_epochs}\")\n",
    "        print(\"-\" * 10)\n",
    "        \n",
    "        running_loss = 0.0\n",
    "        \n",
    "        # Training loop\n",
    "        for images, targets in train_loader:\n",
    "            images = list(image.to(device) for image in images)\n",
    "            targets = [{k: v.to(device) for k, v in t.items()} for t in targets]\n",
    "            \n",
    "            # Zero the parameter gradients\n",
    "            optimizer.zero_grad()\n",
    "            \n",
    "            # Forward pass\n",
    "            loss_dict = model(images, targets)\n",
    "            losses = sum(loss for loss in loss_dict.values())\n",
    "            \n",
    "            # Backward pass and optimize\n",
    "            losses.backward()\n",
    "            optimizer.step()\n",
    "            \n",
    "            running_loss += losses.item()\n",
    "        \n",
    "        epoch_loss = running_loss / len(train_loader)\n",
    "        print(f\"Training Loss: {epoch_loss:.4f}\")\n",
    "        \n",
    "        # Validation\n",
    "        model.eval()\n",
    "        val_loss = 0.0\n",
    "        \n",
    "        with torch.no_grad():\n",
    "            for images, targets in val_loader:\n",
    "                images = list(image.to(device) for image in images)\n",
    "                targets = [{k: v.to(device) for k, v in t.items()} for t in targets]\n",
    "                \n",
    "                loss_dict = model(images, targets)\n",
    "                losses = sum(loss for loss in loss_dict.values())\n",
    "                val_loss += losses.item()\n",
    "        \n",
    "        val_loss = val_loss / len(val_loader)\n",
    "        print(f\"Validation Loss: {val_loss:.4f}\")\n",
    "        \n",
    "        # Set back to training mode\n",
    "        model.train()\n",
    "    \n",
    "    return model\n",
    "\n",
    "# Set up optimizer\n",
    "params = [p for p in model.parameters() if p.requires_grad]\n",
    "optimizer = torch.optim.SGD(params, lr=0.005, momentum=0.9, weight_decay=0.0005)\n",
    "\n",
    "# Train the model\n",
    "num_epochs = 10\n",
    "trained_model = train_model(model, train_loader, val_loader, optimizer, num_epochs=num_epochs)\n",
    "\n",
    "# Save the trained model\n",
    "torch.save(trained_model.state_dict(), 'faster_rcnn_resnet50_boxes.pth')\n",
    "print(\"Model saved successfully!\")"
   ]
  },
  {
   "cell_type": "code",
   "execution_count": null,
   "metadata": {},
   "outputs": [],
   "source": [
    "# Inference function\n",
    "def predict(model, image_path, threshold=0.5):\n",
    "    # Load and transform image\n",
    "    image = Image.open(image_path).convert(\"RGB\")\n",
    "    transform = transforms.Compose([\n",
    "        transforms.ToTensor(),\n",
    "        transforms.Normalize(mean=[0.485, 0.456, 0.406], std=[0.229, 0.224, 0.225])\n",
    "    ])\n",
    "    image_tensor = transform(image).unsqueeze(0).to(device)\n",
    "    \n",
    "    # Set model to evaluation mode\n",
    "    model.eval()\n",
    "    \n",
    "    # Get predictions\n",
    "    with torch.no_grad():\n",
    "        predictions = model(image_tensor)\n",
    "    \n",
    "    # Get boxes, scores, and labels\n",
    "    boxes = predictions[0]['boxes'].cpu().numpy()\n",
    "    scores = predictions[0]['scores'].cpu().numpy()\n",
    "    labels = predictions[0]['labels'].cpu().numpy()\n",
    "    \n",
    "    # Filter by threshold\n",
    "    keep = scores >= threshold\n",
    "    boxes = boxes[keep]\n",
    "    scores = scores[keep]\n",
    "    labels = labels[keep]\n",
    "    \n",
    "    return image, boxes, scores, labels\n",
    "\n",
    "# Example of using the inference function\n",
    "def visualize_prediction(image_path, model, threshold=0.5):\n",
    "    image, boxes, scores, labels = predict(model, image_path, threshold)\n",
    "    \n",
    "    # Plot the image\n",
    "    plt.figure(figsize=(10, 10))\n",
    "    plt.imshow(image)\n",
    "    \n",
    "    # Plot each box\n",
    "    for box, score, label in zip(boxes, scores, labels):\n",
    "        x1, y1, x2, y2 = box\n",
    "        rect = plt.Rectangle((x1, y1), x2-x1, y2-y1, fill=False, color='red', linewidth=2)\n",
    "        plt.gca().add_patch(rect)\n",
    "        plt.text(x1, y1, f'Box: {score:.2f}', color='white', fontsize=12, \n",
    "                 bbox=dict(facecolor='red', alpha=0.5))\n",
    "    \n",
    "    plt.axis('off')\n",
    "    plt.show()\n",
    "\n",
    "# Example usage (uncomment to use after training)\n",
    "# test_image_path = '/path/to/test/image.jpg'\n",
    "# visualize_prediction(test_image_path, trained_model, threshold=0.5)"
   ]
  }
 ],
 "metadata": {
  "kernelspec": {
   "display_name": "venv",
   "language": "python",
   "name": "python3"
  },
  "language_info": {
   "codemirror_mode": {
    "name": "ipython",
    "version": 3
   },
   "file_extension": ".py",
   "mimetype": "text/x-python",
   "name": "python",
   "nbconvert_exporter": "python",
   "pygments_lexer": "ipython3",
   "version": "3.12.0"
  }
 },
 "nbformat": 4,
 "nbformat_minor": 2
}
